{
 "cells": [
  {
   "cell_type": "code",
   "execution_count": 1,
   "id": "8ce6b1dc-be57-4247-a04f-3344b4f0ca97",
   "metadata": {},
   "outputs": [],
   "source": [
    "import os, sys\n",
    "os.environ['HADOOP_CONF_DIR'] = '/etc/hadoop/conf'\n",
    "os.environ['YARN_CONF_DIR'] = '/etc/hadoop/conf'\n",
    "os.environ['PYSPARK_PYTHON'] =  'python3.9'\n",
    "os.environ['PYSPARK_DRIVER_PYTHON'] = 'python3.9'\n",
    "os.environ['HADOOP_USER_NAME']='ssenigov'\n",
    "\n",
    "from pyspark.sql import SparkSession\n",
    "from pyspark import SparkContext, SparkConf"
   ]
  },
  {
   "cell_type": "code",
   "execution_count": null,
   "id": "db7c2edf-43ce-4a2e-ac39-be7a1964b3e8",
   "metadata": {},
   "outputs": [],
   "source": [
    "conf = SparkConf().setAppName('StructType').setMaster('yarn') \n",
    "spark = SparkSession.builder.config(conf=conf).getOrCreate()"
   ]
  },
  {
   "cell_type": "code",
   "execution_count": 3,
   "id": "bc0eef5c-9cfb-4928-8be3-e62725eb57c9",
   "metadata": {},
   "outputs": [
    {
     "name": "stdout",
     "output_type": "stream",
     "text": [
      "Column<'struct(f1, f2, f3)'>\n"
     ]
    }
   ],
   "source": [
    "from pyspark.sql.functions import concat_ws, expr, struct, col, lit\n",
    "\n",
    "struct_col = struct('f1', 'f2', 'f3')\n",
    "print(struct_col)"
   ]
  },
  {
   "cell_type": "code",
   "execution_count": 4,
   "id": "5ef3e5a3-d39e-4458-9858-0319b590545c",
   "metadata": {
    "scrolled": true
   },
   "outputs": [
    {
     "name": "stderr",
     "output_type": "stream",
     "text": [
      "[Stage 1:>                                                          (0 + 1) / 1]\r"
     ]
    },
    {
     "name": "stdout",
     "output_type": "stream",
     "text": [
      "+---+---+-----+--------------+\n",
      "|f1 |f2 |f3   |struct_data   |\n",
      "+---+---+-----+--------------+\n",
      "|1  |aa |true |{1, aa, true} |\n",
      "|2  |bb |false|{2, bb, false}|\n",
      "|3  |cc |true |{3, cc, true} |\n",
      "+---+---+-----+--------------+\n",
      "\n"
     ]
    },
    {
     "name": "stderr",
     "output_type": "stream",
     "text": [
      "                                                                                \r"
     ]
    }
   ],
   "source": [
    "df = spark.createDataFrame(\n",
    "        [(1, 'aa', True), \n",
    "         (2, 'bb', False), \n",
    "         (3, 'cc', True)], \"f1: int, f2: string, f3: boolean\")\n",
    "\n",
    "df2 = df.withColumn('struct_data', struct_col)\n",
    "df2.show(truncate=False)"
   ]
  },
  {
   "cell_type": "code",
   "execution_count": 5,
   "id": "63fc8e14-d441-4d44-b484-7afa4f72c324",
   "metadata": {
    "scrolled": true
   },
   "outputs": [
    {
     "name": "stdout",
     "output_type": "stream",
     "text": [
      "+---+---+-----+----------------+\n",
      "|f1 |f2 |f3   |struct_data     |\n",
      "+---+---+-----+----------------+\n",
      "|1  |aa |true |{1, const, odd} |\n",
      "|2  |bb |false|{2, const, even}|\n",
      "|3  |cc |true |{3, const, odd} |\n",
      "+---+---+-----+----------------+\n",
      "\n",
      "root\n",
      " |-- f1: integer (nullable = true)\n",
      " |-- f2: string (nullable = true)\n",
      " |-- f3: boolean (nullable = true)\n",
      " |-- struct_data: struct (nullable = false)\n",
      " |    |-- f1: integer (nullable = true)\n",
      " |    |-- my_const: string (nullable = false)\n",
      " |    |-- parity: string (nullable = false)\n",
      "\n"
     ]
    }
   ],
   "source": [
    "struct_col = struct('f1', lit('const').alias('my_const'),  \n",
    "    expr(\"case when f1%2 = 0 then 'even' else 'odd' end\").alias('parity'))\n",
    "\n",
    "df3 = df.withColumn('struct_data', struct_col)\n",
    "df3.show(truncate=False)\n",
    "df3.printSchema()"
   ]
  },
  {
   "cell_type": "code",
   "execution_count": 6,
   "id": "ed5068b8-b044-4f46-b1c6-36f17f7e6cc7",
   "metadata": {},
   "outputs": [],
   "source": [
    "# Spark 3.5\n",
    "# struct_col = f.named_struct(lit('f1_renamed'), 'f1',\n",
    "#                             lit('f2_renamed'), 'f2', \n",
    "#                             lit('f3_renamed'), 'f3')\n",
    "# df4 = df.withColumn('struct_data', struct_col)\n",
    "# df4.show(truncate=False)\n",
    "# df4.printSchema()"
   ]
  },
  {
   "cell_type": "code",
   "execution_count": 7,
   "id": "63d3b6b9-8d72-4c5f-acb6-a4e4584983b5",
   "metadata": {},
   "outputs": [
    {
     "name": "stdout",
     "output_type": "stream",
     "text": [
      "+---+---+-----+--------------+---+------------+------------+------------+\n",
      "|f1 |f2 |f3   |struct_data   |f1 |f1_extracted|f2_extracted|f3_extracted|\n",
      "+---+---+-----+--------------+---+------------+------------+------------+\n",
      "|1  |aa |true |{1, aa, true} |1  |1           |aa          |true        |\n",
      "|2  |bb |false|{2, bb, false}|2  |2           |bb          |false       |\n",
      "|3  |cc |true |{3, cc, true} |3  |3           |cc          |true        |\n",
      "+---+---+-----+--------------+---+------------+------------+------------+\n",
      "\n"
     ]
    }
   ],
   "source": [
    "struct_col = struct('f1', 'f2', 'f3')\n",
    "\n",
    "df5 = df.withColumn('struct_data', struct_col)\n",
    "df5 = df5.select('f1', 'f2', 'f3', 'struct_data', \n",
    "                     'struct_data.f1',\n",
    "                     expr('struct_data.f1').alias('f1_extracted'),\n",
    "                     col('struct_data.f2').alias('f2_extracted'),\n",
    "                     df5.struct_data.f3.alias('f3_extracted'))\n",
    "\n",
    "df5.show(truncate=False)"
   ]
  },
  {
   "cell_type": "code",
   "execution_count": 8,
   "id": "4320b559-aea4-41eb-89d4-7398172beecd",
   "metadata": {},
   "outputs": [
    {
     "name": "stdout",
     "output_type": "stream",
     "text": [
      "+---+---+-----+-------------------+\n",
      "|f1 |f2 |f3   |concatenated_fields|\n",
      "+---+---+-----+-------------------+\n",
      "|1  |aa |true |1_aa_true          |\n",
      "|2  |bb |false|2_bb_false         |\n",
      "|3  |cc |true |3_cc_true          |\n",
      "+---+---+-----+-------------------+\n",
      "\n"
     ]
    }
   ],
   "source": [
    "struct_col = struct('f1', 'f2', 'f3')\n",
    "f_concat = concat_ws('_', struct_col.getField('f1'), \n",
    "                          struct_col.getField('f2'),\n",
    "                          struct_col.getField('f3'))\n",
    "\n",
    "df6 = df.withColumn('concatenated_fields', f_concat)\n",
    "df6.show(truncate=False)"
   ]
  },
  {
   "cell_type": "code",
   "execution_count": 9,
   "id": "aacc492d-7059-4e94-9006-45c49d2a4d24",
   "metadata": {},
   "outputs": [
    {
     "name": "stdout",
     "output_type": "stream",
     "text": [
      "+---+---+-----+--------------+------------------------------+\n",
      "|f1 |f2 |f3   |struct_col    |struct_col_new                |\n",
      "+---+---+-----+--------------+------------------------------+\n",
      "|1  |aa |true |{1, aa, true} |{1, aa_modified, true, added} |\n",
      "|2  |bb |false|{2, bb, false}|{2, bb_modified, false, added}|\n",
      "|3  |cc |true |{3, cc, true} |{3, cc_modified, true, added} |\n",
      "+---+---+-----+--------------+------------------------------+\n",
      "\n"
     ]
    }
   ],
   "source": [
    "struct_col = struct('f1', 'f2', 'f3')\n",
    "\n",
    "df7 = df.withColumn('struct_col', struct_col)\n",
    "df7 = df7.withColumn('struct_col_new', \n",
    "                    struct_col\\\n",
    "                 .withField('f2', concat_ws('_', \\\n",
    "                            struct_col.getField('f2'), lit('modified')))\\\n",
    "                 .withField('f4', lit('added'))\n",
    "                   )\n",
    "df7.show(truncate=False)"
   ]
  },
  {
   "cell_type": "code",
   "execution_count": 11,
   "id": "e244ed93-1a7d-452c-b8c2-b255d6656af3",
   "metadata": {},
   "outputs": [],
   "source": [
    "spark.stop()"
   ]
  }
 ],
 "metadata": {
  "kernelspec": {
   "display_name": "Python 3 (ipykernel)",
   "language": "python",
   "name": "python3"
  },
  "language_info": {
   "codemirror_mode": {
    "name": "ipython",
    "version": 3
   },
   "file_extension": ".py",
   "mimetype": "text/x-python",
   "name": "python",
   "nbconvert_exporter": "python",
   "pygments_lexer": "ipython3",
   "version": "3.9.16"
  }
 },
 "nbformat": 4,
 "nbformat_minor": 5
}
