{
 "cells": [
  {
   "cell_type": "code",
   "execution_count": 1,
   "id": "8ce6b1dc-be57-4247-a04f-3344b4f0ca97",
   "metadata": {},
   "outputs": [],
   "source": [
    "import os, sys\n",
    "os.environ['HADOOP_CONF_DIR'] = '/etc/hadoop/conf'\n",
    "os.environ['YARN_CONF_DIR'] = '/etc/hadoop/conf'\n",
    "os.environ['PYSPARK_PYTHON'] =  'python3.9'\n",
    "os.environ['PYSPARK_DRIVER_PYTHON'] = 'python3.9'\n",
    "os.environ['HADOOP_USER_NAME']='ssenigov'\n",
    "\n",
    "from pyspark.sql import SparkSession\n",
    "from pyspark import SparkConf"
   ]
  },
  {
   "cell_type": "code",
   "execution_count": null,
   "id": "db7c2edf-43ce-4a2e-ac39-be7a1964b3e8",
   "metadata": {},
   "outputs": [],
   "source": [
    "conf = SparkConf().setAppName('IsDistinctFrom').setMaster('yarn')\n",
    "spark = SparkSession.builder.config(conf=conf).getOrCreate()"
   ]
  },
  {
   "cell_type": "code",
   "execution_count": 3,
   "id": "2d8127ef-cc7f-4467-b992-02571b857b8d",
   "metadata": {},
   "outputs": [],
   "source": [
    "sql = \"\"\"\n",
    "   select * from values \n",
    "    (1, 'Anna',  1), \n",
    "    (2, 'Bob',   1), \n",
    "    (3, 'Cindy', Null),\n",
    "    (4, 'Lora', 0),\n",
    "    (5, 'Henry',  Null),\n",
    "    (6, 'John',  3) as (cust_id, cust_name, num_cars)\n",
    "\"\"\"\n",
    "spark.sql(sql).createOrReplaceTempView('tbl_num_cars')"
   ]
  },
  {
   "cell_type": "code",
   "execution_count": 4,
   "id": "c377ff58-80b3-4fde-b67c-ce4db523524f",
   "metadata": {},
   "outputs": [
    {
     "name": "stderr",
     "output_type": "stream",
     "text": [
      "                                                                                \r"
     ]
    },
    {
     "name": "stdout",
     "output_type": "stream",
     "text": [
      "+---------+--------+\n",
      "|cust_name|num_cars|\n",
      "+---------+--------+\n",
      "|     Anna|       1|\n",
      "|      Bob|       1|\n",
      "|    Cindy|    null|\n",
      "|     Lora|       0|\n",
      "|    Henry|    null|\n",
      "|     John|       3|\n",
      "+---------+--------+\n",
      "\n"
     ]
    }
   ],
   "source": [
    "spark.sql(\"\"\"\n",
    "  select cust_name, num_cars\n",
    "   from tbl_num_cars \n",
    "  order by cust_id \"\"\").show()"
   ]
  },
  {
   "cell_type": "code",
   "execution_count": 5,
   "id": "3051614c-dd2e-4747-af2b-a8e33560b93a",
   "metadata": {},
   "outputs": [
    {
     "name": "stdout",
     "output_type": "stream",
     "text": [
      "+---------+--------+\n",
      "|cust_name|num_cars|\n",
      "+---------+--------+\n",
      "|     Anna|       1|\n",
      "|      Bob|       1|\n",
      "|     John|       3|\n",
      "+---------+--------+\n",
      "\n"
     ]
    }
   ],
   "source": [
    "spark.sql(\"\"\"\n",
    "  select cust_name, num_cars\n",
    "   from tbl_num_cars\n",
    "  where num_cars > 0\n",
    "  order by cust_id \"\"\").show()"
   ]
  },
  {
   "cell_type": "code",
   "execution_count": 6,
   "id": "42d780e1-707c-4fa8-b148-1dc3e1866667",
   "metadata": {},
   "outputs": [
    {
     "name": "stdout",
     "output_type": "stream",
     "text": [
      "+---------+--------+\n",
      "|cust_name|num_cars|\n",
      "+---------+--------+\n",
      "|     Anna|       1|\n",
      "|      Bob|       1|\n",
      "|     John|       3|\n",
      "+---------+--------+\n",
      "\n"
     ]
    }
   ],
   "source": [
    "spark.sql(\"\"\"  \n",
    "  select cust_name, num_cars\n",
    "   from tbl_num_cars\n",
    "  where num_cars != 0 \n",
    "  order by cust_id \"\"\").show()"
   ]
  },
  {
   "cell_type": "code",
   "execution_count": 7,
   "id": "6099bd2b-b42f-442d-bdec-ec31805b206f",
   "metadata": {},
   "outputs": [
    {
     "name": "stdout",
     "output_type": "stream",
     "text": [
      "+---------+--------+\n",
      "|cust_name|num_cars|\n",
      "+---------+--------+\n",
      "|     Anna|       1|\n",
      "|      Bob|       1|\n",
      "|    Cindy|    null|\n",
      "|    Henry|    null|\n",
      "|     John|       3|\n",
      "+---------+--------+\n",
      "\n"
     ]
    }
   ],
   "source": [
    "spark.sql(\"\"\"\n",
    "  select cust_name, num_cars\n",
    "   from tbl_num_cars\n",
    "  where num_cars is distinct from 0 \n",
    "  order by cust_id \"\"\").show()"
   ]
  },
  {
   "cell_type": "code",
   "execution_count": 8,
   "id": "e244ed93-1a7d-452c-b8c2-b255d6656af3",
   "metadata": {},
   "outputs": [],
   "source": [
    "spark.stop()"
   ]
  }
 ],
 "metadata": {
  "kernelspec": {
   "display_name": "Python 3 (ipykernel)",
   "language": "python",
   "name": "python3"
  },
  "language_info": {
   "codemirror_mode": {
    "name": "ipython",
    "version": 3
   },
   "file_extension": ".py",
   "mimetype": "text/x-python",
   "name": "python",
   "nbconvert_exporter": "python",
   "pygments_lexer": "ipython3",
   "version": "3.9.16"
  }
 },
 "nbformat": 4,
 "nbformat_minor": 5
}
