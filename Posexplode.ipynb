{
 "cells": [
  {
   "cell_type": "code",
   "execution_count": 1,
   "id": "8ce6b1dc-be57-4247-a04f-3344b4f0ca97",
   "metadata": {},
   "outputs": [],
   "source": [
    "import os, sys\n",
    "os.environ['HADOOP_CONF_DIR'] = '/etc/hadoop/conf'\n",
    "os.environ['YARN_CONF_DIR'] = '/etc/hadoop/conf'\n",
    "os.environ['PYSPARK_PYTHON'] =  'python3.9'\n",
    "os.environ['PYSPARK_DRIVER_PYTHON'] = 'python3.9'\n",
    "os.environ['HADOOP_USER_NAME']='ssenigov'\n",
    "\n",
    "from pyspark.sql import SparkSession\n",
    "from pyspark import SparkContext, SparkConf"
   ]
  },
  {
   "cell_type": "code",
   "execution_count": 2,
   "id": "db7c2edf-43ce-4a2e-ac39-be7a1964b3e8",
   "metadata": {},
   "outputs": [
    {
     "name": "stderr",
     "output_type": "stream",
     "text": [
      "Setting default log level to \"WARN\".\n",
      "To adjust logging level use sc.setLogLevel(newLevel). For SparkR, use setLogLevel(newLevel).\n",
      "24/10/20 20:41:57 WARN NativeCodeLoader: Unable to load native-hadoop library for your platform... using builtin-java classes where applicable\n",
      "24/10/20 20:41:58 WARN Utils: Service 'SparkUI' could not bind on port 4040. Attempting port 4041.\n",
      "24/10/20 20:42:00 WARN DomainSocketFactory: The short-circuit local reads feature cannot be used because libhadoop cannot be loaded.\n",
      "24/10/20 20:42:00 WARN Client: Neither spark.yarn.jars nor spark.yarn.archive is set, falling back to uploading libraries under SPARK_HOME.\n"
     ]
    },
    {
     "name": "stdout",
     "output_type": "stream",
     "text": [
      "app_id                                   application_1727681258360_0015\n"
     ]
    }
   ],
   "source": [
    "conf = SparkConf().setAppName('Posexplode').setMaster('yarn')\\\n",
    "   .set('spark.sql.legacy.timeParserPolicy', 'LEGACY')\n",
    "spark = SparkSession.builder.config(conf=conf).getOrCreate()\n",
    "\n",
    "sc = spark.sparkContext\n",
    "print(\"app_id\".ljust(40), sc.applicationId)"
   ]
  },
  {
   "cell_type": "code",
   "execution_count": 4,
   "id": "048a81ce-870f-4850-b1d4-8fa791ebcba4",
   "metadata": {},
   "outputs": [
    {
     "name": "stdout",
     "output_type": "stream",
     "text": [
      "+---+----------+---------+\n",
      "|day|event_date| week_day|\n",
      "+---+----------+---------+\n",
      "|  1|2024-10-01|  Tuesday|\n",
      "|  2|2024-10-02|Wednesday|\n",
      "|  3|2024-10-03| Thursday|\n",
      "|  4|2024-10-04|   Friday|\n",
      "|  5|2024-10-05| Saturday|\n",
      "|  6|2024-10-06|   Sunday|\n",
      "|  7|2024-10-07|   Monday|\n",
      "|  8|2024-10-08|  Tuesday|\n",
      "|  9|2024-10-09|Wednesday|\n",
      "| 10|2024-10-10| Thursday|\n",
      "| 11|2024-10-11|   Friday|\n",
      "| 12|2024-10-12| Saturday|\n",
      "| 13|2024-10-13|   Sunday|\n",
      "| 14|2024-10-14|   Monday|\n",
      "| 15|2024-10-15|  Tuesday|\n",
      "| 16|2024-10-16|Wednesday|\n",
      "| 17|2024-10-17| Thursday|\n",
      "| 18|2024-10-18|   Friday|\n",
      "| 19|2024-10-19| Saturday|\n",
      "| 20|2024-10-20|   Sunday|\n",
      "| 21|2024-10-21|   Monday|\n",
      "| 22|2024-10-22|  Tuesday|\n",
      "| 23|2024-10-23|Wednesday|\n",
      "| 24|2024-10-24| Thursday|\n",
      "| 25|2024-10-25|   Friday|\n",
      "| 26|2024-10-26| Saturday|\n",
      "| 27|2024-10-27|   Sunday|\n",
      "| 28|2024-10-28|   Monday|\n",
      "| 29|2024-10-29|  Tuesday|\n",
      "| 30|2024-10-30|Wednesday|\n",
      "| 31|2024-10-31| Thursday|\n",
      "+---+----------+---------+\n",
      "only showing top 31 rows\n",
      "\n"
     ]
    }
   ],
   "source": [
    "from pyspark.sql.types import ArrayType, StructType, StructField, StringType, IntegerType, FloatType, DoubleType, DateType, LongType\n",
    "from pyspark.sql.functions import col, concat, date_format, to_date, split, lit\n",
    "\n",
    "df_list = spark.sql(\" select repeat(',', {num_days}) as seq\".format(num_days=31))\\\n",
    "    .withColumn('arr', split(col('seq'), ','))\\\n",
    "    .selectExpr(\"posexplode(arr)\").drop('col')\\\n",
    "    .withColumn('day', col('pos') + 1).drop('pos')\\\n",
    "    .withColumn('event_date', to_date(concat(lit('2024'), lit('10'), col('day')), 'yyyyMMdd'))\\\n",
    "    .withColumn('week_day', date_format(col('event_date'), 'EEEE').alias('week_day'))\n",
    "\n",
    "df_list.show(n=31)"
   ]
  },
  {
   "cell_type": "code",
   "execution_count": 5,
   "id": "e244ed93-1a7d-452c-b8c2-b255d6656af3",
   "metadata": {},
   "outputs": [],
   "source": [
    "spark.stop()"
   ]
  },
  {
   "cell_type": "code",
   "execution_count": null,
   "id": "05b5c2a7-9749-49a9-8835-2e2773f37894",
   "metadata": {},
   "outputs": [],
   "source": []
  }
 ],
 "metadata": {
  "kernelspec": {
   "display_name": "Python 3 (ipykernel)",
   "language": "python",
   "name": "python3"
  },
  "language_info": {
   "codemirror_mode": {
    "name": "ipython",
    "version": 3
   },
   "file_extension": ".py",
   "mimetype": "text/x-python",
   "name": "python",
   "nbconvert_exporter": "python",
   "pygments_lexer": "ipython3",
   "version": "3.9.16"
  }
 },
 "nbformat": 4,
 "nbformat_minor": 5
}
