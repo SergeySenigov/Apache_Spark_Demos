{
 "cells": [
  {
   "cell_type": "code",
   "execution_count": 1,
   "id": "8ce6b1dc-be57-4247-a04f-3344b4f0ca97",
   "metadata": {},
   "outputs": [],
   "source": [
    "import os, sys\n",
    "os.environ['HADOOP_CONF_DIR'] = '/etc/hadoop/conf'\n",
    "os.environ['YARN_CONF_DIR'] = '/etc/hadoop/conf'\n",
    "os.environ['PYSPARK_PYTHON'] =  'python3.9'\n",
    "os.environ['PYSPARK_DRIVER_PYTHON'] = 'python3.9'\n",
    "os.environ['HADOOP_USER_NAME']='ssenigov'\n",
    "\n",
    "from pyspark.sql import SparkSession\n",
    "from pyspark import SparkContext, SparkConf"
   ]
  },
  {
   "cell_type": "code",
   "execution_count": 2,
   "id": "db7c2edf-43ce-4a2e-ac39-be7a1964b3e8",
   "metadata": {},
   "outputs": [
    {
     "name": "stderr",
     "output_type": "stream",
     "text": [
      "Setting default log level to \"WARN\".\n",
      "To adjust logging level use sc.setLogLevel(newLevel). For SparkR, use setLogLevel(newLevel).\n",
      "24/12/24 20:01:21 WARN NativeCodeLoader: Unable to load native-hadoop library for your platform... using builtin-java classes where applicable\n",
      "24/12/24 20:01:23 WARN DomainSocketFactory: The short-circuit local reads feature cannot be used because libhadoop cannot be loaded.\n",
      "24/12/24 20:01:24 WARN Client: Neither spark.yarn.jars nor spark.yarn.archive is set, falling back to uploading libraries under SPARK_HOME.\n"
     ]
    }
   ],
   "source": [
    "conf = (SparkConf().setAppName('RepartitionWithColHash').setMaster('yarn') \\\n",
    "    .set('spark.sql.adaptive.enabled', 'false'))\n",
    "\n",
    "spark = SparkSession.builder.config(conf=conf).getOrCreate()"
   ]
  },
  {
   "cell_type": "code",
   "execution_count": 3,
   "id": "4951d792-aa84-4301-8507-07cf33bfc8d1",
   "metadata": {},
   "outputs": [
    {
     "name": "stdout",
     "output_type": "stream",
     "text": [
      "app_id                                   application_1727681258360_0051\n"
     ]
    }
   ],
   "source": [
    "sc = spark.sparkContext\n",
    "print(\"app_id\".ljust(40), sc.applicationId)"
   ]
  },
  {
   "cell_type": "code",
   "execution_count": 4,
   "id": "53c7d25f-ec12-4b8d-90ba-5c790da94c0d",
   "metadata": {},
   "outputs": [
    {
     "name": "stderr",
     "output_type": "stream",
     "text": [
      "                                                                                \r"
     ]
    }
   ],
   "source": [
    "from pyspark.sql.functions import spark_partition_id, count, collect_list, col\n",
    "# create DataFrame of length 40  \n",
    "data = [ [k] for k in range(0, 40) ] # transform to 2-D list\n",
    "df = spark.sparkContext.parallelize(data).toDF([\"item\"])\n",
    "# create a surrogate key to partition by - reminder of division by 5 (modulo)\n",
    "df = df.withColumn('partition_key', col('item') % 5) "
   ]
  },
  {
   "cell_type": "code",
   "execution_count": 5,
   "id": "5c954528-ab63-4fbb-86ee-84b514ea90b2",
   "metadata": {
    "scrolled": true
   },
   "outputs": [
    {
     "name": "stderr",
     "output_type": "stream",
     "text": [
      "[Stage 1:=============================>                             (1 + 1) / 2]\r"
     ]
    },
    {
     "name": "stdout",
     "output_type": "stream",
     "text": [
      "+-------------+-------------+------------------------------+\n",
      "|partition_num|partition_key|items_in_partition            |\n",
      "+-------------+-------------+------------------------------+\n",
      "|0            |2            |[2, 7, 12, 17, 22, 27, 32, 37]|\n",
      "|0            |4            |[4, 9, 14, 19, 24, 29, 34, 39]|\n",
      "|1            |0            |[20, 25, 30, 35, 0, 5, 10, 15]|\n",
      "|1            |1            |[21, 26, 31, 36, 1, 6, 11, 16]|\n",
      "|3            |3            |[23, 28, 33, 38, 3, 8, 13, 18]|\n",
      "+-------------+-------------+------------------------------+\n",
      "\n"
     ]
    },
    {
     "name": "stderr",
     "output_type": "stream",
     "text": [
      "                                                                                \r"
     ]
    }
   ],
   "source": [
    "# repartition to 4 partitions and by column 'partition_key'\n",
    "df4 = df.repartition(4, col('partition_key')).withColumn(\"partition_num\", spark_partition_id())\n",
    "\n",
    "df4.groupBy([\"partition_num\", \"partition_key\"]).agg(\n",
    "      collect_list('item').alias('items_in_partition')\\\n",
    "   ).orderBy(\"partition_num\").show(truncate=False)"
   ]
  },
  {
   "cell_type": "code",
   "execution_count": 6,
   "id": "75369868-6896-4b3c-9afd-686f94dd8549",
   "metadata": {
    "scrolled": true
   },
   "outputs": [
    {
     "name": "stdout",
     "output_type": "stream",
     "text": [
      "+-------------+-------------+------------------------------+\n",
      "|partition_num|partition_key|items_in_partition            |\n",
      "+-------------+-------------+------------------------------+\n",
      "|1            |0            |[20, 25, 30, 35, 0, 5, 10, 15]|\n",
      "|2            |2            |[2, 7, 12, 17, 22, 27, 32, 37]|\n",
      "|2            |4            |[4, 9, 14, 19, 24, 29, 34, 39]|\n",
      "|3            |3            |[3, 8, 13, 18, 23, 28, 33, 38]|\n",
      "|5            |1            |[21, 26, 31, 36, 1, 6, 11, 16]|\n",
      "+-------------+-------------+------------------------------+\n",
      "\n"
     ]
    }
   ],
   "source": [
    "# repartition to 6 partitions and by column 'partition_key'\n",
    "df6 = df.repartition(6, col('partition_key')).withColumn(\"partition_num\", spark_partition_id())\n",
    "\n",
    "df6.groupBy([\"partition_num\", \"partition_key\"]).agg(\n",
    "      collect_list('item').alias('items_in_partition')\\\n",
    "   ).orderBy(\"partition_num\").show(truncate=False)"
   ]
  },
  {
   "cell_type": "code",
   "execution_count": 6,
   "id": "e244ed93-1a7d-452c-b8c2-b255d6656af3",
   "metadata": {},
   "outputs": [],
   "source": [
    "spark.stop()"
   ]
  }
 ],
 "metadata": {
  "kernelspec": {
   "display_name": "Python 3 (ipykernel)",
   "language": "python",
   "name": "python3"
  },
  "language_info": {
   "codemirror_mode": {
    "name": "ipython",
    "version": 3
   },
   "file_extension": ".py",
   "mimetype": "text/x-python",
   "name": "python",
   "nbconvert_exporter": "python",
   "pygments_lexer": "ipython3",
   "version": "3.9.16"
  }
 },
 "nbformat": 4,
 "nbformat_minor": 5
}
