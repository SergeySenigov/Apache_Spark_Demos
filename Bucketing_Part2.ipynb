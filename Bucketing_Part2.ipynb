{
 "cells": [
  {
   "cell_type": "code",
   "execution_count": 1,
   "id": "8ce6b1dc-be57-4247-a04f-3344b4f0ca97",
   "metadata": {},
   "outputs": [],
   "source": [
    "import os, sys\n",
    "os.environ['HADOOP_CONF_DIR'] = '/etc/hadoop/conf'\n",
    "os.environ['YARN_CONF_DIR'] = '/etc/hadoop/conf'\n",
    "os.environ['PYSPARK_PYTHON'] =  'python3.9'\n",
    "os.environ['PYSPARK_DRIVER_PYTHON'] = 'python3.9'\n",
    "os.environ['HADOOP_USER_NAME']='ssenigov'\n",
    "\n",
    "from pyspark.sql import SparkSession\n",
    "from pyspark import SparkContext, SparkConf"
   ]
  },
  {
   "cell_type": "code",
   "execution_count": null,
   "id": "db7c2edf-43ce-4a2e-ac39-be7a1964b3e8",
   "metadata": {},
   "outputs": [],
   "source": [
    "conf = (SparkConf().setAppName('Bucketing_Part2').setMaster('yarn') \n",
    "    .set(\"spark.sql.autoBroadcastJoinThreshold\", -1)  \n",
    "    .set(\"spark.sql.warehouse.dir\", 'hdfs:/users/ssenigov/spark_warehouse') \n",
    "    .set(\"sql.legacy.bucketedTableScan.outputOrdering\", True))\n",
    "spark = SparkSession.builder.config(conf=conf).enableHiveSupport().getOrCreate()\n",
    "print(\"app_id\".ljust(40), spark.sparkContext.applicationId)"
   ]
  },
  {
   "cell_type": "code",
   "execution_count": 3,
   "id": "77b33542-c7dd-4a63-b153-ef2e529671e4",
   "metadata": {},
   "outputs": [
    {
     "name": "stderr",
     "output_type": "stream",
     "text": [
      "                                                                                \r"
     ]
    }
   ],
   "source": [
    "from faker import Faker\n",
    "from pyspark.sql import Row\n",
    "import random\n",
    "\n",
    "# create data with faker module and make two sample dataframes with 10000 and 5000 rows \n",
    "fake = Faker()\n",
    "Faker.seed(0)\n",
    "\n",
    "people1 = [ Row(fake.first_name(), fake.last_name(), random.randint(1, 7)) for _ in range(10000)]\n",
    "people2 = [ Row(fake.first_name(), fake.last_name(), random.randint(1, 7)) for _ in range(5000)]\n",
    "\n",
    "df1 = spark.sparkContext.parallelize(people1, 2).toDF([\"first_name\", \"last_name\", 'birth_wd'])\n",
    "df2 = spark.sparkContext.parallelize(people2, 2).toDF([\"first_name\", \"last_name\", 'birth_wd'])"
   ]
  },
  {
   "cell_type": "code",
   "execution_count": 4,
   "id": "676886ed-9959-4b77-af4d-6404e8a3bccf",
   "metadata": {},
   "outputs": [],
   "source": [
    "dfrp1 = df1.repartition('first_name')\n",
    "dfrp2 = df2.repartition('first_name')"
   ]
  },
  {
   "cell_type": "code",
   "execution_count": 5,
   "id": "d36f6f23-d25f-4dcf-87c4-2bf9013f1751",
   "metadata": {},
   "outputs": [
    {
     "name": "stderr",
     "output_type": "stream",
     "text": [
      "                                                                                \r"
     ]
    }
   ],
   "source": [
    "dfrp1.write.bucketBy(5, 'first_name').mode(\"overwrite\")\\\n",
    "  .saveAsTable('bucketed_people_rp_1', path='hdfs:/users/ssenigov/spark_warehouse/bprp1') ,\n",
    "\n",
    "dfrp2.write.bucketBy(5, 'first_name').mode(\"overwrite\")\\\n",
    "  .saveAsTable('bucketed_people_rp_2', path='hdfs:/users/ssenigov/spark_warehouse/bprp2')"
   ]
  },
  {
   "cell_type": "code",
   "execution_count": 6,
   "id": "eadb42cc-4e86-425a-8e32-1895a0b05ac1",
   "metadata": {},
   "outputs": [],
   "source": [
    "df_bucketed_people_1 = spark.table(\"bucketed_people_rp_1\")\n",
    "df_bucketed_people_2 = spark.table(\"bucketed_people_rp_2\")"
   ]
  },
  {
   "cell_type": "code",
   "execution_count": 7,
   "id": "a24c1c47-ac73-440e-8f96-26b3bf776006",
   "metadata": {},
   "outputs": [
    {
     "name": "stderr",
     "output_type": "stream",
     "text": [
      "                                                                                \r"
     ]
    }
   ],
   "source": [
    "dfrp1.write.bucketBy(5, 'first_name').partitionBy('birth_wd').mode(\"overwrite\")\\\n",
    "  .saveAsTable('bucketed_people_rp_1', path='hdfs:/users/ssenigov/spark_warehouse/bpprp1') ,\n",
    "\n",
    "dfrp2.write.bucketBy(5, 'first_name').partitionBy('birth_wd').mode(\"overwrite\")\\\n",
    "  .saveAsTable('bucketed_people_rp_2', path='hdfs:/users/ssenigov/spark_warehouse/bpprp2')"
   ]
  },
  {
   "cell_type": "code",
   "execution_count": 8,
   "id": "e244ed93-1a7d-452c-b8c2-b255d6656af3",
   "metadata": {},
   "outputs": [],
   "source": [
    "spark.stop()"
   ]
  }
 ],
 "metadata": {
  "kernelspec": {
   "display_name": "Python 3 (ipykernel)",
   "language": "python",
   "name": "python3"
  },
  "language_info": {
   "codemirror_mode": {
    "name": "ipython",
    "version": 3
   },
   "file_extension": ".py",
   "mimetype": "text/x-python",
   "name": "python",
   "nbconvert_exporter": "python",
   "pygments_lexer": "ipython3",
   "version": "3.9.16"
  }
 },
 "nbformat": 4,
 "nbformat_minor": 5
}
