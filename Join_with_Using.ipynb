{
 "cells": [
  {
   "cell_type": "code",
   "execution_count": 1,
   "id": "8ce6b1dc-be57-4247-a04f-3344b4f0ca97",
   "metadata": {},
   "outputs": [],
   "source": [
    "import os, sys\n",
    "os.environ['HADOOP_CONF_DIR'] = '/etc/hadoop/conf'\n",
    "os.environ['YARN_CONF_DIR'] = '/etc/hadoop/conf'\n",
    "os.environ['PYSPARK_PYTHON'] =  'python3.9'\n",
    "os.environ['PYSPARK_DRIVER_PYTHON'] = 'python3.9'\n",
    "os.environ['HADOOP_USER_NAME']='ssenigov'\n",
    "\n",
    "from pyspark.sql import SparkSession\n",
    "from pyspark import SparkContext, SparkConf"
   ]
  },
  {
   "cell_type": "code",
   "execution_count": null,
   "id": "db7c2edf-43ce-4a2e-ac39-be7a1964b3e8",
   "metadata": {},
   "outputs": [],
   "source": [
    "conf = SparkConf().setAppName('Join_with_Using').setMaster('yarn') \n",
    "spark = SparkSession.builder.config(conf=conf).getOrCreate()"
   ]
  },
  {
   "cell_type": "markdown",
   "id": "63995a1c-1a9c-41d1-8985-d61ca2e62dbf",
   "metadata": {},
   "source": [
    "<!-- # original:\n",
    "+----+---+-----+\n",
    "|year|qrt|  num|\n",
    "+----+---+-----+\n",
    "|2022|  2|    3|\n",
    "|2022|  3|    5|\n",
    "|2022|  3|    1|\n",
    "|2021|  3|    3|\n",
    "|2021|  1|    2|\n",
    "+----+---+-----+\n",
    "\n",
    "# pivoted:\n",
    "+----+------------+------------+------------+------------+\n",
    "|year|qrt1_sum_num|qrt2_sum_num|qrt3_sum_num|qrt4_sum_num|\n",
    "+----+------------+------------+------------+------------+\n",
    "|2022|        null|           3|           6|        null|\n",
    "|2021|           2|        null|           3|        null|\n",
    "+----+------------+------------+------------+------------+ -->"
   ]
  },
  {
   "cell_type": "code",
   "execution_count": 36,
   "id": "4275ebf6-b5bc-4e96-952b-dd94b1782ffe",
   "metadata": {},
   "outputs": [],
   "source": [
    "from pyspark.sql.functions import rand, lit\n",
    "from pyspark.sql.types import IntegerType\n",
    "\n",
    "# create sample DataFrame with quartal data\n",
    "df = spark.range(1000)\n",
    "df = df.withColumn('quarter', (4*rand()).cast(IntegerType())%4+1)\n",
    "df = df.withColumn('year', lit(2025))\n",
    "# create table to address it in sql\n",
    "df.createOrReplaceTempView(\"t_quarter_data\") \n",
    "\n",
    "# create sample DataFrame with quartals names\n",
    "sql = \"\"\"\n",
    "   select * from values \n",
    "    (2025, 1, 'Q1 2025'), (2025, 2, 'Q2 2025'), \n",
    "    (2025, 3, 'Q3 2025'), (2025, 4, 'Q4 2025') \n",
    "             as (year, quarter, quarter_name) \"\"\"\n",
    "spark.sql(sql).createOrReplaceTempView(\"t_quarter_names\")"
   ]
  },
  {
   "cell_type": "code",
   "execution_count": 48,
   "id": "8316ccc4-b76f-462e-a5a9-3b3fa8173964",
   "metadata": {},
   "outputs": [
    {
     "name": "stdout",
     "output_type": "stream",
     "text": [
      "+------------+---+\n",
      "|quarter_name|cnt|\n",
      "+------------+---+\n",
      "|Q1 2025     |272|\n",
      "|Q2 2025     |243|\n",
      "|Q3 2025     |242|\n",
      "|Q4 2025     |243|\n",
      "+------------+---+\n",
      "\n"
     ]
    }
   ],
   "source": [
    "sql = \"\"\" \n",
    "  select \n",
    "    t_quarter_names.quarter_name, count(1) cnt\n",
    "  from t_quarter_data join t_quarter_names\n",
    "        using (year, quarter) \n",
    "  group by t_quarter_names.quarter_name\n",
    "  order by t_quarter_names.quarter_name \"\"\"\n",
    "\n",
    "spark.sql(sql).show(truncate=False)"
   ]
  },
  {
   "cell_type": "code",
   "execution_count": 49,
   "id": "7b2fa5ee-d5a0-40a9-8226-357f901a7d50",
   "metadata": {},
   "outputs": [
    {
     "ename": "AnalysisException",
     "evalue": "[UNRESOLVED_USING_COLUMN_FOR_JOIN] USING column `quarter_name` cannot be resolved on the left side of the join. The left-side columns: [`id`, `quarter`, `year`].",
     "output_type": "error",
     "traceback": [
      "\u001b[0;31m---------------------------------------------------------------------------\u001b[0m",
      "\u001b[0;31mAnalysisException\u001b[0m                         Traceback (most recent call last)",
      "Cell \u001b[0;32mIn[49], line 9\u001b[0m\n\u001b[1;32m      1\u001b[0m sql \u001b[38;5;241m=\u001b[39m \u001b[38;5;124m\"\"\"\u001b[39m\u001b[38;5;124m \u001b[39m\n\u001b[1;32m      2\u001b[0m \u001b[38;5;124m  select \u001b[39m\n\u001b[1;32m      3\u001b[0m \u001b[38;5;124m    t_quarter_names.quarter_name, count(1) cnt\u001b[39m\n\u001b[0;32m   (...)\u001b[0m\n\u001b[1;32m      6\u001b[0m \u001b[38;5;124m  group by t_quarter_names.quarter_name\u001b[39m\n\u001b[1;32m      7\u001b[0m \u001b[38;5;124m  order by t_quarter_names.quarter_name \u001b[39m\u001b[38;5;124m\"\"\"\u001b[39m\n\u001b[0;32m----> 9\u001b[0m \u001b[43mspark\u001b[49m\u001b[38;5;241;43m.\u001b[39;49m\u001b[43msql\u001b[49m\u001b[43m(\u001b[49m\u001b[43msql\u001b[49m\u001b[43m)\u001b[49m\u001b[38;5;241m.\u001b[39mshow(truncate\u001b[38;5;241m=\u001b[39m\u001b[38;5;28;01mFalse\u001b[39;00m)\n",
      "File \u001b[0;32m/usr/local/lib/python3.9/site-packages/pyspark/sql/session.py:1440\u001b[0m, in \u001b[0;36mSparkSession.sql\u001b[0;34m(self, sqlQuery, args, **kwargs)\u001b[0m\n\u001b[1;32m   1438\u001b[0m \u001b[38;5;28;01mtry\u001b[39;00m:\n\u001b[1;32m   1439\u001b[0m     litArgs \u001b[38;5;241m=\u001b[39m {k: _to_java_column(lit(v)) \u001b[38;5;28;01mfor\u001b[39;00m k, v \u001b[38;5;129;01min\u001b[39;00m (args \u001b[38;5;129;01mor\u001b[39;00m {})\u001b[38;5;241m.\u001b[39mitems()}\n\u001b[0;32m-> 1440\u001b[0m     \u001b[38;5;28;01mreturn\u001b[39;00m DataFrame(\u001b[38;5;28;43mself\u001b[39;49m\u001b[38;5;241;43m.\u001b[39;49m\u001b[43m_jsparkSession\u001b[49m\u001b[38;5;241;43m.\u001b[39;49m\u001b[43msql\u001b[49m\u001b[43m(\u001b[49m\u001b[43msqlQuery\u001b[49m\u001b[43m,\u001b[49m\u001b[43m \u001b[49m\u001b[43mlitArgs\u001b[49m\u001b[43m)\u001b[49m, \u001b[38;5;28mself\u001b[39m)\n\u001b[1;32m   1441\u001b[0m \u001b[38;5;28;01mfinally\u001b[39;00m:\n\u001b[1;32m   1442\u001b[0m     \u001b[38;5;28;01mif\u001b[39;00m \u001b[38;5;28mlen\u001b[39m(kwargs) \u001b[38;5;241m>\u001b[39m \u001b[38;5;241m0\u001b[39m:\n",
      "File \u001b[0;32m/usr/local/lib/python3.9/site-packages/py4j/java_gateway.py:1322\u001b[0m, in \u001b[0;36mJavaMember.__call__\u001b[0;34m(self, *args)\u001b[0m\n\u001b[1;32m   1316\u001b[0m command \u001b[38;5;241m=\u001b[39m proto\u001b[38;5;241m.\u001b[39mCALL_COMMAND_NAME \u001b[38;5;241m+\u001b[39m\\\n\u001b[1;32m   1317\u001b[0m     \u001b[38;5;28mself\u001b[39m\u001b[38;5;241m.\u001b[39mcommand_header \u001b[38;5;241m+\u001b[39m\\\n\u001b[1;32m   1318\u001b[0m     args_command \u001b[38;5;241m+\u001b[39m\\\n\u001b[1;32m   1319\u001b[0m     proto\u001b[38;5;241m.\u001b[39mEND_COMMAND_PART\n\u001b[1;32m   1321\u001b[0m answer \u001b[38;5;241m=\u001b[39m \u001b[38;5;28mself\u001b[39m\u001b[38;5;241m.\u001b[39mgateway_client\u001b[38;5;241m.\u001b[39msend_command(command)\n\u001b[0;32m-> 1322\u001b[0m return_value \u001b[38;5;241m=\u001b[39m \u001b[43mget_return_value\u001b[49m\u001b[43m(\u001b[49m\n\u001b[1;32m   1323\u001b[0m \u001b[43m    \u001b[49m\u001b[43manswer\u001b[49m\u001b[43m,\u001b[49m\u001b[43m \u001b[49m\u001b[38;5;28;43mself\u001b[39;49m\u001b[38;5;241;43m.\u001b[39;49m\u001b[43mgateway_client\u001b[49m\u001b[43m,\u001b[49m\u001b[43m \u001b[49m\u001b[38;5;28;43mself\u001b[39;49m\u001b[38;5;241;43m.\u001b[39;49m\u001b[43mtarget_id\u001b[49m\u001b[43m,\u001b[49m\u001b[43m \u001b[49m\u001b[38;5;28;43mself\u001b[39;49m\u001b[38;5;241;43m.\u001b[39;49m\u001b[43mname\u001b[49m\u001b[43m)\u001b[49m\n\u001b[1;32m   1325\u001b[0m \u001b[38;5;28;01mfor\u001b[39;00m temp_arg \u001b[38;5;129;01min\u001b[39;00m temp_args:\n\u001b[1;32m   1326\u001b[0m     \u001b[38;5;28;01mif\u001b[39;00m \u001b[38;5;28mhasattr\u001b[39m(temp_arg, \u001b[38;5;124m\"\u001b[39m\u001b[38;5;124m_detach\u001b[39m\u001b[38;5;124m\"\u001b[39m):\n",
      "File \u001b[0;32m/usr/local/lib/python3.9/site-packages/pyspark/errors/exceptions/captured.py:175\u001b[0m, in \u001b[0;36mcapture_sql_exception.<locals>.deco\u001b[0;34m(*a, **kw)\u001b[0m\n\u001b[1;32m    171\u001b[0m converted \u001b[38;5;241m=\u001b[39m convert_exception(e\u001b[38;5;241m.\u001b[39mjava_exception)\n\u001b[1;32m    172\u001b[0m \u001b[38;5;28;01mif\u001b[39;00m \u001b[38;5;129;01mnot\u001b[39;00m \u001b[38;5;28misinstance\u001b[39m(converted, UnknownException):\n\u001b[1;32m    173\u001b[0m     \u001b[38;5;66;03m# Hide where the exception came from that shows a non-Pythonic\u001b[39;00m\n\u001b[1;32m    174\u001b[0m     \u001b[38;5;66;03m# JVM exception message.\u001b[39;00m\n\u001b[0;32m--> 175\u001b[0m     \u001b[38;5;28;01mraise\u001b[39;00m converted \u001b[38;5;28;01mfrom\u001b[39;00m \u001b[38;5;28;01mNone\u001b[39;00m\n\u001b[1;32m    176\u001b[0m \u001b[38;5;28;01melse\u001b[39;00m:\n\u001b[1;32m    177\u001b[0m     \u001b[38;5;28;01mraise\u001b[39;00m\n",
      "\u001b[0;31mAnalysisException\u001b[0m: [UNRESOLVED_USING_COLUMN_FOR_JOIN] USING column `quarter_name` cannot be resolved on the left side of the join. The left-side columns: [`id`, `quarter`, `year`]."
     ]
    }
   ],
   "source": [
    "sql = \"\"\" \n",
    "  select \n",
    "    t_quarter_names.quarter_name, count(1) cnt\n",
    "  from t_quarter_data join t_quarter_names\n",
    "        using (quarter_name) \n",
    "  group by t_quarter_names.quarter_name\n",
    "  order by t_quarter_names.quarter_name \"\"\"\n",
    "\n",
    "spark.sql(sql).show(truncate=False)\n",
    "# AnalysisException: [UNRESOLVED_USING_COLUMN_FOR_JOIN] \n",
    "# USING column `quarter_name` cannot be resolved \n",
    "# on the left side of the join. \n",
    "# The left-side columns: [`id`, `quarter`, `year`]."
   ]
  },
  {
   "cell_type": "code",
   "execution_count": 50,
   "id": "e244ed93-1a7d-452c-b8c2-b255d6656af3",
   "metadata": {},
   "outputs": [],
   "source": [
    "spark.stop()"
   ]
  }
 ],
 "metadata": {
  "kernelspec": {
   "display_name": "Python 3 (ipykernel)",
   "language": "python",
   "name": "python3"
  },
  "language_info": {
   "codemirror_mode": {
    "name": "ipython",
    "version": 3
   },
   "file_extension": ".py",
   "mimetype": "text/x-python",
   "name": "python",
   "nbconvert_exporter": "python",
   "pygments_lexer": "ipython3",
   "version": "3.9.16"
  }
 },
 "nbformat": 4,
 "nbformat_minor": 5
}
