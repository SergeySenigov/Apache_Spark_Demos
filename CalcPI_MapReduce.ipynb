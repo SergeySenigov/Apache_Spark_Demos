{
 "cells": [
  {
   "cell_type": "code",
   "execution_count": 1,
   "id": "8ce6b1dc-be57-4247-a04f-3344b4f0ca97",
   "metadata": {},
   "outputs": [],
   "source": [
    "import os, sys\n",
    "os.environ['HADOOP_CONF_DIR'] = '/etc/hadoop/conf'\n",
    "os.environ['YARN_CONF_DIR'] = '/etc/hadoop/conf'\n",
    "os.environ['PYSPARK_PYTHON'] =  'python3.9'\n",
    "os.environ['PYSPARK_DRIVER_PYTHON'] = 'python3.9'\n",
    "os.environ['HADOOP_USER_NAME']='ssenigov'\n",
    "\n",
    "from pyspark.sql import SparkSession\n",
    "from pyspark import SparkContext, SparkConf"
   ]
  },
  {
   "cell_type": "code",
   "execution_count": 2,
   "id": "db7c2edf-43ce-4a2e-ac39-be7a1964b3e8",
   "metadata": {},
   "outputs": [
    {
     "name": "stderr",
     "output_type": "stream",
     "text": [
      "Setting default log level to \"WARN\".\n",
      "To adjust logging level use sc.setLogLevel(newLevel). For SparkR, use setLogLevel(newLevel).\n",
      "24/11/09 10:47:48 WARN NativeCodeLoader: Unable to load native-hadoop library for your platform... using builtin-java classes where applicable\n",
      "24/11/09 10:47:49 WARN Utils: Service 'SparkUI' could not bind on port 4040. Attempting port 4041.\n",
      "24/11/09 10:47:49 WARN Utils: Service 'SparkUI' could not bind on port 4041. Attempting port 4042.\n",
      "24/11/09 10:47:49 WARN Utils: Service 'SparkUI' could not bind on port 4042. Attempting port 4043.\n",
      "24/11/09 10:47:49 WARN Utils: Service 'SparkUI' could not bind on port 4043. Attempting port 4044.\n",
      "24/11/09 10:47:50 WARN DomainSocketFactory: The short-circuit local reads feature cannot be used because libhadoop cannot be loaded.\n",
      "24/11/09 10:47:51 WARN Client: Neither spark.yarn.jars nor spark.yarn.archive is set, falling back to uploading libraries under SPARK_HOME.\n"
     ]
    },
    {
     "name": "stdout",
     "output_type": "stream",
     "text": [
      "app_id                                   application_1727681258360_0026\n"
     ]
    }
   ],
   "source": [
    "conf = SparkConf().setAppName('CalcPI_MapReduce').setMaster('yarn')\n",
    "spark = SparkSession.builder.config(conf=conf).getOrCreate()\n",
    "\n",
    "sc = spark.sparkContext\n",
    "print(\"app_id\".ljust(40), sc.applicationId)"
   ]
  },
  {
   "cell_type": "code",
   "execution_count": 9,
   "id": "c78ba495-3da2-4787-99f4-476e14fe7831",
   "metadata": {},
   "outputs": [],
   "source": [
    "length = 10000000  \n",
    "part_num = 100\n",
    "rdd = spark.sparkContext.parallelize(range(0, length), part_num)"
   ]
  },
  {
   "cell_type": "code",
   "execution_count": 13,
   "id": "db7a1084-3093-4564-98b1-e1c812aba139",
   "metadata": {},
   "outputs": [],
   "source": [
    "import random, math\n",
    "\n",
    "def pi_map(_):\n",
    "    return 1 if math.pow(random.random(), 2) + math.pow(random.random(), 2) <1 else 0\n",
    "    \n",
    "rdd_mapped = rdd.map(pi_map)"
   ]
  },
  {
   "cell_type": "code",
   "execution_count": 15,
   "id": "adedfa37-463a-4dae-9fda-8f452d8657f9",
   "metadata": {},
   "outputs": [
    {
     "name": "stderr",
     "output_type": "stream",
     "text": [
      "[Stage 4:=======================================================>(99 + 1) / 100]\r"
     ]
    },
    {
     "name": "stdout",
     "output_type": "stream",
     "text": [
      "pi approx equals 3.1413388\n"
     ]
    },
    {
     "name": "stderr",
     "output_type": "stream",
     "text": [
      "                                                                                \r"
     ]
    }
   ],
   "source": [
    "def pi_reduce(a, value):\n",
    "    return a + value\n",
    "    \n",
    "result = rdd_mapped.reduce(pi_reduce)\n",
    "pi = result/(length*0.25)\n",
    "print('pi approx equals', pi)"
   ]
  },
  {
   "cell_type": "code",
   "execution_count": 8,
   "id": "e244ed93-1a7d-452c-b8c2-b255d6656af3",
   "metadata": {},
   "outputs": [],
   "source": [
    "spark.stop()"
   ]
  }
 ],
 "metadata": {
  "kernelspec": {
   "display_name": "Python 3 (ipykernel)",
   "language": "python",
   "name": "python3"
  },
  "language_info": {
   "codemirror_mode": {
    "name": "ipython",
    "version": 3
   },
   "file_extension": ".py",
   "mimetype": "text/x-python",
   "name": "python",
   "nbconvert_exporter": "python",
   "pygments_lexer": "ipython3",
   "version": "3.9.16"
  }
 },
 "nbformat": 4,
 "nbformat_minor": 5
}
