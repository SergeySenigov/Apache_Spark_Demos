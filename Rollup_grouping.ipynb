{
 "cells": [
  {
   "cell_type": "code",
   "execution_count": 1,
   "id": "8ce6b1dc-be57-4247-a04f-3344b4f0ca97",
   "metadata": {},
   "outputs": [],
   "source": [
    "import os, sys\n",
    "os.environ['HADOOP_CONF_DIR'] = '/etc/hadoop/conf'\n",
    "os.environ['YARN_CONF_DIR'] = '/etc/hadoop/conf'\n",
    "os.environ['PYSPARK_PYTHON'] =  'python3.9'\n",
    "os.environ['PYSPARK_DRIVER_PYTHON'] = 'python3.9'\n",
    "os.environ['HADOOP_USER_NAME']='ssenigov'\n",
    "\n",
    "from pyspark.sql import SparkSession\n",
    "from pyspark import SparkContext, SparkConf"
   ]
  },
  {
   "cell_type": "code",
   "execution_count": 2,
   "id": "db7c2edf-43ce-4a2e-ac39-be7a1964b3e8",
   "metadata": {},
   "outputs": [
    {
     "name": "stderr",
     "output_type": "stream",
     "text": [
      "Setting default log level to \"WARN\".\n",
      "To adjust logging level use sc.setLogLevel(newLevel). For SparkR, use setLogLevel(newLevel).\n",
      "25/01/11 23:28:43 WARN NativeCodeLoader: Unable to load native-hadoop library for your platform... using builtin-java classes where applicable\n",
      "25/01/11 23:28:44 WARN Utils: Service 'SparkUI' could not bind on port 4040. Attempting port 4041.\n",
      "25/01/11 23:28:45 WARN DomainSocketFactory: The short-circuit local reads feature cannot be used because libhadoop cannot be loaded.\n",
      "25/01/11 23:28:45 WARN Client: Neither spark.yarn.jars nor spark.yarn.archive is set, falling back to uploading libraries under SPARK_HOME.\n"
     ]
    },
    {
     "name": "stdout",
     "output_type": "stream",
     "text": [
      "app_id                                   application_1727681258360_0102\n"
     ]
    }
   ],
   "source": [
    "conf = SparkConf().setAppName('Rollup_grouping').setMaster('yarn')\n",
    "spark = SparkSession.builder.config(conf=conf).getOrCreate()\n",
    "print('app_id'.ljust(40), spark.sparkContext.applicationId)"
   ]
  },
  {
   "cell_type": "code",
   "execution_count": 3,
   "id": "a9ceb5e2-51d6-4f01-8a51-e1b5ff6d5a52",
   "metadata": {},
   "outputs": [
    {
     "name": "stderr",
     "output_type": "stream",
     "text": [
      "                                                                                \r"
     ]
    },
    {
     "name": "stdout",
     "output_type": "stream",
     "text": [
      "+---------+---------+--------------+------------------+\n",
      "|flight   |name     |luggage_weight|luggage_overweight|\n",
      "+---------+---------+--------------+------------------+\n",
      "|Flight 1 |Pax 1    |9             |                  |\n",
      "|Flight 1 |Pax 2    |16            |                  |\n",
      "|Flight 1 |Pax 3    |20            |                  |\n",
      "|Flight 1 |Pax 4    |25            |                  |\n",
      "|Flight 1 |__TOTAL__|70            | Y                |\n",
      "|Flight 2 |Pax 5    |6             |                  |\n",
      "|Flight 2 |Pax 6    |5             |                  |\n",
      "|Flight 2 |Pax 7    |30            |                  |\n",
      "|Flight 2 |Pax 8    |5             |                  |\n",
      "|Flight 2 |__TOTAL__|46            |                  |\n",
      "|Flight 3 |Pax 10   |18            |                  |\n",
      "|Flight 3 |Pax 11   |7             |                  |\n",
      "|Flight 3 |Pax 8    |4             |                  |\n",
      "|Flight 3 |Pax 9    |6             |                  |\n",
      "|Flight 3 |__TOTAL__|35            |                  |\n",
      "|__TOTAL__|__TOTAL__|151           |                  |\n",
      "+---------+---------+--------------+------------------+\n",
      "\n"
     ]
    }
   ],
   "source": [
    "from pyspark.sql.functions import grouping, sum, col, expr\n",
    "\n",
    "df = spark.createDataFrame(\n",
    " [ ('Flight 1', 'Pax 1', 9), ('Flight 1', 'Pax 2', 16), \n",
    "       ('Flight 1', 'Pax 3', 20), ('Flight 1', 'Pax 4', 25),\n",
    "   ('Flight 2', 'Pax 5', 6), ('Flight 2', 'Pax 6', 5), \n",
    "       ('Flight 2', 'Pax 7', 30), ('Flight 2', 'Pax 8', 5), \n",
    "   ('Flight 3', 'Pax 9', 6), ('Flight 3', 'Pax 10', 18), \n",
    "       ('Flight 3', 'Pax 11', 7), ('Flight 3', 'Pax 8', 4)], \n",
    "     ('flight', 'name', 'luggage_weight'))\n",
    "\n",
    "df.rollup('flight', 'name').agg(\n",
    "         sum('luggage_weight').alias('luggage_weight'),\n",
    "         grouping('flight').alias('gr_flight_num'),\n",
    "         grouping('name').alias('gr_name'),\n",
    "         expr('case when sum(luggage_weight)>=50 \\\n",
    "               and gr_flight_num=0 and gr_name=1 then \" Y\" else \"\" end ').alias('luggage_overweight'))\\\n",
    "   .orderBy(col('flight').asc_nulls_last(), col('name').asc_nulls_last())\\\n",
    "   .na.fill('__TOTAL__')\\\n",
    "   .select('flight', 'name', 'luggage_weight', 'luggage_overweight').show(truncate=False)"
   ]
  },
  {
   "cell_type": "code",
   "execution_count": 4,
   "id": "e244ed93-1a7d-452c-b8c2-b255d6656af3",
   "metadata": {},
   "outputs": [],
   "source": [
    "# spark.stop()"
   ]
  }
 ],
 "metadata": {
  "kernelspec": {
   "display_name": "Python 3 (ipykernel)",
   "language": "python",
   "name": "python3"
  },
  "language_info": {
   "codemirror_mode": {
    "name": "ipython",
    "version": 3
   },
   "file_extension": ".py",
   "mimetype": "text/x-python",
   "name": "python",
   "nbconvert_exporter": "python",
   "pygments_lexer": "ipython3",
   "version": "3.9.16"
  }
 },
 "nbformat": 4,
 "nbformat_minor": 5
}
