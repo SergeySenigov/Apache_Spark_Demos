{
 "cells": [
  {
   "cell_type": "code",
   "execution_count": 1,
   "id": "8ce6b1dc-be57-4247-a04f-3344b4f0ca97",
   "metadata": {},
   "outputs": [],
   "source": [
    "import os, sys\n",
    "os.environ['HADOOP_CONF_DIR'] = '/etc/hadoop/conf'\n",
    "os.environ['YARN_CONF_DIR'] = '/etc/hadoop/conf'\n",
    "os.environ['PYSPARK_PYTHON'] =  'python3.9'\n",
    "os.environ['PYSPARK_DRIVER_PYTHON'] = 'python3.9'\n",
    "os.environ['HADOOP_USER_NAME']='ssenigov'\n",
    "\n",
    "from pyspark.sql import SparkSession\n",
    "from pyspark import SparkContext, SparkConf"
   ]
  },
  {
   "cell_type": "code",
   "execution_count": null,
   "id": "db7c2edf-43ce-4a2e-ac39-be7a1964b3e8",
   "metadata": {},
   "outputs": [],
   "source": [
    "conf = SparkConf().setAppName('CollectSet_List').setMaster('yarn')\n",
    "spark = SparkSession.builder.config(conf=conf).getOrCreate()\n",
    "\n",
    "sc = spark.sparkContext\n",
    "print(\"app_id\".ljust(40), sc.applicationId)"
   ]
  },
  {
   "cell_type": "code",
   "execution_count": 3,
   "id": "048a81ce-870f-4850-b1d4-8fa791ebcba4",
   "metadata": {},
   "outputs": [],
   "source": [
    "countries = [('fra', 'France', 68, 'EU'), ('bel', 'Belgium', 11, 'EU'), \n",
    "             ('usa', 'United States', 334, 'NA'), ('swe', 'Sweden', 10, 'EU'),\n",
    "             ('ita', 'Italy', 59, 'EU'), ('chi', 'China', 1411, 'AS'),\n",
    "             ('ind', 'India', 1425, 'AS'), ('bra', 'Brasil', 220, 'SA'),\n",
    "             ('mex', 'Mexico', 126, 'CA'), ('rom', 'Romania', 19, 'EU'),\n",
    "             ('jpn', 'Japan', 123, 'AS')]\n",
    "\n",
    "schema=[\"country\", \"country_name\", \"population\", \"continent\"]\n",
    "\n",
    "df_countries = spark.createDataFrame(data=countries, schema=schema)"
   ]
  },
  {
   "cell_type": "code",
   "execution_count": 4,
   "id": "eeb07003-fd67-4ed5-8335-93356f84022c",
   "metadata": {},
   "outputs": [
    {
     "name": "stderr",
     "output_type": "stream",
     "text": [
      "[Stage 0:=============================>                             (1 + 1) / 2]\r"
     ]
    },
    {
     "name": "stdout",
     "output_type": "stream",
     "text": [
      "+---------+--------------------+------------------+----------------+\n",
      "|continent|           countries|average_population|number_countries|\n",
      "+---------+--------------------+------------------+----------------+\n",
      "|       NA|     [United States]|               334|               1|\n",
      "|       EU|[France, Italy, S...|                33|               5|\n",
      "|       SA|            [Brasil]|               220|               1|\n",
      "|       CA|            [Mexico]|               126|               1|\n",
      "|       AS|[India, Japan, Ch...|               986|               3|\n",
      "+---------+--------------------+------------------+----------------+\n",
      "\n",
      "root\n",
      " |-- continent: string (nullable = true)\n",
      " |-- countries: array (nullable = false)\n",
      " |    |-- element: string (containsNull = false)\n",
      " |-- average_population: integer (nullable = true)\n",
      " |-- number_countries: long (nullable = false)\n",
      "\n"
     ]
    },
    {
     "name": "stderr",
     "output_type": "stream",
     "text": [
      "                                                                                \r"
     ]
    }
   ],
   "source": [
    "from pyspark.sql.functions import avg, col, count, collect_set, collect_list\n",
    "from pyspark.sql.types import IntegerType\n",
    "\n",
    "df_grouped = df_countries.groupBy(\"continent\").agg(\n",
    "        collect_set(\"country_name\").alias(\"countries\"),\n",
    "        avg(\"population\").cast(IntegerType()).alias(\"average_population\"),\n",
    "        count(\"country\").alias(\"number_countries\"))\n",
    "\n",
    "df_grouped.show(truncate=True)\n",
    "\n",
    "df_grouped.printSchema()"
   ]
  },
  {
   "cell_type": "code",
   "execution_count": 5,
   "id": "e244ed93-1a7d-452c-b8c2-b255d6656af3",
   "metadata": {},
   "outputs": [],
   "source": [
    "spark.stop()"
   ]
  },
  {
   "cell_type": "code",
   "execution_count": null,
   "id": "bdf21990-eea4-4847-b6fd-a2ccdb4a6c87",
   "metadata": {},
   "outputs": [],
   "source": []
  }
 ],
 "metadata": {
  "kernelspec": {
   "display_name": "Python 3 (ipykernel)",
   "language": "python",
   "name": "python3"
  },
  "language_info": {
   "codemirror_mode": {
    "name": "ipython",
    "version": 3
   },
   "file_extension": ".py",
   "mimetype": "text/x-python",
   "name": "python",
   "nbconvert_exporter": "python",
   "pygments_lexer": "ipython3",
   "version": "3.9.16"
  }
 },
 "nbformat": 4,
 "nbformat_minor": 5
}
