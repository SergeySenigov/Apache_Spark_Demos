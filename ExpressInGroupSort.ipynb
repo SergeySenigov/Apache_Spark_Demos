{
 "cells": [
  {
   "cell_type": "code",
   "execution_count": 45,
   "id": "8ce6b1dc-be57-4247-a04f-3344b4f0ca97",
   "metadata": {},
   "outputs": [],
   "source": [
    "import os, sys\n",
    "os.environ['HADOOP_CONF_DIR'] = '/etc/hadoop/conf'\n",
    "os.environ['YARN_CONF_DIR'] = '/etc/hadoop/conf'\n",
    "os.environ['PYSPARK_PYTHON'] =  'python3.9'\n",
    "os.environ['PYSPARK_DRIVER_PYTHON'] = 'python3.9'\n",
    "os.environ['HADOOP_USER_NAME']='senigov'\n",
    "\n",
    "from pyspark.sql import SparkSession\n",
    "from pyspark import SparkContext, SparkConf"
   ]
  },
  {
   "cell_type": "code",
   "execution_count": 46,
   "id": "db7c2edf-43ce-4a2e-ac39-be7a1964b3e8",
   "metadata": {},
   "outputs": [
    {
     "name": "stdout",
     "output_type": "stream",
     "text": [
      "app_id                                   application_1727681258360_0001\n"
     ]
    },
    {
     "name": "stderr",
     "output_type": "stream",
     "text": [
      "24/10/03 19:43:38 WARN SparkSession: Using an existing Spark session; only runtime SQL configurations will take effect.\n"
     ]
    }
   ],
   "source": [
    "conf = SparkConf().setAppName('ExpressInGroupSort').setMaster('yarn')\n",
    "spark = SparkSession.builder.config(conf=conf).getOrCreate()\n",
    "\n",
    "sc = spark.sparkContext\n",
    "print(\"app_id\".ljust(40), sc.applicationId)"
   ]
  },
  {
   "cell_type": "code",
   "execution_count": 47,
   "id": "048a81ce-870f-4850-b1d4-8fa791ebcba4",
   "metadata": {},
   "outputs": [],
   "source": [
    "countries = [('fra', 'France', 68), ('bel', 'Belgium', 11), \n",
    "             ('usa', 'United States', 334), ('swe', 'Sweden', 10),\n",
    "             ('ita', 'Italy', 59), ('chi', 'China', 1411),\n",
    "             ('ind', 'India', 1425), ('bra', 'Brasil', 220),\n",
    "             ('mex', 'Mexico', 126), ('rom', 'Romania', 19),\n",
    "             ('jpn', 'Japan', 123)]\n",
    "\n",
    "schema=[\"country\", \"country_name\", \"population\"]\n",
    "\n",
    "df_countries = spark.createDataFrame(data=countries, schema=schema)"
   ]
  },
  {
   "cell_type": "code",
   "execution_count": 48,
   "id": "eeb07003-fd67-4ed5-8335-93356f84022c",
   "metadata": {},
   "outputs": [
    {
     "name": "stdout",
     "output_type": "stream",
     "text": [
      "+---------------+---------+------------------+----------------+\n",
      "|population_flag|asia_flag|average_population|number_countries|\n",
      "+---------------+---------+------------------+----------------+\n",
      "|          Giant|     Asia|            1418.0|               2|\n",
      "|     Very large| Not Asia|             277.0|               2|\n",
      "|          Large|     Asia|             123.0|               1|\n",
      "|          Large| Not Asia| 84.33333333333333|               3|\n",
      "|          Small| Not Asia|13.333333333333334|               3|\n",
      "+---------------+---------+------------------+----------------+\n",
      "\n"
     ]
    }
   ],
   "source": [
    "from pyspark.sql.functions import avg, col, count, expr, when\n",
    "\n",
    "df_countries.groupBy(\n",
    "    [expr(\"case when population > 1000 then 'Giant' \\\n",
    "                when population > 200 then 'Very large' \\\n",
    "                when population > 50 then 'Large' \\\n",
    "                                     else 'Small' end\").alias(\"population_flag\"),\n",
    "     when(col(\"country\").isin([\"chi\", \"ind\", \"jpn\"]), 'Asia')\\\n",
    "                                       .otherwise(\"Not Asia\").alias(\"asia_flag\")]\n",
    "  ).agg(\n",
    "        avg(\"population\").alias(\"average_population\"),\n",
    "        count(\"country\").alias(\"number_countries\") \n",
    "  ).orderBy( expr(\"case when population_flag = 'Giant' then 1 \\\n",
    "                        when population_flag = 'Very large' then 2 \\\n",
    "                        when population_flag = 'Large' then 3 \\\n",
    "                        else 4 end\"), \"asia_flag\").show()\n"
   ]
  },
  {
   "cell_type": "code",
   "execution_count": null,
   "id": "e244ed93-1a7d-452c-b8c2-b255d6656af3",
   "metadata": {},
   "outputs": [],
   "source": [
    "spark.stop()"
   ]
  }
 ],
 "metadata": {
  "kernelspec": {
   "display_name": "Python 3 (ipykernel)",
   "language": "python",
   "name": "python3"
  },
  "language_info": {
   "codemirror_mode": {
    "name": "ipython",
    "version": 3
   },
   "file_extension": ".py",
   "mimetype": "text/x-python",
   "name": "python",
   "nbconvert_exporter": "python",
   "pygments_lexer": "ipython3",
   "version": "3.9.16"
  }
 },
 "nbformat": 4,
 "nbformat_minor": 5
}
