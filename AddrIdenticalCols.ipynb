{
 "cells": [
  {
   "cell_type": "code",
   "execution_count": 1,
   "id": "8ce6b1dc-be57-4247-a04f-3344b4f0ca97",
   "metadata": {},
   "outputs": [],
   "source": [
    "import os, sys\n",
    "os.environ['HADOOP_CONF_DIR'] = '/etc/hadoop/conf'\n",
    "os.environ['YARN_CONF_DIR'] = '/etc/hadoop/conf'\n",
    "os.environ['PYSPARK_PYTHON'] =  'python3.9'\n",
    "os.environ['PYSPARK_DRIVER_PYTHON'] = 'python3.9'\n",
    "os.environ['HADOOP_USER_NAME']='ssenigov'\n",
    "\n",
    "from pyspark.sql import SparkSession\n",
    "from pyspark import SparkContext, SparkConf, StorageLevel, RDD\n",
    "from pyspark.sql.functions import col"
   ]
  },
  {
   "cell_type": "code",
   "execution_count": null,
   "id": "db7c2edf-43ce-4a2e-ac39-be7a1964b3e8",
   "metadata": {},
   "outputs": [],
   "source": [
    "conf = SparkConf().setAppName('AddrIdenticalCols').setMaster('yarn')\n",
    "\n",
    "spark = SparkSession.builder.config(conf=conf).getOrCreate()"
   ]
  },
  {
   "cell_type": "code",
   "execution_count": 5,
   "id": "241553a0-89d1-4c52-8440-1476e2cbed15",
   "metadata": {},
   "outputs": [
    {
     "name": "stderr",
     "output_type": "stream",
     "text": [
      "[Stage 1:>                                                          (0 + 1) / 1]\r"
     ]
    },
    {
     "name": "stdout",
     "output_type": "stream",
     "text": [
      "+-------------+---+\n",
      "|         name|age|\n",
      "+-------------+---+\n",
      "|   Mary Grant| 11|\n",
      "|    Bob Itkis| 14|\n",
      "|Bill Drummond| 12|\n",
      "|Anna Fletcher| 12|\n",
      "|  John Ayrton| 11|\n",
      "+-------------+---+\n",
      "\n"
     ]
    },
    {
     "name": "stderr",
     "output_type": "stream",
     "text": [
      "                                                                                \r"
     ]
    }
   ],
   "source": [
    "df = spark.createDataFrame([('Mary Grant', 11), \n",
    "                            ('Bob Itkis', 14),\n",
    "                            ('Bill Drummond', 12),\n",
    "                            ('Anna Fletcher', 12),\n",
    "                            ('John Ayrton', 11)], \n",
    "                           ['name', 'age'])\n",
    "df.show()\n",
    "df.createOrReplaceTempView(\"tbl\")"
   ]
  },
  {
   "cell_type": "code",
   "execution_count": 16,
   "id": "f898f630-27ed-46f1-80cc-83e5af2cc18b",
   "metadata": {},
   "outputs": [
    {
     "name": "stdout",
     "output_type": "stream",
     "text": [
      "+-------------+-------------+---+\n",
      "|         name|         name|age|\n",
      "+-------------+-------------+---+\n",
      "|Anna Fletcher|Bill Drummond| 12|\n",
      "|Bill Drummond|Anna Fletcher| 12|\n",
      "|  John Ayrton|   Mary Grant| 11|\n",
      "|   Mary Grant|  John Ayrton| 11|\n",
      "+-------------+-------------+---+\n",
      "\n"
     ]
    }
   ],
   "source": [
    "res_sql = spark.sql(\"\"\"\n",
    "  select t1.name, t2.name, t1.age\n",
    "  from tbl as t1 \n",
    "     cross join tbl as t2\n",
    "  where t1.age = t2.age\n",
    "  and t1.name != t2.name\n",
    "  order by t1.name\n",
    "\"\"\")\n",
    "res_sql.show()"
   ]
  },
  {
   "cell_type": "code",
   "execution_count": 25,
   "id": "71307934-9386-4c77-990f-eef7464b8730",
   "metadata": {},
   "outputs": [
    {
     "name": "stdout",
     "output_type": "stream",
     "text": [
      "+-------------+-------------+---+\n",
      "|         name|         name|age|\n",
      "+-------------+-------------+---+\n",
      "|Anna Fletcher|Bill Drummond| 12|\n",
      "|Bill Drummond|Anna Fletcher| 12|\n",
      "|  John Ayrton|   Mary Grant| 11|\n",
      "|   Mary Grant|  John Ayrton| 11|\n",
      "+-------------+-------------+---+\n",
      "\n"
     ]
    }
   ],
   "source": [
    "df1 = df.alias('df1')\n",
    "df2 = df.alias('df2')\n",
    "df_res = df1.join(other=df2,how='cross')\n",
    "df_res = df_res.where((col('df1.age') == col('df2.age')) & ~ (col('df1.name') == col('df2.name')))\n",
    "df_res.select(col('df1.name'), col('df2.name'), col('df1.age')).orderBy(col('df1.name')).show()"
   ]
  },
  {
   "cell_type": "code",
   "execution_count": null,
   "id": "e244ed93-1a7d-452c-b8c2-b255d6656af3",
   "metadata": {},
   "outputs": [],
   "source": [
    " spark.stop()"
   ]
  }
 ],
 "metadata": {
  "kernelspec": {
   "display_name": "Python 3 (ipykernel)",
   "language": "python",
   "name": "python3"
  },
  "language_info": {
   "codemirror_mode": {
    "name": "ipython",
    "version": 3
   },
   "file_extension": ".py",
   "mimetype": "text/x-python",
   "name": "python",
   "nbconvert_exporter": "python",
   "pygments_lexer": "ipython3",
   "version": "3.9.16"
  }
 },
 "nbformat": 4,
 "nbformat_minor": 5
}
