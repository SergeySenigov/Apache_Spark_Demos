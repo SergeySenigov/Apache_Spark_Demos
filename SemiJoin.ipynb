{
 "cells": [
  {
   "cell_type": "code",
   "execution_count": 1,
   "id": "8ce6b1dc-be57-4247-a04f-3344b4f0ca97",
   "metadata": {},
   "outputs": [],
   "source": [
    "import os, sys\n",
    "os.environ['HADOOP_CONF_DIR'] = '/etc/hadoop/conf'\n",
    "os.environ['YARN_CONF_DIR'] = '/etc/hadoop/conf'\n",
    "os.environ['PYSPARK_PYTHON'] =  'python3.9'\n",
    "os.environ['PYSPARK_DRIVER_PYTHON'] = 'python3.9'\n",
    "os.environ['HADOOP_USER_NAME']='ssenigov'\n",
    "\n",
    "from pyspark.sql import SparkSession\n",
    "from pyspark import SparkContext, SparkConf"
   ]
  },
  {
   "cell_type": "code",
   "execution_count": null,
   "id": "db7c2edf-43ce-4a2e-ac39-be7a1964b3e8",
   "metadata": {
    "scrolled": true
   },
   "outputs": [],
   "source": [
    "conf = SparkConf().setAppName('SemiJoin').setMaster('yarn')\\\n",
    "   .set('spark.sql.legacy.timeParserPolicy', 'LEGACY')\n",
    "spark = SparkSession.builder.config(conf=conf).getOrCreate()\n",
    "\n",
    "sc = spark.sparkContext\n",
    "print(\"app_id\".ljust(40), sc.applicationId)"
   ]
  },
  {
   "cell_type": "code",
   "execution_count": 3,
   "id": "048a81ce-870f-4850-b1d4-8fa791ebcba4",
   "metadata": {},
   "outputs": [
    {
     "name": "stderr",
     "output_type": "stream",
     "text": [
      "                                                                                \r"
     ]
    },
    {
     "name": "stdout",
     "output_type": "stream",
     "text": [
      "+------+----+\n",
      "|emp_id|name|\n",
      "+------+----+\n",
      "|1     |Anna|\n",
      "|3     |John|\n",
      "|4     |Kate|\n",
      "+------+----+\n",
      "\n"
     ]
    }
   ],
   "source": [
    "emp = [(1, 'Anna'), (2, 'Bill'), (3, 'John'), (4, 'Kate')]\n",
    " \n",
    "df_emp = spark.createDataFrame(data=emp, schema=['emp_id', 'name'])\n",
    " \n",
    "empHistPos = [ (1, 'Jr Developer', 'PROMOTED'),\n",
    "               (1, 'Developer', 'PROMOTED'),\n",
    "               (1, 'Sr Developer', ''),\n",
    "                  (2, 'Jr Manager', ''),\n",
    "               (3, 'Jr Sales Repr', 'PROMOTED'),\n",
    "               (3, 'Sales Repr', 'PROMOTED'),\n",
    "               (3, 'Sr Sales Repr', ''),\n",
    "                  (4, 'Jr HR Manager', 'PROMOTED'),\n",
    "                  (4, 'HR Manager', 'FIRED')]\n",
    " \n",
    "df_hist_pos = spark.createDataFrame(data=empHistPos, schema=['emp_id', 'pos_name', 'change_reason'])\n",
    " \n",
    "df_promoted = df_hist_pos.filter(\"change_reason = 'PROMOTED'\") # double records\n",
    " \n",
    "df_emp_promoted = df_emp.join(df_promoted, 'emp_id', 'leftsemi')\n",
    " \n",
    "df_emp_promoted.orderBy('emp_id').show(truncate=False)"
   ]
  },
  {
   "cell_type": "code",
   "execution_count": 4,
   "id": "e244ed93-1a7d-452c-b8c2-b255d6656af3",
   "metadata": {},
   "outputs": [],
   "source": [
    "spark.stop()"
   ]
  }
 ],
 "metadata": {
  "kernelspec": {
   "display_name": "Python 3 (ipykernel)",
   "language": "python",
   "name": "python3"
  },
  "language_info": {
   "codemirror_mode": {
    "name": "ipython",
    "version": 3
   },
   "file_extension": ".py",
   "mimetype": "text/x-python",
   "name": "python",
   "nbconvert_exporter": "python",
   "pygments_lexer": "ipython3",
   "version": "3.9.16"
  }
 },
 "nbformat": 4,
 "nbformat_minor": 5
}
