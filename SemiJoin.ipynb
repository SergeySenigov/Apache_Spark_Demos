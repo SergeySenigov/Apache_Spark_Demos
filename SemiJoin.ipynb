{
 "cells": [
  {
   "cell_type": "code",
   "execution_count": 1,
   "id": "8ce6b1dc-be57-4247-a04f-3344b4f0ca97",
   "metadata": {},
   "outputs": [],
   "source": [
    "import os, sys\n",
    "os.environ['HADOOP_CONF_DIR'] = '/etc/hadoop/conf'\n",
    "os.environ['YARN_CONF_DIR'] = '/etc/hadoop/conf'\n",
    "os.environ['PYSPARK_PYTHON'] =  'python3.9'\n",
    "os.environ['PYSPARK_DRIVER_PYTHON'] = 'python3.9'\n",
    "os.environ['HADOOP_USER_NAME']='ssenigov'\n",
    "\n",
    "from pyspark.sql import SparkSession\n",
    "from pyspark import SparkContext, SparkConf"
   ]
  },
  {
   "cell_type": "code",
   "execution_count": 2,
   "id": "db7c2edf-43ce-4a2e-ac39-be7a1964b3e8",
   "metadata": {
    "scrolled": true
   },
   "outputs": [
    {
     "name": "stderr",
     "output_type": "stream",
     "text": [
      "Setting default log level to \"WARN\".\n",
      "To adjust logging level use sc.setLogLevel(newLevel). For SparkR, use setLogLevel(newLevel).\n",
      "24/10/30 21:11:52 WARN NativeCodeLoader: Unable to load native-hadoop library for your platform... using builtin-java classes where applicable\n",
      "24/10/30 21:11:53 WARN Utils: Service 'SparkUI' could not bind on port 4040. Attempting port 4041.\n",
      "24/10/30 21:11:54 WARN DomainSocketFactory: The short-circuit local reads feature cannot be used because libhadoop cannot be loaded.\n",
      "24/10/30 21:11:55 WARN Client: Neither spark.yarn.jars nor spark.yarn.archive is set, falling back to uploading libraries under SPARK_HOME.\n"
     ]
    },
    {
     "name": "stdout",
     "output_type": "stream",
     "text": [
      "app_id                                   application_1727681258360_0021\n"
     ]
    }
   ],
   "source": [
    "conf = SparkConf().setAppName('SemiJoin').setMaster('yarn')\\\n",
    "   .set('spark.sql.legacy.timeParserPolicy', 'LEGACY')\n",
    "spark = SparkSession.builder.config(conf=conf).getOrCreate()\n",
    "\n",
    "sc = spark.sparkContext\n",
    "print(\"app_id\".ljust(40), sc.applicationId)"
   ]
  },
  {
   "cell_type": "code",
   "execution_count": 7,
   "id": "048a81ce-870f-4850-b1d4-8fa791ebcba4",
   "metadata": {},
   "outputs": [
    {
     "name": "stdout",
     "output_type": "stream",
     "text": [
      "+------+----+\n",
      "|emp_id|name|\n",
      "+------+----+\n",
      "|1     |Anna|\n",
      "|3     |John|\n",
      "|4     |Kate|\n",
      "+------+----+\n",
      "\n"
     ]
    }
   ],
   "source": [
    "emp = [(1, 'Anna'), (2, 'Bill'), (3, 'John'), (4, 'Kate')]\n",
    " \n",
    "df_emp = spark.createDataFrame(data=emp, schema=['emp_id', 'name'])\n",
    " \n",
    "empHistPos = [ (1, 'Jr Developer', 'PROMOTED'),\n",
    "               (1, 'Developer', 'PROMOTED'),\n",
    "               (1, 'Sr Developer', ''),\n",
    "                  (2, 'Jr Manager', ''),\n",
    "               (3, 'Jr Sales Repr', 'PROMOTED'),\n",
    "               (3, 'Sales Repr', 'PROMOTED'),\n",
    "               (3, 'Sr Sales Repr', ''),\n",
    "                  (4, 'Jr HR Manager', 'PROMOTED'),\n",
    "                  (4, 'HR Manager', 'FIRED')]\n",
    " \n",
    "df_hist_pos = spark.createDataFrame(data=empHistPos, schema=['emp_id', 'pos_name', 'change_reason'])\n",
    " \n",
    "df_promoted = df_hist_pos.filter(\"change_reason = 'PROMOTED'\") # double records\n",
    " \n",
    "df_emp_promoted = df_emp.join(df_promoted, 'emp_id', 'leftsemi')\n",
    " \n",
    "df_emp_promoted.orderBy('emp_id').show(truncate=False)"
   ]
  },
  {
   "cell_type": "code",
   "execution_count": 8,
   "id": "e244ed93-1a7d-452c-b8c2-b255d6656af3",
   "metadata": {},
   "outputs": [],
   "source": [
    "# df_emp_active = df_emp_hist_pos.filter(\"change_reason = ''\")\n",
    "# df_emp_active = df_emp.join(df_emp_fired, 'emp_id', 'leftanti').orderBy('emp_id')\n",
    "\n",
    "# df_emp_promoted = df_emp.join(df_promoted, 'emp_id', 'left').orderBy('emp_id')\n",
    "# df_res = df_emp.join(df_emp_hist_pos_active, 'emp_id', 'inner').select('emp_id', 'name', 'pos_name').orderBy('emp_id')\n",
    "\n",
    "\n",
    "spark.stop()\n",
    "# df_list = spark.sql(\" select repeat(',', {num_days}) as seq\".format(num_days=31))\\\n",
    "    # .withColumn('arr', split(col('seq'), ','))\\"
   ]
  },
  {
   "cell_type": "code",
   "execution_count": null,
   "id": "d78d4ad7-7709-4264-bad3-655ac1dbd5c0",
   "metadata": {},
   "outputs": [],
   "source": []
  }
 ],
 "metadata": {
  "kernelspec": {
   "display_name": "Python 3 (ipykernel)",
   "language": "python",
   "name": "python3"
  },
  "language_info": {
   "codemirror_mode": {
    "name": "ipython",
    "version": 3
   },
   "file_extension": ".py",
   "mimetype": "text/x-python",
   "name": "python",
   "nbconvert_exporter": "python",
   "pygments_lexer": "ipython3",
   "version": "3.9.16"
  }
 },
 "nbformat": 4,
 "nbformat_minor": 5
}
