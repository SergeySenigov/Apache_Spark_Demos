{
 "cells": [
  {
   "cell_type": "code",
   "execution_count": 6,
   "id": "8ce6b1dc-be57-4247-a04f-3344b4f0ca97",
   "metadata": {},
   "outputs": [
    {
     "ename": "ModuleNotFoundError",
     "evalue": "No module named 'pandas'",
     "output_type": "error",
     "traceback": [
      "\u001b[0;31m---------------------------------------------------------------------------\u001b[0m",
      "\u001b[0;31mModuleNotFoundError\u001b[0m                       Traceback (most recent call last)",
      "Cell \u001b[0;32mIn[6], line 13\u001b[0m\n\u001b[1;32m     11\u001b[0m \u001b[38;5;28;01mfrom\u001b[39;00m \u001b[38;5;21;01mpyspark\u001b[39;00m \u001b[38;5;28;01mimport\u001b[39;00m SparkContext, SparkConf\n\u001b[1;32m     12\u001b[0m \u001b[38;5;28;01mimport\u001b[39;00m \u001b[38;5;21;01mpyspark\u001b[39;00m\u001b[38;5;21;01m.\u001b[39;00m\u001b[38;5;21;01msql\u001b[39;00m\u001b[38;5;21;01m.\u001b[39;00m\u001b[38;5;21;01mfunctions\u001b[39;00m \u001b[38;5;28;01mas\u001b[39;00m \u001b[38;5;21;01mF\u001b[39;00m\n\u001b[0;32m---> 13\u001b[0m \u001b[38;5;28;01mimport\u001b[39;00m \u001b[38;5;21;01mpandas\u001b[39;00m\n\u001b[1;32m     14\u001b[0m \u001b[38;5;66;03m# from pyspark.sql.functions import lpad, rpad\u001b[39;00m\n",
      "\u001b[0;31mModuleNotFoundError\u001b[0m: No module named 'pandas'"
     ]
    }
   ],
   "source": [
    "import os, sys\n",
    "os.environ['HADOOP_CONF_DIR'] = '/etc/hadoop/conf'\n",
    "os.environ['YARN_CONF_DIR'] = '/etc/hadoop/conf'\n",
    "# os.environ['JAVA_HOME']='/usr'\n",
    "# os.environ['SPARK_HOME'] ='/usr/local/lib/python3.9/site-packages/pyspark/'\n",
    "os.environ['PYSPARK_PYTHON'] =  'python3.9'\n",
    "os.environ['PYSPARK_DRIVER_PYTHON'] = 'python3.9'\n",
    "os.environ['HADOOP_USER_NAME']='ssenigov'\n",
    "\n",
    "from pyspark.sql import SparkSession\n",
    "from pyspark import SparkContext, SparkConf\n",
    "import pyspark.sql.functions as F\n",
    "# from pyspark.sql.functions import lpad, rpad"
   ]
  },
  {
   "cell_type": "code",
   "execution_count": 2,
   "id": "db7c2edf-43ce-4a2e-ac39-be7a1964b3e8",
   "metadata": {},
   "outputs": [
    {
     "name": "stderr",
     "output_type": "stream",
     "text": [
      "Setting default log level to \"WARN\".\n",
      "To adjust logging level use sc.setLogLevel(newLevel). For SparkR, use setLogLevel(newLevel).\n",
      "24/07/19 19:48:51 WARN NativeCodeLoader: Unable to load native-hadoop library for your platform... using builtin-java classes where applicable\n",
      "24/07/19 19:48:52 WARN Utils: Service 'SparkUI' could not bind on port 4040. Attempting port 4041.\n",
      "24/07/19 19:48:52 WARN Utils: Service 'SparkUI' could not bind on port 4041. Attempting port 4042.\n",
      "24/07/19 19:48:52 WARN Utils: Service 'SparkUI' could not bind on port 4042. Attempting port 4043.\n",
      "24/07/19 19:48:52 WARN Utils: Service 'SparkUI' could not bind on port 4043. Attempting port 4044.\n",
      "24/07/19 19:48:52 WARN Utils: Service 'SparkUI' could not bind on port 4044. Attempting port 4045.\n",
      "24/07/19 19:48:53 WARN DomainSocketFactory: The short-circuit local reads feature cannot be used because libhadoop cannot be loaded.\n",
      "24/07/19 19:48:53 WARN Client: Neither spark.yarn.jars nor spark.yarn.archive is set, falling back to uploading libraries under SPARK_HOME.\n"
     ]
    },
    {
     "name": "stdout",
     "output_type": "stream",
     "text": [
      "app_id                                             application_1711527309433_0430\n"
     ]
    }
   ],
   "source": [
    "conf = SparkConf().setAppName('ShowWithCollect')\\\n",
    "    .setMaster('yarn') \\\n",
    "    .set('spark.default.parallelism', '4')\n",
    "\n",
    "spark = SparkSession.builder.config(conf=conf).enableHiveSupport().getOrCreate()\n",
    "\n",
    "sc = spark.sparkContext\n",
    "print(\"app_id\".ljust(50), sc.applicationId)"
   ]
  },
  {
   "cell_type": "code",
   "execution_count": 3,
   "id": "048a81ce-870f-4850-b1d4-8fa791ebcba4",
   "metadata": {},
   "outputs": [],
   "source": [
    "import random\n",
    "import pyspark.sql.functions as F\n",
    "from datetime import date, timedelta\n",
    "\n",
    "end = date.today()\n",
    "start = end + timedelta(days=-365)\n",
    "length_customers = 100\n",
    "\n",
    "names = ['Bob', 'James', 'Marek', 'Johannes', 'Pierre', 'Jean', 'Thomas']\n",
    "countries = ['bel', 'usa', 'fra', 'aus', 'ger', 'pol']"
   ]
  },
  {
   "cell_type": "code",
   "execution_count": 4,
   "id": "05d5490d-f8e3-41aa-a10c-5afb7b80d687",
   "metadata": {},
   "outputs": [],
   "source": [
    "customers = list()\n",
    "for i in range(length_customers):\n",
    "    random_date = start + (end - start) * random.random()\n",
    "    customer = (names[random.randint(0, len(names)-1)],         # name\n",
    "                countries[random.randint(0, len(countries)-1)], # country\n",
    "                random_date,                                    # last_order_date\n",
    "                random.randint(-10000, 10000)               # balance\n",
    "                )                                    \n",
    "    customers.append(customer)"
   ]
  },
  {
   "cell_type": "code",
   "execution_count": 5,
   "id": "bb073b32-ee9b-41f5-9f8b-24c9eb488e83",
   "metadata": {
    "scrolled": true
   },
   "outputs": [
    {
     "name": "stderr",
     "output_type": "stream",
     "text": [
      "[Stage 0:>                                                          (0 + 2) / 4]\r"
     ]
    },
    {
     "name": "stdout",
     "output_type": "stream",
     "text": [
      "<class 'list'>\n"
     ]
    },
    {
     "name": "stderr",
     "output_type": "stream",
     "text": [
      "                                                                                \r"
     ]
    },
    {
     "data": {
      "text/plain": [
       "['Pierre       | aus | 2024-04-22 |      -5525',\n",
       " 'Thomas       | usa | 2023-12-13 |      -1361',\n",
       " 'Marek        | fra | 2024-03-22 |       7126',\n",
       " 'Marek        | fra | 2023-12-25 |       9009',\n",
       " 'James        | fra | 2023-08-06 |      -7107',\n",
       " 'Johannes     | pol | 2023-12-06 |       9736',\n",
       " 'Pierre       | bel | 2023-11-13 |       3252',\n",
       " 'Pierre       | bel | 2024-01-24 |       4165',\n",
       " 'James        | pol | 2024-04-05 |       5470',\n",
       " 'James        | pol | 2024-06-26 |       5945',\n",
       " 'Pierre       | fra | 2024-07-18 |      -7351',\n",
       " 'Bob          | bel | 2023-11-19 |      -5309',\n",
       " 'Johannes     | aus | 2023-11-17 |      -3875',\n",
       " 'James        | pol | 2023-10-10 |      -6251',\n",
       " 'James        | fra | 2024-07-09 |       1641',\n",
       " 'Bob          | usa | 2024-02-13 |        692',\n",
       " 'Bob          | bel | 2023-10-23 |      -1735',\n",
       " 'Thomas       | ger | 2024-02-13 |      -1841',\n",
       " 'Bob          | usa | 2024-06-23 |      -4630',\n",
       " 'Bob          | ger | 2024-03-14 |      -6421',\n",
       " 'Johannes     | aus | 2023-10-01 |      -5299',\n",
       " 'James        | pol | 2024-03-02 |      -7635',\n",
       " 'Thomas       | fra | 2023-12-24 |       2887',\n",
       " 'James        | fra | 2024-07-16 |        423',\n",
       " 'James        | pol | 2024-02-04 |       7342',\n",
       " 'James        | pol | 2024-06-08 |      -6962',\n",
       " 'Thomas       | bel | 2024-03-09 |       -892',\n",
       " 'Thomas       | bel | 2024-05-02 |      -6876',\n",
       " 'James        | ger | 2024-06-29 |       8359',\n",
       " 'Johannes     | pol | 2023-10-04 |      -4794',\n",
       " 'Jean         | pol | 2023-12-10 |      -1644',\n",
       " 'Johannes     | bel | 2024-07-10 |      -8012',\n",
       " 'Thomas       | pol | 2024-06-25 |       3893',\n",
       " 'James        | bel | 2023-12-27 |        830',\n",
       " 'Pierre       | ger | 2023-11-28 |      -6763',\n",
       " 'Thomas       | bel | 2023-11-13 |      -1378',\n",
       " 'Jean         | ger | 2024-06-20 |      -9838',\n",
       " 'Bob          | pol | 2024-05-08 |       8724',\n",
       " 'Pierre       | fra | 2023-10-19 |      -5747',\n",
       " 'Bob          | usa | 2023-11-24 |      -4768',\n",
       " 'Marek        | pol | 2023-12-08 |      -3503',\n",
       " 'Thomas       | aus | 2023-08-16 |       1344',\n",
       " 'Bob          | pol | 2023-09-15 |       2417',\n",
       " 'Thomas       | ger | 2024-03-27 |       9041',\n",
       " 'Jean         | fra | 2024-05-15 |      -5375',\n",
       " 'Pierre       | aus | 2024-01-30 |      -9525',\n",
       " 'Bob          | bel | 2023-08-07 |       4554',\n",
       " 'Pierre       | ger | 2023-12-16 |       5405',\n",
       " 'Jean         | ger | 2023-10-21 |      -1444',\n",
       " 'Marek        | pol | 2024-03-22 |      -8896',\n",
       " 'Jean         | ger | 2023-11-20 |       5366',\n",
       " 'Johannes     | ger | 2023-08-07 |       5701',\n",
       " 'Jean         | bel | 2024-06-04 |       4759',\n",
       " 'Marek        | ger | 2023-12-21 |      -5415',\n",
       " 'Thomas       | fra | 2023-12-12 |      -5611',\n",
       " 'Marek        | bel | 2023-09-18 |      -2640',\n",
       " 'Bob          | aus | 2024-03-03 |       -138',\n",
       " 'Thomas       | aus | 2023-10-13 |       8669',\n",
       " 'Pierre       | fra | 2023-09-16 |       5481',\n",
       " 'Marek        | ger | 2024-03-23 |       3627',\n",
       " 'Marek        | aus | 2024-02-28 |       4631',\n",
       " 'James        | bel | 2023-12-18 |      -2468',\n",
       " 'Marek        | usa | 2024-06-29 |      -4669',\n",
       " 'Thomas       | aus | 2024-04-02 |        553',\n",
       " 'Thomas       | aus | 2023-10-24 |      -3132',\n",
       " 'Jean         | aus | 2024-05-09 |      -7455',\n",
       " 'Pierre       | aus | 2024-05-18 |       9656',\n",
       " 'Pierre       | fra | 2024-01-28 |       7480',\n",
       " 'Jean         | ger | 2024-05-03 |      -5442',\n",
       " 'Jean         | ger | 2023-09-16 |       -657',\n",
       " 'Bob          | pol | 2024-01-27 |       8537',\n",
       " 'Jean         | aus | 2024-01-04 |       6207',\n",
       " 'Thomas       | aus | 2023-10-17 |      -8517',\n",
       " 'Pierre       | ger | 2023-12-16 |      -9616',\n",
       " 'Bob          | ger | 2024-03-18 |      -5323',\n",
       " 'Bob          | aus | 2024-02-27 |       2824',\n",
       " 'James        | aus | 2023-07-25 |      -8372',\n",
       " 'Jean         | ger | 2024-05-26 |       2453',\n",
       " 'Bob          | aus | 2024-07-09 |       5872',\n",
       " 'Jean         | fra | 2023-10-31 |      -9925',\n",
       " 'Thomas       | usa | 2024-05-13 |       3404',\n",
       " 'Jean         | usa | 2023-07-25 |       1453',\n",
       " 'Bob          | bel | 2024-03-31 |       5916',\n",
       " 'Marek        | aus | 2024-02-09 |       9566',\n",
       " 'Bob          | bel | 2024-06-21 |       9534',\n",
       " 'James        | pol | 2023-11-19 |      -2264',\n",
       " 'James        | ger | 2023-10-01 |      -3504',\n",
       " 'Johannes     | aus | 2024-02-26 |       5584',\n",
       " 'Jean         | bel | 2023-12-23 |      -6803',\n",
       " 'Marek        | pol | 2023-10-05 |      -2120',\n",
       " 'Bob          | pol | 2024-05-30 |       6875',\n",
       " 'James        | ger | 2023-08-27 |       8273',\n",
       " 'Jean         | bel | 2023-10-28 |      -7717',\n",
       " 'James        | fra | 2023-12-11 |      -8987',\n",
       " 'Jean         | usa | 2023-10-15 |      -1759',\n",
       " 'Jean         | bel | 2023-09-09 |       8591',\n",
       " 'Bob          | usa | 2024-05-27 |      -1172',\n",
       " 'Jean         | bel | 2024-02-02 |       5073',\n",
       " 'Jean         | pol | 2023-08-24 |       5555',\n",
       " 'Marek        | bel | 2023-10-18 |      -2772']"
      ]
     },
     "execution_count": 5,
     "metadata": {},
     "output_type": "execute_result"
    }
   ],
   "source": [
    "dfCust = spark.createDataFrame(data=customers, schema=[\"name\",\"country\",\"last_ord_dt\", \"bal\"])\n",
    "collected = dfCust.collect()\n",
    "print(type(collected))\n",
    "\n",
    "([' | '.join([i.name.ljust(12, ' '), \n",
    "              i.country, \n",
    "              str(i.last_ord_dt), \n",
    "              str(i.bal).rjust(10, ' ')]) for i in collected])"
   ]
  },
  {
   "cell_type": "code",
   "execution_count": null,
   "id": "863ccec5-c281-4455-bd0b-34e4526611f4",
   "metadata": {},
   "outputs": [],
   "source": [
    "# df_customers = df_customers.withColumn(\"name\", F.rpad(F.col(\"name\"), 10, \" \"))\\\n",
    "#     .withColumn(\"last_ord_dt\", F.date_format(F.col(\"last_ord_dt\"),\"yyyy-MM-dd\"))\\\n",
    "#     .withColumn(\"bal_str\", F.format_number(F.col(\"bal\").cast(\"double\"), 2))\\\n",
    "#     .withColumn(\"bal\", F.lpad(F.col(\"bal_str\"), 12, \" \"))\\\n",
    "#     .drop(\"bal_str\")"
   ]
  },
  {
   "cell_type": "code",
   "execution_count": 20,
   "id": "68e82bd1-eca5-4d9a-9bc1-5a3a86ee001e",
   "metadata": {
    "scrolled": true
   },
   "outputs": [
    {
     "name": "stdout",
     "output_type": "stream",
     "text": [
      "+----+-----+-----+\n",
      "|year|month|count|\n",
      "+----+-----+-----+\n",
      "|2024|    5|    5|\n",
      "+----+-----+-----+\n",
      "\n"
     ]
    }
   ],
   "source": [
    "df_customers = df_customers.withColumn(\"name\", F.rpad(F.col(\"name\"), 10, \" \"))\\\n",
    "    .withColumn(\"last_ord_dt\", F.date_format(F.col(\"last_ord_dt\"),\"yyyy-MM-dd\"))\\\n",
    "    .withColumn(\"bal_str\", F.format_number(F.col(\"bal\").cast(\"double\"), 2))\\\n",
    "    .withColumn(\"bal_str\", F.regexp_replace(F.regexp_replace(F.regexp_replace(\n",
    "            F.col(\"bal_str\"), '\\\\.', '#'), ',', '\\\\.'), '#', ','))\\\n",
    "    .withColumn(\"bal\", F.lpad(F.col(\"bal_str\"), 14, \" \"))\\\n",
    "    .drop(\"bal_str\")\n",
    "    # .withColumn(\"bal_string\", F.lpad(df_customers[\"bal_string\"], 8, \" \"))\\\n",
    "\n",
    "\n",
    "    # .withColumn(\"bal\", F.lpad(df_customers[\"bal\"], 8, \" \"))\\\n",
    "# .withColumn(\"russian_format\", F.regexp_replace(F.regexp_replace(F.regexp_replace(\n",
    "#         F.col(\"bal_string\"), '\\\\.', '#'), ',', ' '), '#', ','))\\"
   ]
  },
  {
   "cell_type": "code",
   "execution_count": 4,
   "id": "3c522470-d633-4613-bd3a-feedfca3ff1d",
   "metadata": {
    "scrolled": true
   },
   "outputs": [
    {
     "ename": "SyntaxError",
     "evalue": "invalid syntax (88891658.py, line 1)",
     "output_type": "error",
     "traceback": [
      "\u001b[0;36m  Cell \u001b[0;32mIn[4], line 1\u001b[0;36m\u001b[0m\n\u001b[0;31m    --\u001b[0m\n\u001b[0m      ^\u001b[0m\n\u001b[0;31mSyntaxError\u001b[0m\u001b[0;31m:\u001b[0m invalid syntax\n"
     ]
    }
   ],
   "source": [
    "--"
   ]
  },
  {
   "cell_type": "code",
   "execution_count": 25,
   "id": "e244ed93-1a7d-452c-b8c2-b255d6656af3",
   "metadata": {},
   "outputs": [],
   "source": [
    "spark.stop()"
   ]
  }
 ],
 "metadata": {
  "kernelspec": {
   "display_name": "Python 3 (ipykernel)",
   "language": "python",
   "name": "python3"
  },
  "language_info": {
   "codemirror_mode": {
    "name": "ipython",
    "version": 3
   },
   "file_extension": ".py",
   "mimetype": "text/x-python",
   "name": "python",
   "nbconvert_exporter": "python",
   "pygments_lexer": "ipython3",
   "version": "3.9.16"
  }
 },
 "nbformat": 4,
 "nbformat_minor": 5
}
