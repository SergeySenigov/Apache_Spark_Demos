{
 "cells": [
  {
   "cell_type": "code",
   "execution_count": null,
   "id": "8ce6b1dc-be57-4247-a04f-3344b4f0ca97",
   "metadata": {},
   "outputs": [],
   "source": [
    "import os, sys\n",
    "os.environ['HADOOP_CONF_DIR'] = '/etc/hadoop/conf'\n",
    "os.environ['YARN_CONF_DIR'] = '/etc/hadoop/conf'\n",
    "# os.environ['JAVA_HOME']='/usr'\n",
    "# os.environ['SPARK_HOME'] ='/usr/local/lib/python3.9/site-packages/pyspark/'\n",
    "os.environ['PYSPARK_PYTHON'] =  'python3.9'\n",
    "os.environ['PYSPARK_DRIVER_PYTHON'] = 'python3.9'\n",
    "os.environ['HADOOP_USER_NAME']='ssenigov'\n",
    "\n",
    "from pyspark.sql import SparkSession\n",
    "from pyspark import SparkContext, SparkConf\n",
    "import pyspark.sql.functions as F\n",
    "# from pyspark.sql.functions import lpad, rpad"
   ]
  },
  {
   "cell_type": "code",
   "execution_count": null,
   "id": "db7c2edf-43ce-4a2e-ac39-be7a1964b3e8",
   "metadata": {},
   "outputs": [],
   "source": [
    "conf = SparkConf().setAppName('ShowWithCollect')\\\n",
    "    .setMaster('yarn') \\\n",
    "    .set('spark.default.parallelism', '4')\n",
    "\n",
    "spark = SparkSession.builder.config(conf=conf).enableHiveSupport().getOrCreate()\n",
    "\n",
    "sc = spark.sparkContext\n",
    "print(\"app_id\".ljust(50), sc.applicationId)"
   ]
  },
  {
   "cell_type": "code",
   "execution_count": null,
   "id": "048a81ce-870f-4850-b1d4-8fa791ebcba4",
   "metadata": {},
   "outputs": [],
   "source": [
    "import random\n",
    "import pyspark.sql.functions as F\n",
    "from datetime import date, timedelta\n",
    "\n",
    "end = date.today()\n",
    "start = end + timedelta(days=-365)\n",
    "length_customers = 100\n",
    "\n",
    "names = ['Bob', 'James', 'Marek', 'Johannes', 'Pierre', 'Jean', 'Thomas']\n",
    "countries = ['bel', 'usa', 'fra', 'aus', 'ger', 'pol']"
   ]
  },
  {
   "cell_type": "code",
   "execution_count": null,
   "id": "05d5490d-f8e3-41aa-a10c-5afb7b80d687",
   "metadata": {},
   "outputs": [],
   "source": [
    "customers = list()\n",
    "for i in range(length_customers):\n",
    "    random_date = start + (end - start) * random.random()\n",
    "    customer = (names[random.randint(0, len(names)-1)],         # name\n",
    "                countries[random.randint(0, len(countries)-1)], # country\n",
    "                random_date,                                    # last_order_date\n",
    "                random.randint(-10000, 10000)               # balance\n",
    "                )                                    \n",
    "    customers.append(customer)"
   ]
  },
  {
   "cell_type": "code",
   "execution_count": null,
   "id": "bb073b32-ee9b-41f5-9f8b-24c9eb488e83",
   "metadata": {
    "scrolled": true
   },
   "outputs": [],
   "source": [
    "dfCust = spark.createDataFrame(data=customers, schema=[\"name\",\"country\",\"last_ord_dt\", \"bal\"])\n",
    "collected = dfCust.collect()\n",
    "print(type(collected))\n",
    "\n",
    "([' | '.join([i.name.ljust(12, ' '), \n",
    "              i.country, \n",
    "              str(i.last_ord_dt), \n",
    "              str(i.bal).rjust(10, ' ')]) for i in collected])"
   ]
  },
  {
   "cell_type": "code",
   "execution_count": null,
   "id": "863ccec5-c281-4455-bd0b-34e4526611f4",
   "metadata": {},
   "outputs": [],
   "source": [
    "# df_customers = df_customers.withColumn(\"name\", F.rpad(F.col(\"name\"), 10, \" \"))\\\n",
    "#     .withColumn(\"last_ord_dt\", F.date_format(F.col(\"last_ord_dt\"),\"yyyy-MM-dd\"))\\\n",
    "#     .withColumn(\"bal_str\", F.format_number(F.col(\"bal\").cast(\"double\"), 2))\\\n",
    "#     .withColumn(\"bal\", F.lpad(F.col(\"bal_str\"), 12, \" \"))\\\n",
    "#     .drop(\"bal_str\")"
   ]
  },
  {
   "cell_type": "code",
   "execution_count": null,
   "id": "68e82bd1-eca5-4d9a-9bc1-5a3a86ee001e",
   "metadata": {
    "scrolled": true
   },
   "outputs": [],
   "source": [
    "df_customers = df_customers.withColumn(\"name\", F.rpad(F.col(\"name\"), 10, \" \"))\\\n",
    "    .withColumn(\"last_ord_dt\", F.date_format(F.col(\"last_ord_dt\"),\"yyyy-MM-dd\"))\\\n",
    "    .withColumn(\"bal_str\", F.format_number(F.col(\"bal\").cast(\"double\"), 2))\\\n",
    "    .withColumn(\"bal_str\", F.regexp_replace(F.regexp_replace(F.regexp_replace(\n",
    "            F.col(\"bal_str\"), '\\\\.', '#'), ',', '\\\\.'), '#', ','))\\\n",
    "    .withColumn(\"bal\", F.lpad(F.col(\"bal_str\"), 14, \" \"))\\\n",
    "    .drop(\"bal_str\")\n",
    "    # .withColumn(\"bal_string\", F.lpad(df_customers[\"bal_string\"], 8, \" \"))\\\n",
    "\n",
    "\n",
    "    # .withColumn(\"bal\", F.lpad(df_customers[\"bal\"], 8, \" \"))\\\n",
    "# .withColumn(\"russian_format\", F.regexp_replace(F.regexp_replace(F.regexp_replace(\n",
    "#         F.col(\"bal_string\"), '\\\\.', '#'), ',', ' '), '#', ','))\\"
   ]
  },
  {
   "cell_type": "code",
   "execution_count": null,
   "id": "3c522470-d633-4613-bd3a-feedfca3ff1d",
   "metadata": {
    "scrolled": true
   },
   "outputs": [],
   "source": [
    "--"
   ]
  },
  {
   "cell_type": "code",
   "execution_count": null,
   "id": "e244ed93-1a7d-452c-b8c2-b255d6656af3",
   "metadata": {},
   "outputs": [],
   "source": [
    "spark.stop()"
   ]
  }
 ],
 "metadata": {
  "kernelspec": {
   "display_name": "Python 3 (ipykernel)",
   "language": "python",
   "name": "python3"
  },
  "language_info": {
   "codemirror_mode": {
    "name": "ipython",
    "version": 3
   },
   "file_extension": ".py",
   "mimetype": "text/x-python",
   "name": "python",
   "nbconvert_exporter": "python",
   "pygments_lexer": "ipython3",
   "version": "3.9.16"
  }
 },
 "nbformat": 4,
 "nbformat_minor": 5
}
