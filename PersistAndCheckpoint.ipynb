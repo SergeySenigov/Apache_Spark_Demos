{
 "cells": [
  {
   "cell_type": "code",
   "execution_count": 1,
   "id": "8ce6b1dc-be57-4247-a04f-3344b4f0ca97",
   "metadata": {},
   "outputs": [],
   "source": [
    "import os, sys\n",
    "os.environ['HADOOP_CONF_DIR'] = '/etc/hadoop/conf'\n",
    "os.environ['YARN_CONF_DIR'] = '/etc/hadoop/conf'\n",
    "os.environ['PYSPARK_PYTHON'] =  'python3.9'\n",
    "os.environ['PYSPARK_DRIVER_PYTHON'] = 'python3.9'\n",
    "# os.environ['HADOOP_USER_NAME']='student02'\n",
    "os.environ['HADOOP_USER_NAME']='ssenigov'\n",
    "\n",
    "from pyspark.sql import SparkSession\n",
    "from pyspark import SparkContext, SparkConf\n",
    "import pyspark.sql.functions as F\n",
    "from pyspark import StorageLevel"
   ]
  },
  {
   "cell_type": "code",
   "execution_count": 2,
   "id": "db7c2edf-43ce-4a2e-ac39-be7a1964b3e8",
   "metadata": {},
   "outputs": [
    {
     "name": "stderr",
     "output_type": "stream",
     "text": [
      "Setting default log level to \"WARN\".\n",
      "To adjust logging level use sc.setLogLevel(newLevel). For SparkR, use setLogLevel(newLevel).\n",
      "24/05/27 19:50:36 WARN NativeCodeLoader: Unable to load native-hadoop library for your platform... using builtin-java classes where applicable\n",
      "24/05/27 19:50:39 WARN DomainSocketFactory: The short-circuit local reads feature cannot be used because libhadoop cannot be loaded.\n",
      "24/05/27 19:50:39 WARN Client: Neither spark.yarn.jars nor spark.yarn.archive is set, falling back to uploading libraries under SPARK_HOME.\n"
     ]
    },
    {
     "name": "stdout",
     "output_type": "stream",
     "text": [
      "app_id                                             application_1711527309433_0362\n"
     ]
    }
   ],
   "source": [
    "conf = SparkConf().setAppName('Persist_Checkpoint_20240527')\\\n",
    "    .setMaster('yarn') \\\n",
    "    .set('spark.sql.shuffle.partitions', '10')\\\n",
    "    .set(\"spark.eventLog.logBlockUpdates.enabled\", 'true')\n",
    "\n",
    "spark = SparkSession.builder.config(conf=conf) \\\n",
    "    .getOrCreate()\n",
    "\n",
    "sc = spark.sparkContext\n",
    "print(\"app_id\".ljust(50), sc.applicationId)\n",
    "# print(\"spark.sql.warehouse.dir\".ljust(50), spark.conf.get(\"spark.sql.warehouse.dir\"))"
   ]
  },
  {
   "cell_type": "code",
   "execution_count": 3,
   "id": "048a81ce-870f-4850-b1d4-8fa791ebcba4",
   "metadata": {},
   "outputs": [],
   "source": [
    "import random\n",
    "from datetime import date, timedelta\n",
    "\n",
    "end = date.today()\n",
    "start = end + timedelta(days=-300)\n",
    "\n",
    "names = ['Bob', 'James', 'Marek', 'Johannes', 'Иванов', 'Смирнов', 'Кузнецов', 'Попов', 'Васильев', 'Петров', 'Соколов', 'Михайлов', 'Новиков', 'Федоров', 'Морозов', 'Волков', 'Алексеев', 'Лебедев', 'Семенов', 'Егоров', 'Павлов', 'Козлов', 'Степанов', 'Николаев']\n",
    "countries = ['rus:eu', 'bel:eu', 'usa:am', 'fra:eu', 'aus:as', 'ger:eu', 'swe:eu', 'fin:eu', 'chi:as']\n",
    "customers = list()\n",
    "\n",
    "sc.setJobDescription('MY DESCRIPTION JOB 1')"
   ]
  },
  {
   "cell_type": "code",
   "execution_count": 34,
   "id": "eeb07003-fd67-4ed5-8335-93356f84022c",
   "metadata": {},
   "outputs": [],
   "source": [
    "length_customers = 100000\n",
    "customers = list()\n",
    "for i in range(length_customers):\n",
    "    random_date = start + (end - start) * random.random()\n",
    "\n",
    "    if i % 3 == 0:\n",
    "        country = countries[-1] # chi - 'China'\n",
    "    else:\n",
    "        country = countries[random.randint(0, len(countries)-2)] # without China\n",
    "    \n",
    "    customer = (names[random.randint(0, len(names)-1)], country, random.randint(-1000000, 1000000), random_date)\n",
    "    customers.append(customer)\n",
    "\n",
    "df_customers = spark.sparkContext.parallelize(customers, 5)\\\n",
    "    .toDF(schema=[\"name\",\"country\",\"balance\",\"last_order_date\"])"
   ]
  },
  {
   "cell_type": "code",
   "execution_count": 44,
   "id": "3601d8ef-b65f-4e0e-9470-47051a507824",
   "metadata": {},
   "outputs": [
    {
     "name": "stdout",
     "output_type": "stream",
     "text": [
      "5\n"
     ]
    },
    {
     "data": {
      "text/plain": [
       "100000"
      ]
     },
     "execution_count": 44,
     "metadata": {},
     "output_type": "execute_result"
    }
   ],
   "source": [
    "print(df_customers.rdd.getNumPartitions())\n",
    "df_customers_cached = df_customers.persist(StorageLevel.DISK_ONLY)\n",
    "# df_customers_cached.rdd.setName(\"DF Customers Cached\")\n",
    "df_customers_cached.count()"
   ]
  },
  {
   "cell_type": "code",
   "execution_count": null,
   "id": "34bf1c7a-c0e9-4801-9027-13eb3446cc52",
   "metadata": {},
   "outputs": [],
   "source": [
    "sc.setCheckpointDir(\"/user/ssenigov/\")\n",
    "df_customers_checkpointed = df_customers.checkpoint()"
   ]
  },
  {
   "cell_type": "code",
   "execution_count": 43,
   "id": "966c7c8a-4aa4-427e-8d62-691dc76f3944",
   "metadata": {},
   "outputs": [
    {
     "data": {
      "text/plain": [
       "DataFrame[name: string, country: string, balance: bigint, last_order_date: date]"
      ]
     },
     "execution_count": 43,
     "metadata": {},
     "output_type": "execute_result"
    }
   ],
   "source": [
    "# df_customers.write.saveAsTable(\"tblCustomers1\", mode='overwrite')\n",
    "df_customers_cached.unpersist()"
   ]
  },
  {
   "cell_type": "code",
   "execution_count": null,
   "id": "e244ed93-1a7d-452c-b8c2-b255d6656af3",
   "metadata": {},
   "outputs": [],
   "source": [
    " --\n",
    "spark.stop()"
   ]
  }
 ],
 "metadata": {
  "kernelspec": {
   "display_name": "Python 3 (ipykernel)",
   "language": "python",
   "name": "python3"
  },
  "language_info": {
   "codemirror_mode": {
    "name": "ipython",
    "version": 3
   },
   "file_extension": ".py",
   "mimetype": "text/x-python",
   "name": "python",
   "nbconvert_exporter": "python",
   "pygments_lexer": "ipython3",
   "version": "3.9.16"
  }
 },
 "nbformat": 4,
 "nbformat_minor": 5
}
