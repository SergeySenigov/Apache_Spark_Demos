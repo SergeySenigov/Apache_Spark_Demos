{
 "cells": [
  {
   "cell_type": "code",
   "execution_count": null,
   "id": "8ce6b1dc-be57-4247-a04f-3344b4f0ca97",
   "metadata": {},
   "outputs": [],
   "source": [
    "import os, sys\n",
    "import random\n",
    "\n",
    "from pyspark.sql import SparkSession\n",
    "from pyspark import SparkContext, SparkConf\n",
    "\n",
    "os.environ['HADOOP_CONF_DIR'] = '/etc/hadoop/conf'\n",
    "os.environ['YARN_CONF_DIR'] = '/etc/hadoop/conf'\n",
    "os.environ['PYSPARK_PYTHON'] =  'python3.9'\n",
    "os.environ['PYSPARK_DRIVER_PYTHON'] = 'python3.9'\n",
    "os.environ['HADOOP_USER_NAME']='ssenigov'"
   ]
  },
  {
   "cell_type": "code",
   "execution_count": null,
   "id": "db7c2edf-43ce-4a2e-ac39-be7a1964b3e8",
   "metadata": {},
   "outputs": [],
   "source": [
    "conf = SparkConf().setAppName('Examine_Containers').setMaster('yarn')\\\n",
    "     .set(\"spark.executor.instances\", 4)\n",
    "spark = SparkSession.builder.config(conf=conf).getOrCreate()"
   ]
  },
  {
   "cell_type": "code",
   "execution_count": null,
   "id": "048a81ce-870f-4850-b1d4-8fa791ebcba4",
   "metadata": {},
   "outputs": [],
   "source": [
    "numItems = 100000\n",
    "numParall = 30\n",
    "rnds = [random.randint(0, 100) for idx in range(numItems) ]\n",
    "dfRnds = spark.sparkContext.parallelize(rnds, numParall).map(lambda x: (x, )).toDF([\"rnd\"])"
   ]
  },
  {
   "cell_type": "code",
   "execution_count": null,
   "id": "9034f4ad-e526-4fa2-acfc-c571cc59087f",
   "metadata": {},
   "outputs": [],
   "source": [
    "dfRnds.agg({'rnd': 'avg'}).show()\n",
    "# spark.sql(\"select avg(rnd) from dfRnds\").show()"
   ]
  },
  {
   "cell_type": "code",
   "execution_count": null,
   "id": "0b08a15d-a635-48dc-bfd1-e72d15637c02",
   "metadata": {},
   "outputs": [],
   "source": [
    "spark.sql(\"select min(rnd) from tblRnds\").explain(mode=\"extended\")\n",
    "spark.sql(\"select min(rnd) from tblRnds\").show()"
   ]
  },
  {
   "cell_type": "code",
   "execution_count": null,
   "id": "b6b31afc-5343-4d83-8d7b-0b2afae9a54b",
   "metadata": {},
   "outputs": [],
   "source": [
    "spark.sql(\"select avg(rnd) from tblRnds\").explain(mode=\"extended\")\n",
    "spark.sql(\"select avg(rnd) from tblRnds\").show()"
   ]
  },
  {
   "cell_type": "code",
   "execution_count": null,
   "id": "4d4bf403-4bf1-496a-a08e-00a61df9c56c",
   "metadata": {},
   "outputs": [],
   "source": [
    "# --"
   ]
  },
  {
   "cell_type": "code",
   "execution_count": null,
   "id": "e036ef10-f135-44f0-a4bf-293a0bc0264a",
   "metadata": {},
   "outputs": [],
   "source": [
    "_ = spark.sql(\"drop table if exists tblRdns\")"
   ]
  },
  {
   "cell_type": "code",
   "execution_count": null,
   "id": "e244ed93-1a7d-452c-b8c2-b255d6656af3",
   "metadata": {},
   "outputs": [],
   "source": [
    "spark.stop()"
   ]
  },
  {
   "cell_type": "code",
   "execution_count": null,
   "id": "58b37c8f-74f3-45fc-ab7f-b68b57a45fd3",
   "metadata": {},
   "outputs": [],
   "source": []
  }
 ],
 "metadata": {
  "kernelspec": {
   "display_name": "Python 3 (ipykernel)",
   "language": "python",
   "name": "python3"
  },
  "language_info": {
   "codemirror_mode": {
    "name": "ipython",
    "version": 3
   },
   "file_extension": ".py",
   "mimetype": "text/x-python",
   "name": "python",
   "nbconvert_exporter": "python",
   "pygments_lexer": "ipython3",
   "version": "3.9.16"
  }
 },
 "nbformat": 4,
 "nbformat_minor": 5
}
