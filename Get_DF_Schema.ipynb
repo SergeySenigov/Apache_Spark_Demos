{
 "cells": [
  {
   "cell_type": "code",
   "execution_count": 1,
   "id": "8ce6b1dc-be57-4247-a04f-3344b4f0ca97",
   "metadata": {},
   "outputs": [],
   "source": [
    "import os, sys\n",
    "os.environ['HADOOP_CONF_DIR'] = '/etc/hadoop/conf'\n",
    "os.environ['YARN_CONF_DIR'] = '/etc/hadoop/conf'\n",
    "os.environ['PYSPARK_PYTHON'] =  'python3.9'\n",
    "os.environ['PYSPARK_DRIVER_PYTHON'] = 'python3.9'\n",
    "os.environ['HADOOP_USER_NAME']='ssenigov'\n",
    "\n",
    "from pyspark.sql import SparkSession\n",
    "from pyspark import SparkContext, SparkConf\n",
    "import pyspark.sql.functions as F"
   ]
  },
  {
   "cell_type": "code",
   "execution_count": null,
   "id": "db7c2edf-43ce-4a2e-ac39-be7a1964b3e8",
   "metadata": {},
   "outputs": [],
   "source": [
    "conf = SparkConf().setAppName('Get_DF_Schema').setMaster('yarn')\n",
    "spark = SparkSession.builder.config(conf=conf).getOrCreate()\n",
    "\n",
    "sc = spark.sparkContext\n",
    "print(\"app_id\".ljust(50), sc.applicationId)"
   ]
  },
  {
   "cell_type": "code",
   "execution_count": 3,
   "id": "048a81ce-870f-4850-b1d4-8fa791ebcba4",
   "metadata": {},
   "outputs": [],
   "source": [
    "import random\n",
    "from datetime import date, timedelta\n",
    "\n",
    "end = date.today()\n",
    "start = end + timedelta(days=-300)\n",
    "\n",
    "names = ['Bob', 'James', 'Marek', 'Johannes', 'Robert', 'Don', 'Arthur']\n",
    "countries = ['rus:eu', 'bel:eu', 'usa:am', 'fra:eu', 'aus:as', 'ger:eu', 'swe:eu', 'fin:eu', 'chi:as']"
   ]
  },
  {
   "cell_type": "code",
   "execution_count": 16,
   "id": "eeb07003-fd67-4ed5-8335-93356f84022c",
   "metadata": {},
   "outputs": [],
   "source": [
    "length_customers = 10000\n",
    "customers = list()\n",
    "for i in range(length_customers):\n",
    "    random_date = start + (end - start) * random.random()\n",
    "\n",
    "    if i % 3 == 0:\n",
    "        country = countries[-1] # chi - 'China'\n",
    "    else:\n",
    "        country = countries[random.randint(0, len(countries)-2)] # without China\n",
    "    \n",
    "    customer = (names[random.randint(0, len(names)-1)], country, random.randint(-1000000, 1000000), random_date)\n",
    "    customers.append(customer)\n",
    "\n",
    "df_customers = spark.sparkContext.parallelize(customers, 5)\\\n",
    "    .toDF(schema=[\"name\",\"country\",\"balance\",\"last_order_date\"])"
   ]
  },
  {
   "cell_type": "code",
   "execution_count": 17,
   "id": "3601d8ef-b65f-4e0e-9470-47051a507824",
   "metadata": {},
   "outputs": [
    {
     "name": "stdout",
     "output_type": "stream",
     "text": [
      "['name', 'country', 'balance', 'last_order_date']\n"
     ]
    }
   ],
   "source": [
    "schema = df_customers.schema\n",
    "\n",
    "print(schema.fieldNames())"
   ]
  },
  {
   "cell_type": "code",
   "execution_count": 18,
   "id": "bf2eb3cf-516d-4341-8a0c-e7abf13d1ca1",
   "metadata": {},
   "outputs": [],
   "source": [
    "schema_with_phone = schema.add('phone', \"string\", True)"
   ]
  },
  {
   "cell_type": "code",
   "execution_count": 19,
   "id": "e244ed93-1a7d-452c-b8c2-b255d6656af3",
   "metadata": {},
   "outputs": [
    {
     "name": "stdout",
     "output_type": "stream",
     "text": [
      "root\n",
      " |-- name: string (nullable = true)\n",
      " |-- country: string (nullable = true)\n",
      " |-- balance: long (nullable = true)\n",
      " |-- last_order_date: date (nullable = true)\n",
      " |-- phone: string (nullable = true)\n",
      "\n"
     ]
    }
   ],
   "source": [
    "df_customers_with_phone = spark.createDataFrame([], schema_with_phone)\n",
    "df_customers_with_phone.printSchema()"
   ]
  },
  {
   "cell_type": "code",
   "execution_count": null,
   "id": "2b47c585-366f-429f-aa77-ea269c1aab75",
   "metadata": {},
   "outputs": [],
   "source": []
  }
 ],
 "metadata": {
  "kernelspec": {
   "display_name": "Python 3 (ipykernel)",
   "language": "python",
   "name": "python3"
  },
  "language_info": {
   "codemirror_mode": {
    "name": "ipython",
    "version": 3
   },
   "file_extension": ".py",
   "mimetype": "text/x-python",
   "name": "python",
   "nbconvert_exporter": "python",
   "pygments_lexer": "ipython3",
   "version": "3.9.16"
  }
 },
 "nbformat": 4,
 "nbformat_minor": 5
}
