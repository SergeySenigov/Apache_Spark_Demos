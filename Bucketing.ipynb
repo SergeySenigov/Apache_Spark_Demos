{
 "cells": [
  {
   "cell_type": "code",
   "execution_count": 1,
   "id": "8ce6b1dc-be57-4247-a04f-3344b4f0ca97",
   "metadata": {},
   "outputs": [],
   "source": [
    "import os, sys\n",
    "os.environ['HADOOP_CONF_DIR'] = '/etc/hadoop/conf'\n",
    "os.environ['YARN_CONF_DIR'] = '/etc/hadoop/conf'\n",
    "os.environ['PYSPARK_PYTHON'] =  'python3.9'\n",
    "os.environ['PYSPARK_DRIVER_PYTHON'] = 'python3.9'\n",
    "os.environ['HADOOP_USER_NAME']='ssenigov'\n",
    "\n",
    "from pyspark.sql import SparkSession\n",
    "from pyspark import SparkContext, SparkConf"
   ]
  },
  {
   "cell_type": "code",
   "execution_count": 2,
   "id": "db7c2edf-43ce-4a2e-ac39-be7a1964b3e8",
   "metadata": {},
   "outputs": [
    {
     "name": "stderr",
     "output_type": "stream",
     "text": [
      "Setting default log level to \"WARN\".\n",
      "To adjust logging level use sc.setLogLevel(newLevel). For SparkR, use setLogLevel(newLevel).\n",
      "25/01/03 15:09:57 WARN NativeCodeLoader: Unable to load native-hadoop library for your platform... using builtin-java classes where applicable\n",
      "25/01/03 15:09:59 WARN DomainSocketFactory: The short-circuit local reads feature cannot be used because libhadoop cannot be loaded.\n",
      "25/01/03 15:09:59 WARN Client: Neither spark.yarn.jars nor spark.yarn.archive is set, falling back to uploading libraries under SPARK_HOME.\n"
     ]
    },
    {
     "name": "stdout",
     "output_type": "stream",
     "text": [
      "app_id                                   application_1727681258360_0083\n"
     ]
    }
   ],
   "source": [
    "conf = (SparkConf().setAppName('Bucketing').setMaster('yarn') \n",
    "    .set(\"spark.sql.autoBroadcastJoinThreshold\", -1)  )\n",
    "spark = SparkSession.builder.config(conf=conf).enableHiveSupport().getOrCreate()\n",
    "print(\"app_id\".ljust(40), spark.sparkContext.applicationId)"
   ]
  },
  {
   "cell_type": "code",
   "execution_count": 3,
   "id": "77b33542-c7dd-4a63-b153-ef2e529671e4",
   "metadata": {},
   "outputs": [
    {
     "name": "stderr",
     "output_type": "stream",
     "text": [
      "                                                                                \r"
     ]
    }
   ],
   "source": [
    "from faker import Faker\n",
    "from collections import OrderedDict\n",
    "from pyspark.sql import Row\n",
    "\n",
    "# create two sample dataframes and fill with faker module\n",
    "fake = Faker()\n",
    "Faker.seed(0)\n",
    "num1 = 10000\n",
    "num2 =  5000\n",
    "\n",
    "people1 = [ Row(fake.first_name(), fake.last_name()) for _ in range(num1)]\n",
    "people2 = [ Row(fake.first_name(), fake.last_name() ) for _ in range(num2)]\n",
    "\n",
    "df1 = spark.sparkContext.parallelize(people1, 4).toDF([\"first_name\", \"last_name\"])\n",
    "df2 = spark.sparkContext.parallelize(people2, 4).toDF([\"first_name\", \"last_name\"])"
   ]
  },
  {
   "cell_type": "code",
   "execution_count": 4,
   "id": "d36f6f23-d25f-4dcf-87c4-2bf9013f1751",
   "metadata": {},
   "outputs": [
    {
     "name": "stderr",
     "output_type": "stream",
     "text": [
      "                                                                                \r"
     ]
    }
   ],
   "source": [
    "# the idea of bucketing - saving data in a right way and then use it \n",
    "df1.write.bucketBy(50, 'first_name').mode(\"overwrite\")\\\n",
    "  .saveAsTable('bucketed_people_1', path='hdfs:/users/ssenigov/spark_warehouse/bp1') ,\n",
    "\n",
    "df2.write.bucketBy(50, 'first_name').mode(\"overwrite\")\\\n",
    "  .saveAsTable('bucketed_people_2', path='hdfs:/users/ssenigov/spark_warehouse/bp2')"
   ]
  },
  {
   "cell_type": "code",
   "execution_count": 5,
   "id": "eadb42cc-4e86-425a-8e32-1895a0b05ac1",
   "metadata": {},
   "outputs": [
    {
     "name": "stderr",
     "output_type": "stream",
     "text": [
      "[Stage 7:=================================>                         (4 + 1) / 7]\r"
     ]
    },
    {
     "name": "stdout",
     "output_type": "stream",
     "text": [
      "10000 5000\n"
     ]
    },
    {
     "name": "stderr",
     "output_type": "stream",
     "text": [
      "                                                                                \r"
     ]
    }
   ],
   "source": [
    "df_bucketed_people_1 = spark.read.table(\"bucketed_people_1\")\n",
    "df_bucketed_people_2 = spark.read.table(\"bucketed_people_2\")\n",
    "\n",
    "print(df_bucketed_people_1.count(), df_bucketed_people_2.count())"
   ]
  },
  {
   "cell_type": "code",
   "execution_count": 6,
   "id": "34e17061-c3c4-4c70-a664-2ef0ad15721c",
   "metadata": {},
   "outputs": [
    {
     "name": "stdout",
     "output_type": "stream",
     "text": [
      "== Physical Plan ==\n",
      "AdaptiveSparkPlan isFinalPlan=false\n",
      "+- Project [first_name#20, last_name#21, last_name#25]\n",
      "   +- SortMergeJoin [first_name#20], [first_name#24], Inner\n",
      "      :- Sort [first_name#20 ASC NULLS FIRST], false, 0\n",
      "      :  +- Filter isnotnull(first_name#20)\n",
      "      :     +- FileScan parquet spark_catalog.default.bucketed_people_1[first_name#20,last_name#21] Batched: true, Bucketed: true, DataFilters: [isnotnull(first_name#20)], Format: Parquet, Location: InMemoryFileIndex(1 paths)[hdfs://adhcluster2.neoflex.ru:8020/users/ssenigov/spark_warehouse/bp1], PartitionFilters: [], PushedFilters: [IsNotNull(first_name)], ReadSchema: struct<first_name:string,last_name:string>, SelectedBucketsCount: 50 out of 50\n",
      "      +- Sort [first_name#24 ASC NULLS FIRST], false, 0\n",
      "         +- Filter isnotnull(first_name#24)\n",
      "            +- FileScan parquet spark_catalog.default.bucketed_people_2[first_name#24,last_name#25] Batched: true, Bucketed: true, DataFilters: [isnotnull(first_name#24)], Format: Parquet, Location: InMemoryFileIndex(1 paths)[hdfs://adhcluster2.neoflex.ru:8020/users/ssenigov/spark_warehouse/bp2], PartitionFilters: [], PushedFilters: [IsNotNull(first_name)], ReadSchema: struct<first_name:string,last_name:string>, SelectedBucketsCount: 50 out of 50\n",
      "\n",
      "\n"
     ]
    }
   ],
   "source": [
    "df_res = df_bucketed_people_1.join(df_bucketed_people_2, ['first_name'])\n",
    "df_res.explain()"
   ]
  },
  {
   "cell_type": "code",
   "execution_count": 7,
   "id": "33a55811-4486-4c18-8cae-a3cfb10936e9",
   "metadata": {},
   "outputs": [
    {
     "name": "stdout",
     "output_type": "stream",
     "text": [
      "+------------+-----------+------------+-----------+\n",
      "|first_name_1|last_name_1|first_name_2|last_name_2|\n",
      "+------------+-----------+------------+-----------+\n",
      "|     Felicia|    Roberts|     Felicia|       Neal|\n",
      "|     Felicia|    Roberts|     Felicia|    Aguilar|\n",
      "|     Felicia|    Roberts|     Felicia|       Wall|\n",
      "|     Felicia|    Roberts|     Felicia|       Ward|\n",
      "|     Felicia|    Roberts|     Felicia|   Anderson|\n",
      "|     Felicia|    Roberts|     Felicia|      Wells|\n",
      "|     Felicia|    Roberts|     Felicia|      Scott|\n",
      "|     Felicia|       Dyer|     Felicia|       Neal|\n",
      "|     Felicia|       Dyer|     Felicia|    Aguilar|\n",
      "|     Felicia|       Dyer|     Felicia|       Wall|\n",
      "|     Felicia|       Dyer|     Felicia|       Ward|\n",
      "|     Felicia|       Dyer|     Felicia|   Anderson|\n",
      "|     Felicia|       Dyer|     Felicia|      Wells|\n",
      "|     Felicia|       Dyer|     Felicia|      Scott|\n",
      "|     Felicia|    Santana|     Felicia|       Neal|\n",
      "|     Felicia|    Santana|     Felicia|    Aguilar|\n",
      "|     Felicia|    Santana|     Felicia|       Wall|\n",
      "|     Felicia|    Santana|     Felicia|       Ward|\n",
      "|     Felicia|    Santana|     Felicia|   Anderson|\n",
      "|     Felicia|    Santana|     Felicia|      Wells|\n",
      "+------------+-----------+------------+-----------+\n",
      "only showing top 20 rows\n",
      "\n"
     ]
    }
   ],
   "source": [
    "from pyspark.sql.functions import col\n",
    "df_res.select(\\\n",
    "              df_bucketed_people_1['first_name'].alias('first_name_1'),\n",
    "              df_bucketed_people_1['last_name'].alias('last_name_1'),\n",
    "              df_bucketed_people_2['first_name'].alias('first_name_2'),\n",
    "              df_bucketed_people_2['last_name'].alias('last_name_2'),).show()"
   ]
  },
  {
   "cell_type": "code",
   "execution_count": 8,
   "id": "9db0dd23-a641-49a7-a86d-7870b6f86edb",
   "metadata": {},
   "outputs": [
    {
     "name": "stdout",
     "output_type": "stream",
     "text": [
      "== Physical Plan ==\n",
      "AdaptiveSparkPlan isFinalPlan=false\n",
      "+- Project [first_name#20, last_name#21]\n",
      "   +- SortMergeJoin [first_name#20], [first_name#24], Inner\n",
      "      :- Sort [first_name#20 ASC NULLS FIRST], false, 0\n",
      "      :  +- Filter (first_name#20 IN (John,Mary) AND isnotnull(first_name#20))\n",
      "      :     +- FileScan parquet spark_catalog.default.bucketed_people_1[first_name#20,last_name#21] Batched: true, Bucketed: true, DataFilters: [first_name#20 IN (John,Mary), isnotnull(first_name#20)], Format: Parquet, Location: InMemoryFileIndex(1 paths)[hdfs://adhcluster2.neoflex.ru:8020/users/ssenigov/spark_warehouse/bp1], PartitionFilters: [], PushedFilters: [In(first_name, [John,Mary]), IsNotNull(first_name)], ReadSchema: struct<first_name:string,last_name:string>, SelectedBucketsCount: 2 out of 50\n",
      "      +- Sort [first_name#24 ASC NULLS FIRST], false, 0\n",
      "         +- Filter (first_name#24 IN (John,Mary) AND isnotnull(first_name#24))\n",
      "            +- FileScan parquet spark_catalog.default.bucketed_people_2[first_name#24] Batched: true, Bucketed: true, DataFilters: [first_name#24 IN (John,Mary), isnotnull(first_name#24)], Format: Parquet, Location: InMemoryFileIndex(1 paths)[hdfs://adhcluster2.neoflex.ru:8020/users/ssenigov/spark_warehouse/bp2], PartitionFilters: [], PushedFilters: [In(first_name, [John,Mary]), IsNotNull(first_name)], ReadSchema: struct<first_name:string>, SelectedBucketsCount: 2 out of 50\n",
      "\n",
      "\n"
     ]
    }
   ],
   "source": [
    "df_filtered = spark.sql(\"\"\"\n",
    " select bucketed_people_1.first_name, bucketed_people_1.last_name\n",
    "  from bucketed_people_1 \n",
    "   join bucketed_people_2 on bucketed_people_1.first_name = bucketed_people_2.first_name\n",
    "                          and bucketed_people_1.first_name in ('John', 'Mary') \"\"\" \n",
    "      )\n",
    "df_filtered.explain()"
   ]
  },
  {
   "cell_type": "code",
   "execution_count": 9,
   "id": "4b988181-ac63-4574-b961-65613ac75781",
   "metadata": {},
   "outputs": [
    {
     "name": "stdout",
     "output_type": "stream",
     "text": [
      "+----------+-----+\n",
      "|first_name|count|\n",
      "+----------+-----+\n",
      "|      John|10950|\n",
      "|      Mary| 2205|\n",
      "+----------+-----+\n",
      "\n"
     ]
    }
   ],
   "source": [
    "df_filtered.groupBy('first_name').count().show()"
   ]
  },
  {
   "cell_type": "code",
   "execution_count": 10,
   "id": "e244ed93-1a7d-452c-b8c2-b255d6656af3",
   "metadata": {},
   "outputs": [],
   "source": [
    "#spark.stop()"
   ]
  }
 ],
 "metadata": {
  "kernelspec": {
   "display_name": "Python 3 (ipykernel)",
   "language": "python",
   "name": "python3"
  },
  "language_info": {
   "codemirror_mode": {
    "name": "ipython",
    "version": 3
   },
   "file_extension": ".py",
   "mimetype": "text/x-python",
   "name": "python",
   "nbconvert_exporter": "python",
   "pygments_lexer": "ipython3",
   "version": "3.9.16"
  }
 },
 "nbformat": 4,
 "nbformat_minor": 5
}
