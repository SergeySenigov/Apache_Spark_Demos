{
 "cells": [
  {
   "cell_type": "code",
   "execution_count": null,
   "id": "8ce6b1dc-be57-4247-a04f-3344b4f0ca97",
   "metadata": {},
   "outputs": [],
   "source": [
    "import os, sys\n",
    "os.environ['HADOOP_CONF_DIR'] = '/etc/hadoop/conf'\n",
    "os.environ['YARN_CONF_DIR'] = '/etc/hadoop/conf'\n",
    "os.environ['PYSPARK_PYTHON'] =  'python3.9'\n",
    "os.environ['PYSPARK_DRIVER_PYTHON'] = 'python3.9'\n",
    "os.environ['HADOOP_USER_NAME']='ssenigov'\n",
    "\n",
    "from pyspark.sql import SparkSession\n",
    "from pyspark import SparkContext, SparkConf, StorageLevel, RDD\n",
    "from pyspark.sql.functions import col"
   ]
  },
  {
   "cell_type": "code",
   "execution_count": null,
   "id": "db7c2edf-43ce-4a2e-ac39-be7a1964b3e8",
   "metadata": {},
   "outputs": [],
   "source": [
    "conf = SparkConf().setAppName('Head_VS_Take')\\\n",
    "    .setMaster('yarn')\n",
    "\n",
    "spark = SparkSession.builder.config(conf=conf).getOrCreate()"
   ]
  },
  {
   "cell_type": "code",
   "execution_count": null,
   "id": "241553a0-89d1-4c52-8440-1476e2cbed15",
   "metadata": {
    "scrolled": true
   },
   "outputs": [],
   "source": [
    "df = spark.createDataFrame([('Mary', 'Foo', 12), ('Bob', 'Bar', 14)], ['name', 'name2', 'age'])\n",
    "df.show()"
   ]
  },
  {
   "cell_type": "code",
   "execution_count": null,
   "id": "e4dcbad9-3b19-4d8d-a196-621fe0524032",
   "metadata": {},
   "outputs": [],
   "source": [
    "from pyspark.sql.functions import lit\n",
    "\n",
    "for empty_flag in [False, True]:\n",
    "    print('When DataFrame Empty = {0}'.format(empty_flag))\n",
    "\n",
    "    for func in (df.take, df.head):\n",
    "        print('When func = {0}'.format(func.__name__))\n",
    "        \n",
    "        for n in [None, 0,1]:        \n",
    "            try:\n",
    "                result = func(n)\n",
    "                print('{0}({1}): type: {2}, value: {3}'.format(\\\n",
    "                    func.__name__, n, type(result), result))\n",
    "            except Exception as e:\n",
    "                #print('Exception: {0}'.format(repr(e)))\n",
    "                print('{0}({1}): Exception'.format(func.__name__, n))\n",
    "    print('\\n')"
   ]
  },
  {
   "cell_type": "code",
   "execution_count": null,
   "id": "e244ed93-1a7d-452c-b8c2-b255d6656af3",
   "metadata": {},
   "outputs": [],
   "source": [
    " \n",
    "spark.stop()"
   ]
  },
  {
   "cell_type": "code",
   "execution_count": null,
   "id": "37f3f224-f02d-4bb0-aa4f-0e4b1a711cfb",
   "metadata": {},
   "outputs": [],
   "source": []
  }
 ],
 "metadata": {
  "kernelspec": {
   "display_name": "Python 3 (ipykernel)",
   "language": "python",
   "name": "python3"
  },
  "language_info": {
   "codemirror_mode": {
    "name": "ipython",
    "version": 3
   },
   "file_extension": ".py",
   "mimetype": "text/x-python",
   "name": "python",
   "nbconvert_exporter": "python",
   "pygments_lexer": "ipython3",
   "version": "3.9.16"
  }
 },
 "nbformat": 4,
 "nbformat_minor": 5
}
