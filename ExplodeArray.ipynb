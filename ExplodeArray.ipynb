{
 "cells": [
  {
   "cell_type": "code",
   "execution_count": 1,
   "id": "8ce6b1dc-be57-4247-a04f-3344b4f0ca97",
   "metadata": {},
   "outputs": [],
   "source": [
    "import os, sys\n",
    "os.environ['HADOOP_CONF_DIR'] = '/etc/hadoop/conf'\n",
    "os.environ['YARN_CONF_DIR'] = '/etc/hadoop/conf'\n",
    "os.environ['PYSPARK_PYTHON'] =  'python3.9'\n",
    "os.environ['PYSPARK_DRIVER_PYTHON'] = 'python3.9'\n",
    "os.environ['HADOOP_USER_NAME']='ssenigov'\n",
    "\n",
    "from pyspark.sql import SparkSession\n",
    "from pyspark import SparkContext, SparkConf"
   ]
  },
  {
   "cell_type": "code",
   "execution_count": 4,
   "id": "db7c2edf-43ce-4a2e-ac39-be7a1964b3e8",
   "metadata": {},
   "outputs": [
    {
     "name": "stdout",
     "output_type": "stream",
     "text": [
      "app_id                                   application_1727681258360_0010\n"
     ]
    }
   ],
   "source": [
    "conf = SparkConf().setAppName('ExplodeArray').setMaster('yarn')\\\n",
    "   .set('spark.sql.legacy.timeParserPolicy', 'LEGACY')\n",
    "spark = SparkSession.builder.config(conf=conf).getOrCreate()\n",
    "\n",
    "sc = spark.sparkContext\n",
    "print(\"app_id\".ljust(40), sc.applicationId)"
   ]
  },
  {
   "cell_type": "code",
   "execution_count": 5,
   "id": "048a81ce-870f-4850-b1d4-8fa791ebcba4",
   "metadata": {},
   "outputs": [
    {
     "name": "stdout",
     "output_type": "stream",
     "text": [
      "root\n",
      " |-- event_name: string (nullable = false)\n",
      " |-- year: long (nullable = false)\n",
      " |-- month: long (nullable = false)\n",
      " |-- event_days: array (nullable = false)\n",
      " |    |-- element: long (containsNull = true)\n",
      "\n"
     ]
    },
    {
     "name": "stderr",
     "output_type": "stream",
     "text": [
      "                                                                                \r"
     ]
    },
    {
     "name": "stdout",
     "output_type": "stream",
     "text": [
      "+------------------+----+-----+---------------+\n",
      "|        event_name|year|month|     event_days|\n",
      "+------------------+----+-----+---------------+\n",
      "|Meeting Project #1|2024|   10|     [1, 8, 22]|\n",
      "|Meeting Project #2|2024|   11|[4, 12, 25, 26]|\n",
      "+------------------+----+-----+---------------+\n",
      "\n",
      "+------------------+----+-----+---+----------+--------+\n",
      "|        event_name|year|month|day|event_date|week_day|\n",
      "+------------------+----+-----+---+----------+--------+\n",
      "|Meeting Project #1|2024|   10|  1|2024-10-01| Tuesday|\n",
      "|Meeting Project #1|2024|   10|  8|2024-10-08| Tuesday|\n",
      "|Meeting Project #1|2024|   10| 22|2024-10-22| Tuesday|\n",
      "|Meeting Project #2|2024|   11|  4|2024-11-04|  Monday|\n",
      "|Meeting Project #2|2024|   11| 12|2024-11-12| Tuesday|\n",
      "|Meeting Project #2|2024|   11| 25|2024-11-25|  Monday|\n",
      "|Meeting Project #2|2024|   11| 26|2024-11-26| Tuesday|\n",
      "+------------------+----+-----+---+----------+--------+\n",
      "\n"
     ]
    }
   ],
   "source": [
    "from pyspark.sql.types import ArrayType, StructType, StructField, StringType, IntegerType, FloatType, DoubleType, DateType, LongType\n",
    "from pyspark.sql.functions import explode, col, concat, date_format, to_date\n",
    " \n",
    "schema = StructType([StructField('event_name', StringType(), False), StructField('year', LongType(), False), \\\n",
    "                     StructField('month', LongType(), False), StructField('event_days', ArrayType(LongType()), False),])\n",
    " \n",
    "df_calendar = spark.createDataFrame( [('Meeting Project #1', 2024, 10, [1, 8, 22],), ('Meeting Project #2', 2024, 11, [4, 12, 25, 26],)], schema)\n",
    "df_calendar.printSchema()\n",
    "df_calendar.show()\n",
    " \n",
    "df_event_dates = df_calendar.select(col('event_name'), col('year'), col('month'), explode(col('event_days')).alias('day'))\\\n",
    "   .withColumn('str_date', concat(col('year'), col('month'), col('day')))\\\n",
    "   .withColumn('event_date', to_date(col('str_date'), 'yyyyMMdd'))\\\n",
    "   .withColumn('week_day', date_format(col('event_date'), 'EEEE').alias('week_day'))\\\n",
    "   .drop('str_date')\n",
    "df_event_dates.show()"
   ]
  },
  {
   "cell_type": "code",
   "execution_count": null,
   "id": "e244ed93-1a7d-452c-b8c2-b255d6656af3",
   "metadata": {},
   "outputs": [],
   "source": [
    "spark.stop()"
   ]
  }
 ],
 "metadata": {
  "kernelspec": {
   "display_name": "Python 3 (ipykernel)",
   "language": "python",
   "name": "python3"
  },
  "language_info": {
   "codemirror_mode": {
    "name": "ipython",
    "version": 3
   },
   "file_extension": ".py",
   "mimetype": "text/x-python",
   "name": "python",
   "nbconvert_exporter": "python",
   "pygments_lexer": "ipython3",
   "version": "3.9.16"
  }
 },
 "nbformat": 4,
 "nbformat_minor": 5
}
