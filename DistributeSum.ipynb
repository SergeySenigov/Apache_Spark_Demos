{
 "cells": [
  {
   "cell_type": "code",
   "execution_count": 1,
   "id": "8ce6b1dc-be57-4247-a04f-3344b4f0ca97",
   "metadata": {},
   "outputs": [],
   "source": [
    "import os, sys\n",
    "os.environ['HADOOP_CONF_DIR'] = '/etc/hadoop/conf'\n",
    "os.environ['YARN_CONF_DIR'] = '/etc/hadoop/conf'\n",
    "os.environ['PYSPARK_PYTHON'] =  'python3.9'\n",
    "os.environ['PYSPARK_DRIVER_PYTHON'] = 'python3.9'\n",
    "os.environ['HADOOP_USER_NAME']='ssenigov'\n",
    "\n",
    "from pyspark.sql import SparkSession\n",
    "from pyspark import SparkContext, SparkConf"
   ]
  },
  {
   "cell_type": "code",
   "execution_count": 2,
   "id": "db7c2edf-43ce-4a2e-ac39-be7a1964b3e8",
   "metadata": {},
   "outputs": [
    {
     "name": "stderr",
     "output_type": "stream",
     "text": [
      "Setting default log level to \"WARN\".\n",
      "To adjust logging level use sc.setLogLevel(newLevel). For SparkR, use setLogLevel(newLevel).\n",
      "25/01/07 21:33:10 WARN NativeCodeLoader: Unable to load native-hadoop library for your platform... using builtin-java classes where applicable\n",
      "25/01/07 21:33:13 WARN DomainSocketFactory: The short-circuit local reads feature cannot be used because libhadoop cannot be loaded.\n",
      "25/01/07 21:33:13 WARN Client: Neither spark.yarn.jars nor spark.yarn.archive is set, falling back to uploading libraries under SPARK_HOME.\n"
     ]
    },
    {
     "name": "stdout",
     "output_type": "stream",
     "text": [
      "app_id                                   application_1727681258360_0100\n"
     ]
    }
   ],
   "source": [
    "conf = SparkConf().setAppName('DistributeSum').setMaster('yarn')\n",
    "spark = SparkSession.builder.config(conf=conf).getOrCreate()\n",
    "print(\"app_id\".ljust(40), spark.sparkContext.applicationId)"
   ]
  },
  {
   "cell_type": "code",
   "execution_count": 3,
   "id": "a9ceb5e2-51d6-4f01-8a51-e1b5ff6d5a52",
   "metadata": {},
   "outputs": [
    {
     "name": "stderr",
     "output_type": "stream",
     "text": [
      "                                                                                \r"
     ]
    },
    {
     "name": "stdout",
     "output_type": "stream",
     "text": [
      "+----------+\n",
      "|manager_id|\n",
      "+----------+\n",
      "|         1|\n",
      "|         2|\n",
      "|         3|\n",
      "|         4|\n",
      "|         5|\n",
      "|         6|\n",
      "|         7|\n",
      "+----------+\n",
      "\n"
     ]
    },
    {
     "name": "stderr",
     "output_type": "stream",
     "text": [
      "[Stage 1:>                                                          (0 + 1) / 1]\r"
     ]
    },
    {
     "name": "stdout",
     "output_type": "stream",
     "text": [
      "+----------+\n",
      "|total_plan|\n",
      "+----------+\n",
      "|       100|\n",
      "+----------+\n",
      "\n"
     ]
    },
    {
     "name": "stderr",
     "output_type": "stream",
     "text": [
      "                                                                                \r"
     ]
    }
   ],
   "source": [
    "df_managers = spark.range(1, 8).withColumnRenamed('id', 'manager_id')\n",
    "df_total_plan = spark.createDataFrame([{'total_plan': 100}])\n",
    "\n",
    "df_managers.createOrReplaceTempView(\"managers\")\n",
    "df_total_plan.createOrReplaceTempView(\"total_plan\")\n",
    "df_managers.show()\n",
    "df_total_plan.show()"
   ]
  },
  {
   "cell_type": "code",
   "execution_count": 4,
   "id": "7634d6bc-f177-4fbe-9463-dedfe941b529",
   "metadata": {
    "scrolled": true
   },
   "outputs": [
    {
     "name": "stderr",
     "output_type": "stream",
     "text": [
      "[Stage 6:=============================>                             (1 + 1) / 2]\r"
     ]
    },
    {
     "name": "stdout",
     "output_type": "stream",
     "text": [
      "+----------+------------+\n",
      "|manager_id|manager_plan|\n",
      "+----------+------------+\n",
      "|         1|          15|\n",
      "|         2|          15|\n",
      "|         3|          14|\n",
      "|         4|          14|\n",
      "|         5|          14|\n",
      "|         6|          14|\n",
      "|         7|          14|\n",
      "+----------+------------+\n",
      "\n"
     ]
    },
    {
     "name": "stderr",
     "output_type": "stream",
     "text": [
      "                                                                                \r"
     ]
    }
   ],
   "source": [
    "sql = \"\"\"\n",
    " with cte_man_cnt as (\n",
    "   select count(1) manager_cnt \n",
    "    from managers),\n",
    " cte_lines_plan as (\n",
    "   select explode(sequence(1, total_plan)) line_plan \n",
    "    from total_plan ),\n",
    " cte_plan_to_manager as (\n",
    "   select line_plan, manager_cnt, (line_plan-1)%manager_cnt + 1 as manager_id\n",
    "    from cte_lines_plan join cte_man_cnt)\n",
    " select manager_id, count(1) manager_plan\n",
    "  from cte_plan_to_manager\n",
    " group by manager_id\n",
    " order by manager_id\n",
    "\"\"\"    \n",
    "spark.sql(sql).show()"
   ]
  },
  {
   "cell_type": "code",
   "execution_count": 5,
   "id": "637d2376-83aa-4853-a5ed-cdba6558cd45",
   "metadata": {},
   "outputs": [
    {
     "name": "stdout",
     "output_type": "stream",
     "text": [
      "+----------+----------+----+---+------------+\n",
      "|manager_id|total_plan|diff| rn|manager_plan|\n",
      "+----------+----------+----+---+------------+\n",
      "|         1|       100|   2|  1|          15|\n",
      "|         2|       100|   2|  2|          15|\n",
      "|         3|       100|   2|  3|          14|\n",
      "|         4|       100|   2|  4|          14|\n",
      "|         5|       100|   2|  5|          14|\n",
      "|         6|       100|   2|  6|          14|\n",
      "|         7|       100|   2|  7|          14|\n",
      "+----------+----------+----+---+------------+\n",
      "\n"
     ]
    }
   ],
   "source": [
    "sql = \"\"\" \n",
    " with managers (\n",
    "  select manager_id, count(1) over(partition by 1 ) manager_cnt \n",
    "   from managers ),\n",
    "  plan (\n",
    "  select manager_id, total_plan, floor(total_plan/manager_cnt) pre_manager_plan,\n",
    "   total_plan - floor(total_plan/manager_cnt)*manager_cnt diff,\n",
    "   row_number() over (partition by 1 order by manager_id) rn\n",
    "  from total_plan join managers )\n",
    " select plan.manager_id, plan.total_plan, plan.diff, plan.rn, \n",
    "   pre_manager_plan + (case when rn<=diff then 1 else 0 end) manager_plan\n",
    " from plan\n",
    " order by manager_id\n",
    " \"\"\"\n",
    "spark.sql(sql).show()"
   ]
  },
  {
   "cell_type": "code",
   "execution_count": 6,
   "id": "487fbf0c-3832-497f-a3f4-5c1a0e27b8f2",
   "metadata": {
    "scrolled": true
   },
   "outputs": [
    {
     "name": "stdout",
     "output_type": "stream",
     "text": [
      "+----------+--------+\n",
      "|manager_id|count(1)|\n",
      "+----------+--------+\n",
      "|         1|      15|\n",
      "|         2|      15|\n",
      "|         3|      14|\n",
      "|         4|      14|\n",
      "|         5|      14|\n",
      "|         6|      14|\n",
      "|         7|      14|\n",
      "+----------+--------+\n",
      "\n"
     ]
    }
   ],
   "source": [
    "manager_cnt = spark.table('managers').count()\n",
    "\n",
    "sql = \"\"\"\n",
    " with cte_lines_plan as (\n",
    "  select explode(sequence(1, total_plan)) line_plan \n",
    "   from total_plan),\n",
    " cte_man_plan as (\n",
    "  select line_plan, \n",
    "    NTILE({manager_cnt}) over(partition by 1 order by line_plan) manager_id\n",
    "    /* NTILE needs evaluable expression, not value from any column */\n",
    "   from cte_lines_plan)\n",
    " select manager_id, count(1)\n",
    "   from cte_man_plan\n",
    " group by manager_id \n",
    " order by manager_id \n",
    "\"\"\".format(manager_cnt=manager_cnt)\n",
    "spark.sql(sql).show()"
   ]
  },
  {
   "cell_type": "code",
   "execution_count": 7,
   "id": "e244ed93-1a7d-452c-b8c2-b255d6656af3",
   "metadata": {},
   "outputs": [],
   "source": [
    "# spark.stop()"
   ]
  }
 ],
 "metadata": {
  "kernelspec": {
   "display_name": "Python 3 (ipykernel)",
   "language": "python",
   "name": "python3"
  },
  "language_info": {
   "codemirror_mode": {
    "name": "ipython",
    "version": 3
   },
   "file_extension": ".py",
   "mimetype": "text/x-python",
   "name": "python",
   "nbconvert_exporter": "python",
   "pygments_lexer": "ipython3",
   "version": "3.9.16"
  }
 },
 "nbformat": 4,
 "nbformat_minor": 5
}
