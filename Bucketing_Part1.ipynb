{
 "cells": [
  {
   "cell_type": "code",
   "execution_count": 1,
   "id": "8ce6b1dc-be57-4247-a04f-3344b4f0ca97",
   "metadata": {},
   "outputs": [],
   "source": [
    "import os, sys\n",
    "os.environ['HADOOP_CONF_DIR'] = '/etc/hadoop/conf'\n",
    "os.environ['YARN_CONF_DIR'] = '/etc/hadoop/conf'\n",
    "os.environ['PYSPARK_PYTHON'] =  'python3.9'\n",
    "os.environ['PYSPARK_DRIVER_PYTHON'] = 'python3.9'\n",
    "os.environ['HADOOP_USER_NAME']='ssenigov'\n",
    "\n",
    "from pyspark.sql import SparkSession\n",
    "from pyspark import SparkContext, SparkConf"
   ]
  },
  {
   "cell_type": "code",
   "execution_count": null,
   "id": "db7c2edf-43ce-4a2e-ac39-be7a1964b3e8",
   "metadata": {},
   "outputs": [],
   "source": [
    "conf = (SparkConf().setAppName('Bucketing_Part1').setMaster('yarn') \n",
    "    .set(\"spark.sql.autoBroadcastJoinThreshold\", -1)  \n",
    "    .set(\"spark.sql.warehouse.dir\", 'hdfs:/users/ssenigov/spark_warehouse') )\n",
    "spark = SparkSession.builder.config(conf=conf).enableHiveSupport().getOrCreate()\n",
    "print(\"app_id\".ljust(40), spark.sparkContext.applicationId)"
   ]
  },
  {
   "cell_type": "code",
   "execution_count": 3,
   "id": "77b33542-c7dd-4a63-b153-ef2e529671e4",
   "metadata": {},
   "outputs": [
    {
     "name": "stderr",
     "output_type": "stream",
     "text": [
      "                                                                                \r"
     ]
    }
   ],
   "source": [
    "from faker import Faker\n",
    "from pyspark.sql import Row\n",
    "\n",
    "# create data with faker module and make two sample dataframes with 10000 and 5000 rows \n",
    "fake = Faker()\n",
    "Faker.seed(0)\n",
    "\n",
    "people1 = [ Row(fake.first_name(), fake.last_name()) for _ in range(10000)]\n",
    "people2 = [ Row(fake.first_name(), fake.last_name()) for _ in range(5000)]\n",
    "\n",
    "df1 = spark.sparkContext.parallelize(people1, 2).toDF([\"first_name\", \"last_name\"])\n",
    "df2 = spark.sparkContext.parallelize(people2, 2).toDF([\"first_name\", \"last_name\"])"
   ]
  },
  {
   "cell_type": "code",
   "execution_count": 4,
   "id": "d36f6f23-d25f-4dcf-87c4-2bf9013f1751",
   "metadata": {},
   "outputs": [
    {
     "name": "stderr",
     "output_type": "stream",
     "text": [
      "                                                                                \r"
     ]
    }
   ],
   "source": [
    "df1.write.bucketBy(5, 'first_name').mode(\"overwrite\")\\\n",
    "  .saveAsTable('bucketed_people_1', path='hdfs:/users/ssenigov/spark_warehouse/bp1') ,\n",
    "\n",
    "df2.write.bucketBy(5, 'first_name').mode(\"overwrite\")\\\n",
    "  .saveAsTable('bucketed_people_2', path='hdfs:/users/ssenigov/spark_warehouse/bp2')"
   ]
  },
  {
   "cell_type": "code",
   "execution_count": 5,
   "id": "eadb42cc-4e86-425a-8e32-1895a0b05ac1",
   "metadata": {},
   "outputs": [],
   "source": [
    "df_bucketed_people_1 = spark.read.table(\"bucketed_people_1\")\n",
    "df_bucketed_people_2 = spark.read.table(\"bucketed_people_2\")"
   ]
  },
  {
   "cell_type": "code",
   "execution_count": 6,
   "id": "34e17061-c3c4-4c70-a664-2ef0ad15721c",
   "metadata": {
    "scrolled": true
   },
   "outputs": [
    {
     "name": "stdout",
     "output_type": "stream",
     "text": [
      "== Physical Plan ==\n",
      "AdaptiveSparkPlan isFinalPlan=false\n",
      "+- Project [first_name#20, last_name#21, last_name#25]\n",
      "   +- SortMergeJoin [first_name#20], [first_name#24], Inner\n",
      "      :- Sort [first_name#20 ASC NULLS FIRST], false, 0\n",
      "      :  +- Filter isnotnull(first_name#20)\n",
      "      :     +- FileScan parquet spark_catalog.default.bucketed_people_1[first_name#20,last_name#21] Batched: true, Bucketed: true, DataFilters: [isnotnull(first_name#20)], Format: Parquet, Location: InMemoryFileIndex(1 paths)[hdfs://adhcluster2.neoflex.ru:8020/users/ssenigov/spark_warehouse/bp1], PartitionFilters: [], PushedFilters: [IsNotNull(first_name)], ReadSchema: struct<first_name:string,last_name:string>, SelectedBucketsCount: 5 out of 5\n",
      "      +- Sort [first_name#24 ASC NULLS FIRST], false, 0\n",
      "         +- Filter isnotnull(first_name#24)\n",
      "            +- FileScan parquet spark_catalog.default.bucketed_people_2[first_name#24,last_name#25] Batched: true, Bucketed: true, DataFilters: [isnotnull(first_name#24)], Format: Parquet, Location: InMemoryFileIndex(1 paths)[hdfs://adhcluster2.neoflex.ru:8020/users/ssenigov/spark_warehouse/bp2], PartitionFilters: [], PushedFilters: [IsNotNull(first_name)], ReadSchema: struct<first_name:string,last_name:string>, SelectedBucketsCount: 5 out of 5\n",
      "\n",
      "\n"
     ]
    }
   ],
   "source": [
    "df_res = df_bucketed_people_1.join(df_bucketed_people_2, ['first_name'])\n",
    "df_res.explain()"
   ]
  },
  {
   "cell_type": "code",
   "execution_count": 9,
   "id": "8a8eaa83-1065-4cfc-89c1-0564bc274961",
   "metadata": {
    "scrolled": true
   },
   "outputs": [
    {
     "name": "stderr",
     "output_type": "stream",
     "text": [
      "[Stage 6:>                                                          (0 + 1) / 2]\r"
     ]
    },
    {
     "name": "stdout",
     "output_type": "stream",
     "text": [
      "+---------+----------+----------+\n",
      "|last_name|first_name|first_name|\n",
      "+---------+----------+----------+\n",
      "|   Abbott|     Bryan|  Lawrence|\n",
      "|   Abbott|     Bryan|    Andrea|\n",
      "|   Abbott|  Cristina|  Lawrence|\n",
      "|   Abbott|  Cristina|    Andrea|\n",
      "|   Abbott|      Brad|  Lawrence|\n",
      "|   Abbott|      Brad|    Andrea|\n",
      "|   Abbott|       Lee|  Lawrence|\n",
      "|   Abbott|       Lee|    Andrea|\n",
      "|   Abbott|    Glenda|  Lawrence|\n",
      "|   Abbott|    Glenda|    Andrea|\n",
      "|  Acevedo|    Brooke|  Jennifer|\n",
      "|  Acevedo|    Brooke|     Terri|\n",
      "|  Acevedo|    Brooke|   Raymond|\n",
      "|  Acevedo|      Mary|  Jennifer|\n",
      "|  Acevedo|      Mary|     Terri|\n",
      "|  Acevedo|      Mary|   Raymond|\n",
      "|  Acevedo|    Nicole|  Jennifer|\n",
      "|  Acevedo|    Nicole|     Terri|\n",
      "|  Acevedo|    Nicole|   Raymond|\n",
      "|  Acevedo|     Brian|  Jennifer|\n",
      "+---------+----------+----------+\n",
      "only showing top 20 rows\n",
      "\n"
     ]
    },
    {
     "name": "stderr",
     "output_type": "stream",
     "text": [
      "                                                                                \r"
     ]
    }
   ],
   "source": [
    "df_res.show()"
   ]
  },
  {
   "cell_type": "code",
   "execution_count": 8,
   "id": "2d5651cb-f1bd-4c9f-86cf-07296abdee27",
   "metadata": {
    "scrolled": true
   },
   "outputs": [
    {
     "name": "stdout",
     "output_type": "stream",
     "text": [
      "== Physical Plan ==\n",
      "AdaptiveSparkPlan isFinalPlan=false\n",
      "+- Project [last_name#21, first_name#20, first_name#24]\n",
      "   +- SortMergeJoin [last_name#21], [last_name#25], Inner\n",
      "      :- Sort [last_name#21 ASC NULLS FIRST], false, 0\n",
      "      :  +- Exchange hashpartitioning(last_name#21, 200), ENSURE_REQUIREMENTS, [plan_id=171]\n",
      "      :     +- Filter isnotnull(last_name#21)\n",
      "      :        +- FileScan parquet spark_catalog.default.bucketed_people_1[first_name#20,last_name#21] Batched: true, Bucketed: false (disabled by query planner), DataFilters: [isnotnull(last_name#21)], Format: Parquet, Location: InMemoryFileIndex(1 paths)[hdfs://adhcluster2.neoflex.ru:8020/users/ssenigov/spark_warehouse/bp1], PartitionFilters: [], PushedFilters: [IsNotNull(last_name)], ReadSchema: struct<first_name:string,last_name:string>\n",
      "      +- Sort [last_name#25 ASC NULLS FIRST], false, 0\n",
      "         +- Exchange hashpartitioning(last_name#25, 200), ENSURE_REQUIREMENTS, [plan_id=175]\n",
      "            +- Filter isnotnull(last_name#25)\n",
      "               +- FileScan parquet spark_catalog.default.bucketed_people_2[first_name#24,last_name#25] Batched: true, Bucketed: false (disabled by query planner), DataFilters: [isnotnull(last_name#25)], Format: Parquet, Location: InMemoryFileIndex(1 paths)[hdfs://adhcluster2.neoflex.ru:8020/users/ssenigov/spark_warehouse/bp2], PartitionFilters: [], PushedFilters: [IsNotNull(last_name)], ReadSchema: struct<first_name:string,last_name:string>\n",
      "\n",
      "\n"
     ]
    }
   ],
   "source": [
    "df_res = df_bucketed_people_1.join(df_bucketed_people_2, ['last_name'])\n",
    "df_res.explain()"
   ]
  }
 ],
 "metadata": {
  "kernelspec": {
   "display_name": "Python 3 (ipykernel)",
   "language": "python",
   "name": "python3"
  },
  "language_info": {
   "codemirror_mode": {
    "name": "ipython",
    "version": 3
   },
   "file_extension": ".py",
   "mimetype": "text/x-python",
   "name": "python",
   "nbconvert_exporter": "python",
   "pygments_lexer": "ipython3",
   "version": "3.9.16"
  }
 },
 "nbformat": 4,
 "nbformat_minor": 5
}
