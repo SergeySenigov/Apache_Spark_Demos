{
 "cells": [
  {
   "cell_type": "code",
   "execution_count": null,
   "id": "8ce6b1dc-be57-4247-a04f-3344b4f0ca97",
   "metadata": {},
   "outputs": [],
   "source": [
    "import os, sys\n",
    "os.environ['HADOOP_CONF_DIR'] = '/etc/hadoop/conf'\n",
    "os.environ['YARN_CONF_DIR'] = '/etc/hadoop/conf'\n",
    "# os.environ['JAVA_HOME']='/usr'\n",
    "# os.environ['SPARK_HOME'] ='/usr/local/lib/python3.9/site-packages/pyspark/'\n",
    "os.environ['PYSPARK_PYTHON'] =  'python3.9'\n",
    "os.environ['PYSPARK_DRIVER_PYTHON'] = 'python3.9'\n",
    "# os.environ['HADOOP_USER_NAME']='skhalikov'\n",
    "os.environ['HADOOP_USER_NAME']='student02'\n",
    "\n",
    "from pyspark.sql import SparkSession\n",
    "from pyspark import SparkContext, SparkConf\n",
    "import pyspark.sql.functions as F"
   ]
  },
  {
   "cell_type": "code",
   "execution_count": null,
   "id": "db7c2edf-43ce-4a2e-ac39-be7a1964b3e8",
   "metadata": {},
   "outputs": [],
   "source": [
    "conf = SparkConf().setAppName('Explain_Plan_20240517')\\\n",
    "    .setMaster('yarn') \\\n",
    "    .set('spark.sql.adaptive.enabled', 'false')\\\n",
    "    .set('spark.sql.adaptive.coalescePartitions.parallelismFirst', 'true')\\\n",
    "    .set('spark.sql.shuffle.partitions', '220')\n",
    "\n",
    "    # .set('spark.sql.adaptive.coalescePartitions.initialPartitionNum', '250')\\\n",
    "    # .set('spark.default.parallelism', '4')\\\n",
    "    # .set('spark.dynamicAllocation.enabled', 'false')\\\n",
    "    # .set(\"spark.sql.sources.partitionOverwriteMode\", \"dynamic\") \n",
    " # Required for overwriting ONLY the required partitioned folders, and not the entire root folder\n",
    "\n",
    "spark = SparkSession.builder.config(conf=conf) \\\n",
    "    .getOrCreate()\n",
    "\n",
    "sc = spark.sparkContext\n",
    "print(\"app_id\".ljust(50), sc.applicationId)\n",
    "# print(\"\".ljust(50), spark.conf.get(\"\"))"
   ]
  },
  {
   "cell_type": "code",
   "execution_count": null,
   "id": "048a81ce-870f-4850-b1d4-8fa791ebcba4",
   "metadata": {},
   "outputs": [],
   "source": [
    "import random\n",
    "from datetime import date, timedelta\n",
    "\n",
    "end = date.today()\n",
    "start = end + timedelta(days=-300)\n",
    "\n",
    "names = ['Bob', 'James', 'Marek', 'Johannes', 'Иванов', 'Смирнов', 'Кузнецов', 'Попов', 'Васильев', 'Петров', 'Соколов', 'Михайлов', 'Новиков', 'Федоров', 'Морозов', 'Волков', 'Алексеев', 'Лебедев', 'Семенов', 'Егоров', 'Павлов', 'Козлов', 'Степанов', 'Николаев']\n",
    "countries = ['rus:eu', 'bel:eu', 'usa:am', 'fra:eu', 'aus:as', 'ger:eu', 'swe:eu', 'fin:eu', 'chi:as']\n",
    "customers = list()\n",
    "\n",
    "# save_path = \"/user/student02/customers_partitioned_year_month\"\n",
    "sc.setJobDescription('MY DESCRIPTION JOB 1')"
   ]
  },
  {
   "cell_type": "code",
   "execution_count": null,
   "id": "eeb07003-fd67-4ed5-8335-93356f84022c",
   "metadata": {},
   "outputs": [],
   "source": [
    "length_customers = 1000\n",
    "for i in range(length_customers):\n",
    "    random_date = start + (end - start) * random.random()\n",
    "\n",
    "    if i % 3 == 0:\n",
    "        country = countries[-1] # chi - 'China'\n",
    "    else:\n",
    "        country = countries[random.randint(0, len(countries)-2)] # without China\n",
    "    \n",
    "    customer = (names[random.randint(0, len(names)-1)], country, random.randint(-1000000, 1000000), random_date)\n",
    "    customers.append(customer)\n",
    "\n",
    "df_customers = spark.createDataFrame(data=customers, schema=[\"name\",\"country\",\"balance\",\"last_order_date\"])\n",
    "    # .withColumn(\"year\", F.year(\"last_order_date\"))\\\n",
    "    # .withColumn(\"month\", F.month(\"last_order_date\"))\n",
    "# df_customers.explain(True)"
   ]
  },
  {
   "cell_type": "code",
   "execution_count": null,
   "id": "51c901e7-133c-4060-9326-d67247c0190e",
   "metadata": {},
   "outputs": [],
   "source": [
    "# print(df_customers.rdd.getNumPartitions())\n",
    "df_customers.createOrReplaceTempView(\"customers\")"
   ]
  },
  {
   "cell_type": "code",
   "execution_count": null,
   "id": "5fdcf732-ea3c-4ece-b3f9-d39a03456aaf",
   "metadata": {
    "scrolled": true
   },
   "outputs": [],
   "source": [
    "# df_to_explain = df_customers.groupBy(\"country\").agg(F.count(\"name\"))\n",
    "# sc.setJobDescription('MY JOB group by rollup(country)')\n",
    "# sql_clause = \" select country, count(1), sum(balance) from customers \\\n",
    "#                              group by rollup(country) order by country desc\"\n",
    "# df_to_explain = spark.sql(sql_clause).show()\n",
    "# spark.sql(\"EXPLAIN \" + sql_clause).show(60, False, False)\n",
    "# .orderBy(\"name\", \"year\", \"month\") #.show()\n",
    "# df_grouped.rdd.getNumPartitions()\n",
    "# df_to_explain.explain(True)"
   ]
  },
  {
   "cell_type": "code",
   "execution_count": null,
   "id": "440bf4c7-8abb-45e7-a00d-a2d18b23a24c",
   "metadata": {
    "scrolled": true
   },
   "outputs": [],
   "source": [
    "sc.setJobDescription('JOB avg(balance) by name ')\n",
    "df_to_explain3 = spark.sql(\"select name, avg(balance) avgbal from customers group by name\")\n",
    "df_to_explain3.collect()"
   ]
  },
  {
   "cell_type": "code",
   "execution_count": null,
   "id": "ff64b06e-992f-4f1b-a665-5a0f39cd869b",
   "metadata": {},
   "outputs": [],
   "source": [
    "# df_to_explain.collect()\n",
    "print(df_to_explain3.rdd.getNumPartitions())\n"
   ]
  },
  {
   "cell_type": "code",
   "execution_count": null,
   "id": "3c522470-d633-4613-bd3a-feedfca3ff1d",
   "metadata": {
    "scrolled": true
   },
   "outputs": [],
   "source": [
    "--"
   ]
  },
  {
   "cell_type": "code",
   "execution_count": null,
   "id": "e244ed93-1a7d-452c-b8c2-b255d6656af3",
   "metadata": {},
   "outputs": [],
   "source": [
    "spark.stop()"
   ]
  }
 ],
 "metadata": {
  "kernelspec": {
   "display_name": "Python 3 (ipykernel)",
   "language": "python",
   "name": "python3"
  },
  "language_info": {
   "codemirror_mode": {
    "name": "ipython",
    "version": 3
   },
   "file_extension": ".py",
   "mimetype": "text/x-python",
   "name": "python",
   "nbconvert_exporter": "python",
   "pygments_lexer": "ipython3",
   "version": "3.9.16"
  }
 },
 "nbformat": 4,
 "nbformat_minor": 5
}
