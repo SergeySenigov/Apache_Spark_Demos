{
 "cells": [
  {
   "cell_type": "code",
   "execution_count": null,
   "id": "8ce6b1dc-be57-4247-a04f-3344b4f0ca97",
   "metadata": {},
   "outputs": [],
   "source": [
    "import os, sys\n",
    "os.environ['HADOOP_CONF_DIR'] = '/etc/hadoop/conf'\n",
    "os.environ['YARN_CONF_DIR'] = '/etc/hadoop/conf'\n",
    "os.environ['PYSPARK_PYTHON'] =  'python3.9'\n",
    "os.environ['PYSPARK_DRIVER_PYTHON'] = 'python3.9'\n",
    "os.environ['HADOOP_USER_NAME']='ssenigov'\n",
    "\n",
    "from pyspark.sql import SparkSession\n",
    "from pyspark import SparkContext, SparkConf\n",
    "import pyspark.sql.functions as F\n",
    "from pyspark import StorageLevel"
   ]
  },
  {
   "cell_type": "code",
   "execution_count": null,
   "id": "db7c2edf-43ce-4a2e-ac39-be7a1964b3e8",
   "metadata": {},
   "outputs": [],
   "source": [
    "conf = SparkConf().setAppName('SaveAsTable_Bucket_20240528')\\\n",
    "    .setMaster('yarn') \\\n",
    "    .set('spark.sql.shuffle.partitions', '10')\\\n",
    "    .set(\"spark.eventLog.logBlockUpdates.enabled\", 'true')\\\n",
    "    .set(\"spark.sql.warehouse.dir\", \"hdfs:///user/ssenigov/my-spark-storage/\")\n",
    "\n",
    "spark = SparkSession.builder.config(conf=conf).getOrCreate()\n",
    "\n",
    "sc = spark.sparkContext\n",
    "print(\"app_id\".ljust(50), sc.applicationId)\n",
    "print(\"spark.sql.warehouse.dir\".ljust(50), spark.conf.get(\"spark.sql.warehouse.dir\"))"
   ]
  },
  {
   "cell_type": "code",
   "execution_count": null,
   "id": "048a81ce-870f-4850-b1d4-8fa791ebcba4",
   "metadata": {},
   "outputs": [],
   "source": [
    "import random\n",
    "from datetime import date, timedelta\n",
    "\n",
    "end = date.today()\n",
    "start = end + timedelta(days=-300)\n",
    "\n",
    "names = ['Bob', 'James', 'Marek', 'Johannes', 'Иванов', 'Смирнов', 'Кузнецов', 'Попов', 'Васильев', 'Петров', 'Соколов', 'Михайлов', 'Новиков', 'Федоров', 'Морозов', 'Волков', 'Алексеев', 'Лебедев', 'Семенов', 'Егоров', 'Павлов', 'Козлов', 'Степанов', 'Николаев']\n",
    "countries = ['rus:eu', 'bel:eu', 'usa:am', 'fra:eu', 'aus:as', 'ger:eu', 'swe:eu', 'fin:eu', 'chi:as']"
   ]
  },
  {
   "cell_type": "code",
   "execution_count": null,
   "id": "eeb07003-fd67-4ed5-8335-93356f84022c",
   "metadata": {},
   "outputs": [],
   "source": [
    "length_customers = 1000000\n",
    "customers = list()\n",
    "for i in range(length_customers):\n",
    "    random_date = start + (end - start) * random.random()\n",
    "\n",
    "    if i % 3 == 0:\n",
    "        country = countries[-1] # chi - 'China'\n",
    "    else:\n",
    "        country = countries[random.randint(0, len(countries)-2)] # without China\n",
    "    \n",
    "    customer = (names[random.randint(0, len(names)-1)], country, random.randint(-1000000, 1000000), random_date)\n",
    "    customers.append(customer)\n",
    "\n",
    "df_customers = spark.sparkContext.parallelize(customers, 5)\\\n",
    "    .toDF(schema=[\"name\",\"country\",\"balance\",\"last_order_date\"])"
   ]
  },
  {
   "cell_type": "code",
   "execution_count": null,
   "id": "3601d8ef-b65f-4e0e-9470-47051a507824",
   "metadata": {},
   "outputs": [],
   "source": [
    "print(df_customers.rdd.getNumPartitions())\n",
    "_ = spark.sql(\"DROP TABLE IF EXISTS tblCustomers\")\n",
    "_ = spark.sql(\"DROP TABLE IF EXISTS tblCustomers_bucketed\")"
   ]
  },
  {
   "cell_type": "code",
   "execution_count": null,
   "id": "966c7c8a-4aa4-427e-8d62-691dc76f3944",
   "metadata": {},
   "outputs": [],
   "source": [
    "df_customers.coalesce(1).write.format('csv').bucketBy(numBuckets=50, col=\"name\")\\\n",
    "    .mode('overwrite').saveAsTable(\"tblCustomers_bucketed\")\n",
    "\n",
    "df_customers.coalesce(1).write.format('csv')\\\n",
    "    .mode('overwrite').saveAsTable(\"tblCustomers\")"
   ]
  },
  {
   "cell_type": "code",
   "execution_count": null,
   "id": "4d4bf403-4bf1-496a-a08e-00a61df9c56c",
   "metadata": {},
   "outputs": [],
   "source": [
    "--"
   ]
  },
  {
   "cell_type": "code",
   "execution_count": null,
   "id": "e036ef10-f135-44f0-a4bf-293a0bc0264a",
   "metadata": {},
   "outputs": [],
   "source": [
    "_ = spark.sql(\"DROP TABLE tblCustomers\")\n",
    "_ = spark.sql(\"DROP TABLE tblCustomers_bucketed\")"
   ]
  },
  {
   "cell_type": "code",
   "execution_count": null,
   "id": "e244ed93-1a7d-452c-b8c2-b255d6656af3",
   "metadata": {},
   "outputs": [],
   "source": [
    "spark.stop()"
   ]
  }
 ],
 "metadata": {
  "kernelspec": {
   "display_name": "Python 3 (ipykernel)",
   "language": "python",
   "name": "python3"
  },
  "language_info": {
   "codemirror_mode": {
    "name": "ipython",
    "version": 3
   },
   "file_extension": ".py",
   "mimetype": "text/x-python",
   "name": "python",
   "nbconvert_exporter": "python",
   "pygments_lexer": "ipython3",
   "version": "3.9.16"
  }
 },
 "nbformat": 4,
 "nbformat_minor": 5
}
