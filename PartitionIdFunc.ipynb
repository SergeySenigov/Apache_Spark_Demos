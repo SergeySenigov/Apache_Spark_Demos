{
 "cells": [
  {
   "cell_type": "code",
   "execution_count": 1,
   "id": "8ce6b1dc-be57-4247-a04f-3344b4f0ca97",
   "metadata": {},
   "outputs": [],
   "source": [
    "import os, sys\n",
    "os.environ['HADOOP_CONF_DIR'] = '/etc/hadoop/conf'\n",
    "os.environ['YARN_CONF_DIR'] = '/etc/hadoop/conf'\n",
    "os.environ['PYSPARK_PYTHON'] =  'python3.9'\n",
    "os.environ['PYSPARK_DRIVER_PYTHON'] = 'python3.9'\n",
    "os.environ['HADOOP_USER_NAME']='ssenigov'\n",
    "\n",
    "from pyspark.sql import SparkSession\n",
    "from pyspark import SparkContext, SparkConf"
   ]
  },
  {
   "cell_type": "code",
   "execution_count": 2,
   "id": "db7c2edf-43ce-4a2e-ac39-be7a1964b3e8",
   "metadata": {},
   "outputs": [
    {
     "name": "stderr",
     "output_type": "stream",
     "text": [
      "Setting default log level to \"WARN\".\n",
      "To adjust logging level use sc.setLogLevel(newLevel). For SparkR, use setLogLevel(newLevel).\n",
      "24/12/17 20:14:28 WARN NativeCodeLoader: Unable to load native-hadoop library for your platform... using builtin-java classes where applicable\n",
      "24/12/17 20:14:30 WARN DomainSocketFactory: The short-circuit local reads feature cannot be used because libhadoop cannot be loaded.\n",
      "24/12/17 20:14:30 WARN Client: Neither spark.yarn.jars nor spark.yarn.archive is set, falling back to uploading libraries under SPARK_HOME.\n"
     ]
    }
   ],
   "source": [
    "conf = (SparkConf().setAppName('PartitionIdFunc').setMaster('yarn') \\\n",
    "    .set('spark.sql.adaptive.enabled', 'false'))\n",
    "\n",
    "spark = SparkSession.builder.config(conf=conf).getOrCreate()"
   ]
  },
  {
   "cell_type": "code",
   "execution_count": 3,
   "id": "4951d792-aa84-4301-8507-07cf33bfc8d1",
   "metadata": {},
   "outputs": [
    {
     "name": "stdout",
     "output_type": "stream",
     "text": [
      "app_id                                   application_1727681258360_0049\n"
     ]
    }
   ],
   "source": [
    "sc = spark.sparkContext\n",
    "print(\"app_id\".ljust(40), sc.applicationId)"
   ]
  },
  {
   "cell_type": "code",
   "execution_count": 4,
   "id": "51a0e8b9-4166-430a-80c4-09f979bc4c0e",
   "metadata": {},
   "outputs": [
    {
     "name": "stderr",
     "output_type": "stream",
     "text": [
      "[Stage 2:===============================================>       (173 + 3) / 200]\r"
     ]
    },
    {
     "name": "stdout",
     "output_type": "stream",
     "text": [
      "+-----------------+-----+----------------------------------------+\n",
      "|row_partition_num|count|val_list                                |\n",
      "+-----------------+-----+----------------------------------------+\n",
      "|0                |10   |[0, 1, 2, 3, 4, 5, 6, 7, 8, 9]          |\n",
      "|1                |10   |[10, 11, 12, 13, 14, 15, 16, 17, 18, 19]|\n",
      "|2                |10   |[20, 21, 22, 23, 24, 25, 26, 27, 28, 29]|\n",
      "|3                |10   |[30, 31, 32, 33, 34, 35, 36, 37, 38, 39]|\n",
      "+-----------------+-----+----------------------------------------+\n",
      "\n"
     ]
    },
    {
     "name": "stderr",
     "output_type": "stream",
     "text": [
      "                                                                                \r"
     ]
    }
   ],
   "source": [
    "from pyspark.sql.functions import spark_partition_id, count, collect_list\n",
    "# create DataFrame with 40 values with 4 partitions  \n",
    "data = [ [k] for k in range(0, 40) ] # transform to 2-D list\n",
    "df = spark.sparkContext.parallelize(data, 4).toDF([\"val\"])\n",
    "df = df.withColumn(\"row_partition_num\", spark_partition_id())\n",
    "df.groupBy(\"row_partition_num\").agg(\n",
    "    count(\"*\").alias(\"count\"),\n",
    "    collect_list('val').alias('val_list')\\\n",
    "   ).orderBy(\"row_partition_num\").show(truncate=False)"
   ]
  },
  {
   "cell_type": "code",
   "execution_count": 5,
   "id": "75369868-6896-4b3c-9afd-686f94dd8549",
   "metadata": {},
   "outputs": [
    {
     "name": "stderr",
     "output_type": "stream",
     "text": [
      "[Stage 5:=======================================>               (142 + 2) / 200]\r"
     ]
    },
    {
     "name": "stdout",
     "output_type": "stream",
     "text": [
      "+-----------------+-----+------------------------------+\n",
      "|row_partition_num|count|val_list                      |\n",
      "+-----------------+-----+------------------------------+\n",
      "|0                |8    |[7, 2, 11, 16, 22, 21, 35, 32]|\n",
      "|1                |8    |[14, 18, 20, 29, 39, 34, 0, 9]|\n",
      "|2                |8    |[13, 12, 28, 24, 37, 36, 5, 4]|\n",
      "|3                |8    |[15, 17, 25, 27, 38, 31, 6, 1]|\n",
      "|4                |8    |[19, 10, 26, 23, 33, 30, 3, 8]|\n",
      "+-----------------+-----+------------------------------+\n",
      "\n"
     ]
    },
    {
     "name": "stderr",
     "output_type": "stream",
     "text": [
      "                                                                                \r"
     ]
    }
   ],
   "source": [
    "# repartition to 5 partitions\n",
    "df = df.repartition(5).withColumn(\"row_partition_num\", spark_partition_id())\n",
    "df.groupBy(\"row_partition_num\").agg(\n",
    "     count(\"*\").alias(\"count\"),\n",
    "     collect_list('val').alias('val_list')\\\n",
    "    ).orderBy(\"row_partition_num\").show(truncate=False)"
   ]
  },
  {
   "cell_type": "code",
   "execution_count": 6,
   "id": "e244ed93-1a7d-452c-b8c2-b255d6656af3",
   "metadata": {},
   "outputs": [],
   "source": [
    "spark.stop()"
   ]
  }
 ],
 "metadata": {
  "kernelspec": {
   "display_name": "Python 3 (ipykernel)",
   "language": "python",
   "name": "python3"
  },
  "language_info": {
   "codemirror_mode": {
    "name": "ipython",
    "version": 3
   },
   "file_extension": ".py",
   "mimetype": "text/x-python",
   "name": "python",
   "nbconvert_exporter": "python",
   "pygments_lexer": "ipython3",
   "version": "3.9.16"
  }
 },
 "nbformat": 4,
 "nbformat_minor": 5
}
