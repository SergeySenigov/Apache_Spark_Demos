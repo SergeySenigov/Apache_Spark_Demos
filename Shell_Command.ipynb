{
 "cells": [
  {
   "cell_type": "code",
   "execution_count": 4,
   "id": "9dbd833f-b949-4968-b9f6-6078ee8c0e47",
   "metadata": {},
   "outputs": [
    {
     "name": "stdout",
     "output_type": "stream",
     "text": [
      "Python 3.9.16\n"
     ]
    }
   ],
   "source": [
    "! python3 --version "
   ]
  },
  {
   "cell_type": "code",
   "execution_count": 5,
   "id": "992b469a-22c2-46dd-88ce-22ca1d4f6215",
   "metadata": {},
   "outputs": [
    {
     "name": "stdout",
     "output_type": "stream",
     "text": [
      "Welcome to\n",
      "      ____              __\n",
      "     / __/__  ___ _____/ /__\n",
      "    _\\ \\/ _ \\/ _ `/ __/  '_/\n",
      "   /___/ .__/\\_,_/_/ /_/\\_\\   version 3.4.1\n",
      "      /_/\n",
      "                        \n",
      "Using Scala version 2.12.17, OpenJDK 64-Bit Server VM, 1.8.0_372\n",
      "Branch HEAD\n",
      "Compiled by user centos on 2023-06-19T23:01:01Z\n",
      "Revision 6b1ff22dde1ead51cbf370be6e48a802daae58b6\n",
      "Url https://github.com/apache/spark\n",
      "Type --help for more information.\n"
     ]
    }
   ],
   "source": [
    "! spark-shell --version "
   ]
  },
  {
   "cell_type": "code",
   "execution_count": 6,
   "id": "8452a2af-3f5e-4b76-9937-1d0d3f27a372",
   "metadata": {},
   "outputs": [
    {
     "name": "stdout",
     "output_type": "stream",
     "text": [
      "Name: SQLAlchemy\n",
      "Version: 2.0.17\n",
      "Summary: Database Abstraction Library\n",
      "Home-page: https://www.sqlalchemy.org\n",
      "Author: Mike Bayer\n",
      "Author-email: mike_mp@zzzcomputing.com\n",
      "License: MIT\n",
      "Location: /usr/local/lib/python3.9/site-packages\n",
      "Requires: greenlet, typing-extensions\n",
      "Required-by: alembic, jupyterhub\n"
     ]
    }
   ],
   "source": [
    "! python3 -m pip show SQLAlchemy"
   ]
  },
  {
   "cell_type": "code",
   "execution_count": 7,
   "id": "b5fa63b7-63bb-4e00-b2aa-f99177fbc0cb",
   "metadata": {},
   "outputs": [
    {
     "name": "stdout",
     "output_type": "stream",
     "text": [
      "615.9 K  1.8 M    /users/ssenigov/spark_warehouse/bp\n",
      "72.2 K   216.7 K  /users/ssenigov/spark_warehouse/bp1\n",
      "48.5 K   145.5 K  /users/ssenigov/spark_warehouse/bp2\n",
      "615.9 K  1.8 M    /users/ssenigov/spark_warehouse/bp500\n",
      "124.5 K  373.5 K  /users/ssenigov/spark_warehouse/bpprp1\n",
      "85.9 K   257.6 K  /users/ssenigov/spark_warehouse/bpprp2\n",
      "58.2 K   174.7 K  /users/ssenigov/spark_warehouse/bprp1\n",
      "39.5 K   118.4 K  /users/ssenigov/spark_warehouse/bprp2\n",
      "47.9 K   143.8 K  /users/ssenigov/spark_warehouse/bprps1\n",
      "33.8 K   101.5 K  /users/ssenigov/spark_warehouse/bprps2\n",
      "578.1 K  1.7 M    /users/ssenigov/spark_warehouse/checkpoint\n"
     ]
    }
   ],
   "source": [
    "! hdfs dfs -du -h /users/ssenigov/spark_warehouse/"
   ]
  }
 ],
 "metadata": {
  "kernelspec": {
   "display_name": "Python 3 (ipykernel)",
   "language": "python",
   "name": "python3"
  },
  "language_info": {
   "codemirror_mode": {
    "name": "ipython",
    "version": 3
   },
   "file_extension": ".py",
   "mimetype": "text/x-python",
   "name": "python",
   "nbconvert_exporter": "python",
   "pygments_lexer": "ipython3",
   "version": "3.9.16"
  }
 },
 "nbformat": 4,
 "nbformat_minor": 5
}
