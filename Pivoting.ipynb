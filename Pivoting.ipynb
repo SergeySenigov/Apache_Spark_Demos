{
 "cells": [
  {
   "cell_type": "code",
   "execution_count": 78,
   "id": "8ce6b1dc-be57-4247-a04f-3344b4f0ca97",
   "metadata": {},
   "outputs": [],
   "source": [
    "import os, sys\n",
    "os.environ['HADOOP_CONF_DIR'] = '/etc/hadoop/conf'\n",
    "os.environ['YARN_CONF_DIR'] = '/etc/hadoop/conf'\n",
    "os.environ['PYSPARK_PYTHON'] =  'python3.9'\n",
    "os.environ['PYSPARK_DRIVER_PYTHON'] = 'python3.9'\n",
    "os.environ['HADOOP_USER_NAME']='ssenigov'\n",
    "\n",
    "from pyspark.sql import SparkSession\n",
    "from pyspark import SparkContext, SparkConf"
   ]
  },
  {
   "cell_type": "code",
   "execution_count": 79,
   "id": "db7c2edf-43ce-4a2e-ac39-be7a1964b3e8",
   "metadata": {},
   "outputs": [
    {
     "name": "stderr",
     "output_type": "stream",
     "text": [
      "25/02/12 19:46:06 WARN Utils: Service 'SparkUI' could not bind on port 4040. Attempting port 4041.\n",
      "25/02/12 19:46:06 WARN Utils: Service 'SparkUI' could not bind on port 4041. Attempting port 4042.\n",
      "25/02/12 19:46:06 WARN Utils: Service 'SparkUI' could not bind on port 4042. Attempting port 4043.\n",
      "25/02/12 19:46:06 WARN Utils: Service 'SparkUI' could not bind on port 4043. Attempting port 4044.\n",
      "25/02/12 19:46:06 WARN Utils: Service 'SparkUI' could not bind on port 4044. Attempting port 4045.\n",
      "25/02/12 19:46:06 WARN Client: Neither spark.yarn.jars nor spark.yarn.archive is set, falling back to uploading libraries under SPARK_HOME.\n"
     ]
    }
   ],
   "source": [
    "conf = SparkConf().setAppName('Pivoting').setMaster('yarn') \n",
    "spark = SparkSession.builder.config(conf=conf).getOrCreate()"
   ]
  },
  {
   "cell_type": "markdown",
   "id": "63995a1c-1a9c-41d1-8985-d61ca2e62dbf",
   "metadata": {},
   "source": [
    "<!-- # original:\n",
    "+----+---+-----+\n",
    "|year|qrt|  num|\n",
    "+----+---+-----+\n",
    "|2022|  2|    3|\n",
    "|2022|  3|    5|\n",
    "|2022|  3|    1|\n",
    "|2021|  3|    3|\n",
    "|2021|  1|    2|\n",
    "+----+---+-----+\n",
    "\n",
    "# pivoted:\n",
    "+----+------------+------------+------------+------------+\n",
    "|year|qrt1_sum_num|qrt2_sum_num|qrt3_sum_num|qrt4_sum_num|\n",
    "+----+------------+------------+------------+------------+\n",
    "|2022|        null|           3|           6|        null|\n",
    "|2021|           2|        null|           3|        null|\n",
    "+----+------------+------------+------------+------------+ -->"
   ]
  },
  {
   "cell_type": "code",
   "execution_count": 91,
   "id": "5ef3e5a3-d39e-4458-9858-0319b590545c",
   "metadata": {},
   "outputs": [
    {
     "name": "stdout",
     "output_type": "stream",
     "text": [
      "+---+----+---+\n",
      "|num|year|qrt|\n",
      "+---+----+---+\n",
      "|  0|2020|  3|\n",
      "|  1|2021|  1|\n",
      "|  2|2020|  2|\n",
      "|  3|2022|  1|\n",
      "|  4|2020|  2|\n",
      "|  5|2022|  1|\n",
      "|  6|2020|  4|\n",
      "|  7|2021|  1|\n",
      "|  8|2021|  3|\n",
      "|  9|2022|  1|\n",
      "| 10|2021|  4|\n",
      "| 11|2021|  3|\n",
      "| 12|2021|  1|\n",
      "| 13|2020|  3|\n",
      "| 14|2022|  1|\n",
      "| 15|2021|  4|\n",
      "| 16|2022|  2|\n",
      "| 17|2022|  3|\n",
      "| 18|2022|  1|\n",
      "| 19|2021|  3|\n",
      "+---+----+---+\n",
      "only showing top 20 rows\n",
      "\n"
     ]
    }
   ],
   "source": [
    "from pyspark.sql.functions import round, rand, lit, col\n",
    "from pyspark.sql.types import IntegerType\n",
    "\n",
    "# create sample DataFrame and rename the generated column \"id\" to \"num\"\n",
    "df = spark.range(50).withColumnRenamed('id', 'num') \n",
    "df = df.withColumn('year', lit(2020) + (3*rand()).cast(IntegerType()))\n",
    "df = df.withColumn('qrt', (4*rand()).cast(IntegerType()) % 4 + 1)\n",
    "# df = df.withColumn('num2', col('num')) \n",
    "\n",
    "df.createOrReplaceTempView(\"tbl\")  # create table to address it in sql\n",
    "df.show()"
   ]
  },
  {
   "cell_type": "code",
   "execution_count": 92,
   "id": "ef9829af-4f48-43b5-9499-4f3a44602264",
   "metadata": {
    "scrolled": true
   },
   "outputs": [
    {
     "name": "stdout",
     "output_type": "stream",
     "text": [
      "+----+-----------+-----------+-----------+-----------+\n",
      "|year|qrt1_sum_id|qrt2_sum_id|qrt3_sum_id|qrt4_sum_id|\n",
      "+----+-----------+-----------+-----------+-----------+\n",
      "|2022|158        |129        |17         |65         |\n",
      "|2021|40         |39         |145        |176        |\n",
      "|2020|189        |64         |126        |77         |\n",
      "+----+-----------+-----------+-----------+-----------+\n",
      "\n"
     ]
    }
   ],
   "source": [
    "sql = \"\"\"\n",
    "select year    \n",
    ", sum(case when qrt = 1 then num else null end) as qrt1_sum_id\n",
    ", sum(case when qrt = 2 then num else null end) as qrt2_sum_id\n",
    ", sum(case when qrt = 3 then num else null end) as qrt3_sum_id\n",
    ", sum(case when qrt = 4 then num else null end) as qrt4_sum_id\n",
    "from tbl\n",
    "group by year \n",
    "order by year desc\n",
    "\"\"\"\n",
    "spark.sql(sql).show(n=50, truncate=False)"
   ]
  },
  {
   "cell_type": "code",
   "execution_count": 93,
   "id": "7195aa72-fda6-46e9-a167-1fbe18045018",
   "metadata": {
    "scrolled": true
   },
   "outputs": [
    {
     "name": "stdout",
     "output_type": "stream",
     "text": [
      "+----+----+----+----+----+----+\n",
      "|year|qrt1|qrt2|qrt3|qrt4|qrt5|\n",
      "+----+----+----+----+----+----+\n",
      "|2020|   5|   4|   5|   3|null|\n",
      "|2021|   4|   1|   6|   7|null|\n",
      "|2022|   8|   4|   1|   2|null|\n",
      "+----+----+----+----+----+----+\n",
      "\n"
     ]
    }
   ],
   "source": [
    "sql = \"\"\"\n",
    "select year, qrt1, qrt2, qrt3, qrt4, qrt5 \n",
    " from tbl \n",
    "pivot (\n",
    "  count(num) as num_cnt\n",
    "  for qrt in (1 as qrt1, 2 as qrt2, 3 as qrt3, 4 as qrt4, 5 as qrt5)\n",
    ")\n",
    "order by year \"\"\"\n",
    "\n",
    "spark.sql(sql).show()"
   ]
  },
  {
   "cell_type": "code",
   "execution_count": 94,
   "id": "77039f76-a0db-4ee0-8040-76dbbb28c986",
   "metadata": {
    "scrolled": true
   },
   "outputs": [
    {
     "name": "stdout",
     "output_type": "stream",
     "text": [
      "+----+--------+--------+--------+--------+--------+--------+--------+--------+\n",
      "|year|qrt1_cnt|qrt1_sum|qrt2_cnt|qrt2_sum|qrt3_cnt|qrt3_sum|qrt4_cnt|qrt4_sum|\n",
      "+----+--------+--------+--------+--------+--------+--------+--------+--------+\n",
      "|2020|       5|     189|       4|      64|       5|     126|       3|      77|\n",
      "|2021|       4|      40|       1|      39|       6|     145|       7|     176|\n",
      "|2022|       8|     158|       4|     129|       1|      17|       2|      65|\n",
      "+----+--------+--------+--------+--------+--------+--------+--------+--------+\n",
      "\n"
     ]
    }
   ],
   "source": [
    "sql = \"\"\"\n",
    "select year, qrt1_cnt, qrt1_sum, qrt2_cnt, qrt2_sum, \n",
    "             qrt3_cnt, qrt3_sum, qrt4_cnt, qrt4_sum\n",
    "       -- or we can put here \"*\"       \n",
    "from tbl \n",
    "pivot (\n",
    "  count(1) as cnt,\n",
    "  sum(num) as sum\n",
    "  for qrt in (1 as qrt1, 2 as qrt2, 3 as qrt3, 4 as qrt4, 5 as qrt5)\n",
    ")\n",
    "order by year \"\"\"\n",
    "spark.sql(sql).show()"
   ]
  },
  {
   "cell_type": "code",
   "execution_count": 95,
   "id": "726e8258-1c4e-434c-a1ba-5a005bb55736",
   "metadata": {},
   "outputs": [
    {
     "name": "stdout",
     "output_type": "stream",
     "text": [
      "+----+---------+---------+---------+---------+---------+---------+---------+---------+\n",
      "|year|1_num_cnt|1_num_sum|2_num_cnt|2_num_sum|3_num_cnt|3_num_sum|4_num_cnt|4_num_sum|\n",
      "+----+---------+---------+---------+---------+---------+---------+---------+---------+\n",
      "|2020|        5|      189|        4|       64|        5|      126|        3|       77|\n",
      "|2021|        4|       40|        1|       39|        6|      145|        7|      176|\n",
      "|2022|        8|      158|        4|      129|        1|       17|        2|       65|\n",
      "+----+---------+---------+---------+---------+---------+---------+---------+---------+\n",
      "\n"
     ]
    }
   ],
   "source": [
    "from pyspark.sql.functions import count, sum\n",
    "\n",
    "dfa = df.groupBy(['year'])\\\n",
    "    .pivot('qrt', ['1','2','3','4'])\\\n",
    "    .agg(\n",
    "       count('num').alias('num_cnt'), \n",
    "       sum('num').alias('num_sum') \n",
    "        ).orderBy('year').show()"
   ]
  },
  {
   "cell_type": "code",
   "execution_count": 96,
   "id": "8c20cb70-14d0-44c2-ae29-a01087a81bb5",
   "metadata": {},
   "outputs": [
    {
     "name": "stdout",
     "output_type": "stream",
     "text": [
      "root\n",
      " |-- num: long (nullable = false)\n",
      " |-- year: integer (nullable = true)\n",
      " |-- qrt: integer (nullable = true)\n",
      "\n",
      "+----+---------+---------+---------+---------+---------+---------+---------+---------+\n",
      "|year|1_num_cnt|1_num_sum|2_num_cnt|2_num_sum|3_num_cnt|3_num_sum|4_num_cnt|4_num_sum|\n",
      "+----+---------+---------+---------+---------+---------+---------+---------+---------+\n",
      "|2020|        5|      189|        4|       64|        5|      126|        3|       77|\n",
      "|2021|        4|       40|        1|       39|        6|      145|        7|      176|\n",
      "|2022|        8|      158|        4|      129|        1|       17|        2|       65|\n",
      "+----+---------+---------+---------+---------+---------+---------+---------+---------+\n",
      "\n"
     ]
    }
   ],
   "source": [
    "from pyspark.sql.functions import count, sum\n",
    "df.printSchema()\n",
    "dfa = df.groupBy(['year'])\\\n",
    "    .pivot('qrt')\\\n",
    "    .agg(\n",
    "       count('num').alias('num_cnt'), \n",
    "       sum('num').alias('num_sum') \n",
    "        ).orderBy('year').show()"
   ]
  },
  {
   "cell_type": "code",
   "execution_count": 97,
   "id": "e244ed93-1a7d-452c-b8c2-b255d6656af3",
   "metadata": {},
   "outputs": [],
   "source": [
    "spark.stop()"
   ]
  }
 ],
 "metadata": {
  "kernelspec": {
   "display_name": "Python 3 (ipykernel)",
   "language": "python",
   "name": "python3"
  },
  "language_info": {
   "codemirror_mode": {
    "name": "ipython",
    "version": 3
   },
   "file_extension": ".py",
   "mimetype": "text/x-python",
   "name": "python",
   "nbconvert_exporter": "python",
   "pygments_lexer": "ipython3",
   "version": "3.9.16"
  }
 },
 "nbformat": 4,
 "nbformat_minor": 5
}
