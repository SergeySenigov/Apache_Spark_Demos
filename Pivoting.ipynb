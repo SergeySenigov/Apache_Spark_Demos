{
 "cells": [
  {
   "cell_type": "code",
   "execution_count": 1,
   "id": "8ce6b1dc-be57-4247-a04f-3344b4f0ca97",
   "metadata": {},
   "outputs": [],
   "source": [
    "import os, sys\n",
    "os.environ['HADOOP_CONF_DIR'] = '/etc/hadoop/conf'\n",
    "os.environ['YARN_CONF_DIR'] = '/etc/hadoop/conf'\n",
    "os.environ['PYSPARK_PYTHON'] =  'python3.9'\n",
    "os.environ['PYSPARK_DRIVER_PYTHON'] = 'python3.9'\n",
    "os.environ['HADOOP_USER_NAME']='ssenigov'\n",
    "\n",
    "from pyspark.sql import SparkSession\n",
    "from pyspark import SparkContext, SparkConf"
   ]
  },
  {
   "cell_type": "code",
   "execution_count": 2,
   "id": "db7c2edf-43ce-4a2e-ac39-be7a1964b3e8",
   "metadata": {},
   "outputs": [
    {
     "name": "stderr",
     "output_type": "stream",
     "text": [
      "Setting default log level to \"WARN\".\n",
      "To adjust logging level use sc.setLogLevel(newLevel). For SparkR, use setLogLevel(newLevel).\n",
      "25/02/09 13:10:50 WARN NativeCodeLoader: Unable to load native-hadoop library for your platform... using builtin-java classes where applicable\n",
      "25/02/09 13:10:52 WARN Utils: Service 'SparkUI' could not bind on port 4040. Attempting port 4041.\n",
      "25/02/09 13:10:52 WARN Utils: Service 'SparkUI' could not bind on port 4041. Attempting port 4042.\n",
      "25/02/09 13:10:53 WARN DomainSocketFactory: The short-circuit local reads feature cannot be used because libhadoop cannot be loaded.\n",
      "25/02/09 13:10:53 WARN Client: Neither spark.yarn.jars nor spark.yarn.archive is set, falling back to uploading libraries under SPARK_HOME.\n"
     ]
    }
   ],
   "source": [
    "conf = SparkConf().setAppName('Pivoting').setMaster('yarn') \n",
    "spark = SparkSession.builder.config(conf=conf).getOrCreate()"
   ]
  },
  {
   "cell_type": "code",
   "execution_count": null,
   "id": "554a9dd7-bcdf-4060-a13d-2c29a9c8b511",
   "metadata": {},
   "outputs": [],
   "source": [
    "# original:\n",
    "+----+---+-----+\n",
    "|year|qrt|  num|\n",
    "+----+---+-----+\n",
    "|2022|  2|    3|\n",
    "|2022|  3|    5|\n",
    "|2022|  3|    1|\n",
    "|2021|  3|    3|\n",
    "|2021|  1|    2|\n",
    "+----+---+-----+\n",
    "\n",
    "# pivoted:\n",
    "+----+------------+------------+------------+------------+\n",
    "|year|qrt1_sum_num|qrt2_sum_num|qrt3_sum_num|qrt4_sum_num|\n",
    "+----+------------+------------+------------+------------+\n",
    "|2022|        null|           3|           6|        null|\n",
    "|2021|           2|        null|           3|        null|\n",
    "+----+------------+------------+------------+------------+"
   ]
  },
  {
   "cell_type": "code",
   "execution_count": 22,
   "id": "5ef3e5a3-d39e-4458-9858-0319b590545c",
   "metadata": {},
   "outputs": [
    {
     "name": "stdout",
     "output_type": "stream",
     "text": [
      "+---+----+---+\n",
      "|num|year|qrt|\n",
      "+---+----+---+\n",
      "|  0|2020|  2|\n",
      "|  1|2022|  3|\n",
      "|  2|2022|  4|\n",
      "|  3|2020|  1|\n",
      "|  4|2022|  4|\n",
      "|  5|2022|  4|\n",
      "|  6|2020|  3|\n",
      "|  7|2020|  1|\n",
      "|  8|2021|  2|\n",
      "|  9|2020|  2|\n",
      "| 10|2022|  1|\n",
      "| 11|2021|  2|\n",
      "| 12|2022|  2|\n",
      "| 13|2021|  2|\n",
      "| 14|2022|  3|\n",
      "| 15|2022|  2|\n",
      "| 16|2020|  2|\n",
      "| 17|2021|  4|\n",
      "| 18|2021|  1|\n",
      "| 19|2022|  2|\n",
      "+---+----+---+\n",
      "only showing top 20 rows\n",
      "\n"
     ]
    }
   ],
   "source": [
    "from pyspark.sql.functions import round, rand, lit\n",
    "from pyspark.sql.types import IntegerType\n",
    "\n",
    "# create sample DataFrame and rename the generated column \"id\" to \"num\"\n",
    "df = spark.range(50).withColumnRenamed('id', 'num') \n",
    "df = df.withColumn('year', lit(2020) + (3*rand()).cast(IntegerType()))\n",
    "df = df.withColumn('qrt', (4*rand()).cast(IntegerType()) % 4 + 1)\n",
    "\n",
    "df.createOrReplaceTempView(\"tbl\")  # create table to address it in sql\n",
    "df.show()"
   ]
  },
  {
   "cell_type": "code",
   "execution_count": 7,
   "id": "ef9829af-4f48-43b5-9499-4f3a44602264",
   "metadata": {
    "scrolled": true
   },
   "outputs": [
    {
     "name": "stderr",
     "output_type": "stream",
     "text": [
      "                                                                                \r"
     ]
    },
    {
     "name": "stdout",
     "output_type": "stream",
     "text": [
      "+----+-----------+-----------+-----------+-----------+\n",
      "|year|qrt1_sum_id|qrt2_sum_id|qrt3_sum_id|qrt4_sum_id|\n",
      "+----+-----------+-----------+-----------+-----------+\n",
      "|2022|140        |48         |177        |104        |\n",
      "|2021|44         |151        |111        |14         |\n",
      "|2020|70         |87         |51         |228        |\n",
      "+----+-----------+-----------+-----------+-----------+\n",
      "\n"
     ]
    }
   ],
   "source": [
    "sql = \"\"\"\n",
    "select year    \n",
    ", sum(case when qrt = 1 then id else null end) as qrt1_sum_id\n",
    ", sum(case when qrt = 2 then id else null end) as qrt2_sum_id\n",
    ", sum(case when qrt = 3 then id else null end) as qrt3_sum_id\n",
    ", sum(case when qrt = 4 then id else null end) as qrt4_sum_id\n",
    "from tbl\n",
    "group by year \n",
    "order by year desc\n",
    "\"\"\"\n",
    "spark.sql(sql).show(n=50, truncate=False)"
   ]
  },
  {
   "cell_type": "code",
   "execution_count": 20,
   "id": "7195aa72-fda6-46e9-a167-1fbe18045018",
   "metadata": {},
   "outputs": [
    {
     "name": "stdout",
     "output_type": "stream",
     "text": [
      "+----+----+----+----+----+----+\n",
      "|year|qrt1|qrt2|qrt3|qrt4|qrt5|\n",
      "+----+----+----+----+----+----+\n",
      "|2020|   2|   2|   6|   1|null|\n",
      "|2021|   5|   4|   5|   6|null|\n",
      "|2022|   8|   3|   4|   4|null|\n",
      "+----+----+----+----+----+----+\n",
      "\n"
     ]
    }
   ],
   "source": [
    "sql = \"\"\"\n",
    "select year, qrt1, qrt2, qrt3, qrt4, qrt5 \n",
    " from tbl \n",
    "pivot (\n",
    "  count(num) as id_cnt\n",
    "  for qrt in (1 as qrt1, 2 as qrt2, 3 as qrt3, 4 as qrt4, 5 as qrt5)\n",
    ")\n",
    "order by year \"\"\"\n",
    "\n",
    "spark.sql(sql).show()"
   ]
  },
  {
   "cell_type": "code",
   "execution_count": 36,
   "id": "77039f76-a0db-4ee0-8040-76dbbb28c986",
   "metadata": {},
   "outputs": [
    {
     "name": "stdout",
     "output_type": "stream",
     "text": [
      "+----+--------+--------+--------+--------+--------+--------+--------+--------+\n",
      "|year|qrt1_cnt|qrt1_sum|qrt2_cnt|qrt2_sum|qrt3_cnt|qrt3_sum|qrt4_cnt|qrt4_sum|\n",
      "+----+--------+--------+--------+--------+--------+--------+--------+--------+\n",
      "|2020|       3|      31|       5|     105|       4|     101|       1|      35|\n",
      "|2021|       4|     127|       4|      54|       4|     151|       3|      94|\n",
      "|2022|       5|     159|       7|     156|       4|      86|       6|     126|\n",
      "+----+--------+--------+--------+--------+--------+--------+--------+--------+\n",
      "\n"
     ]
    }
   ],
   "source": [
    "sql = \"\"\"\n",
    "select year, qrt1_cnt, qrt1_sum, qrt2_cnt, qrt2_sum, \n",
    "             qrt3_cnt, qrt3_sum, qrt4_cnt, qrt4_sum\n",
    "       -- or we can put here \"*\"       \n",
    "from tbl \n",
    "pivot (\n",
    "  count(1) as cnt,\n",
    "  sum(num) as sum\n",
    "  for qrt in (1 as qrt1, 2 as qrt2, 3 as qrt3, 4 as qrt4, 5 as qrt5)\n",
    ")\n",
    "order by year \"\"\"\n",
    "spark.sql(sql).show()"
   ]
  },
  {
   "cell_type": "code",
   "execution_count": 62,
   "id": "e244ed93-1a7d-452c-b8c2-b255d6656af3",
   "metadata": {},
   "outputs": [],
   "source": [
    "spark.stop()"
   ]
  }
 ],
 "metadata": {
  "kernelspec": {
   "display_name": "Python 3 (ipykernel)",
   "language": "python",
   "name": "python3"
  },
  "language_info": {
   "codemirror_mode": {
    "name": "ipython",
    "version": 3
   },
   "file_extension": ".py",
   "mimetype": "text/x-python",
   "name": "python",
   "nbconvert_exporter": "python",
   "pygments_lexer": "ipython3",
   "version": "3.9.16"
  }
 },
 "nbformat": 4,
 "nbformat_minor": 5
}
