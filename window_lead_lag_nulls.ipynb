{
 "cells": [
  {
   "cell_type": "code",
   "execution_count": 1,
   "id": "1353d897-48c2-4176-abaf-363f0a9a43dd",
   "metadata": {},
   "outputs": [],
   "source": [
    "import os, sys\n",
    "os.environ['HADOOP_CONF_DIR'] = '/etc/hadoop/conf'\n",
    "os.environ['YARN_CONF_DIR'] = '/etc/hadoop/conf'\n",
    "os.environ['PYSPARK_PYTHON'] =  'python3.9'\n",
    "os.environ['PYSPARK_DRIVER_PYTHON'] = 'python3.9'\n",
    "os.environ['HADOOP_USER_NAME']='ssenigov'\n",
    "\n",
    "from pyspark.sql import SparkSession"
   ]
  },
  {
   "cell_type": "code",
   "execution_count": null,
   "id": "d6c097f5-16c0-4049-a6c7-f7dce1c61661",
   "metadata": {},
   "outputs": [],
   "source": [
    "spark = (SparkSession.builder.appName(\"window_lead_lag_nulls\")\n",
    "         .master(\"yarn\").getOrCreate())\n",
    "\n",
    "print('app_id'.ljust(40), spark.sparkContext.applicationId)"
   ]
  },
  {
   "cell_type": "code",
   "execution_count": 9,
   "id": "18e06115-a84a-4f5b-8dfd-1c497f698ccf",
   "metadata": {},
   "outputs": [
    {
     "name": "stdout",
     "output_type": "stream",
     "text": [
      "+---+----+\n",
      "| id| val|\n",
      "+---+----+\n",
      "|  0|null|\n",
      "|  1|   X|\n",
      "|  2|null|\n",
      "|  3|null|\n",
      "|  4|   Y|\n",
      "|  5|null|\n",
      "+---+----+\n",
      "\n"
     ]
    }
   ],
   "source": [
    "sql = \"\"\"\n",
    "   select * from values \n",
    "    (0, null), \n",
    "    (1, 'X'), \n",
    "    (2, null),\n",
    "    (3, null),\n",
    "    (4, 'Y'),\n",
    "    (5, null) as (id, val)\n",
    "\"\"\"\n",
    "df = spark.sql(sql)\n",
    "df.createOrReplaceTempView('tbl_with_nulls')\n",
    "spark.table('tbl_with_nulls').show()"
   ]
  },
  {
   "cell_type": "code",
   "execution_count": 44,
   "id": "b1d0bd3a-7bc8-40b5-a34f-e0b86e8f3024",
   "metadata": {
    "scrolled": true
   },
   "outputs": [
    {
     "name": "stdout",
     "output_type": "stream",
     "text": [
      "+----+-----------------+----+---+----+----------------+----+\n",
      "| val|lead_ignore_nulls|lead|___| val|lag_ignore_nulls| lag|\n",
      "+----+-----------------+----+---+----+----------------+----+\n",
      "|null|                X|   X|   |null|               0|   0|\n",
      "|   X|                Y|null|   |   X|               0|null|\n",
      "|null|                Y|null|   |null|               X|   X|\n",
      "|null|                Y|   Y|   |null|               X|null|\n",
      "|   Y|                0|null|   |   Y|               X|null|\n",
      "|null|                0|   0|   |null|               Y|   Y|\n",
      "+----+-----------------+----+---+----+----------------+----+\n",
      "\n"
     ]
    }
   ],
   "source": [
    "sql = \"\"\"\n",
    "  select \n",
    "   val,\n",
    "    LEAD(val, 1, 0) IGNORE NULLS over w lead_ignore_nulls,\n",
    "    LEAD(val, 1, 0) over w lead,\n",
    "    '' as ___,\n",
    "   val,\n",
    "    LAG(val, 1, 0)  IGNORE NULLS over w lag_ignore_nulls,\n",
    "    LAG(val, 1, 0)  over w lag\n",
    "  from tbl_with_nulls \n",
    "   window w as (partition by '1' order by id)\n",
    "  order by id\n",
    "\"\"\"\n",
    "df = spark.sql(sql)\n",
    "df.show()"
   ]
  },
  {
   "cell_type": "code",
   "execution_count": null,
   "id": "67c37909-17c1-4be3-a0f0-c51ecb1e579a",
   "metadata": {},
   "outputs": [],
   "source": [
    "spark.stop()"
   ]
  }
 ],
 "metadata": {
  "kernelspec": {
   "display_name": "Python 3 (ipykernel)",
   "language": "python",
   "name": "python3"
  },
  "language_info": {
   "codemirror_mode": {
    "name": "ipython",
    "version": 3
   },
   "file_extension": ".py",
   "mimetype": "text/x-python",
   "name": "python",
   "nbconvert_exporter": "python",
   "pygments_lexer": "ipython3",
   "version": "3.9.16"
  }
 },
 "nbformat": 4,
 "nbformat_minor": 5
}
