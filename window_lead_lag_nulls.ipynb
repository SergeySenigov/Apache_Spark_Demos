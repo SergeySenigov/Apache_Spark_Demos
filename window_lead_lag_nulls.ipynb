{
 "cells": [
  {
   "cell_type": "code",
   "execution_count": 15,
   "id": "1353d897-48c2-4176-abaf-363f0a9a43dd",
   "metadata": {},
   "outputs": [],
   "source": [
    "import os, sys\n",
    "os.environ['HADOOP_CONF_DIR'] = '/etc/hadoop/conf'\n",
    "os.environ['YARN_CONF_DIR'] = '/etc/hadoop/conf'\n",
    "os.environ['PYSPARK_PYTHON'] =  'python3.9'\n",
    "os.environ['PYSPARK_DRIVER_PYTHON'] = 'python3.9'\n",
    "os.environ['HADOOP_USER_NAME']='ssenigov'\n",
    "\n",
    "from pyspark.sql import SparkSession"
   ]
  },
  {
   "cell_type": "code",
   "execution_count": 16,
   "id": "d6c097f5-16c0-4049-a6c7-f7dce1c61661",
   "metadata": {},
   "outputs": [
    {
     "name": "stderr",
     "output_type": "stream",
     "text": [
      "25/07/15 18:55:16 WARN Utils: Service 'SparkUI' could not bind on port 4040. Attempting port 4041.\n",
      "25/07/15 18:55:16 WARN Utils: Service 'SparkUI' could not bind on port 4041. Attempting port 4042.\n",
      "25/07/15 18:55:16 WARN Utils: Service 'SparkUI' could not bind on port 4042. Attempting port 4043.\n",
      "25/07/15 18:55:16 WARN Utils: Service 'SparkUI' could not bind on port 4043. Attempting port 4044.\n",
      "25/07/15 18:55:16 WARN Utils: Service 'SparkUI' could not bind on port 4044. Attempting port 4045.\n",
      "25/07/15 18:55:16 WARN Utils: Service 'SparkUI' could not bind on port 4045. Attempting port 4046.\n",
      "25/07/15 18:55:16 WARN Utils: Service 'SparkUI' could not bind on port 4046. Attempting port 4047.\n",
      "25/07/15 18:55:16 WARN Utils: Service 'SparkUI' could not bind on port 4047. Attempting port 4048.\n",
      "25/07/15 18:55:16 WARN Utils: Service 'SparkUI' could not bind on port 4048. Attempting port 4049.\n",
      "25/07/15 18:55:16 WARN Client: Neither spark.yarn.jars nor spark.yarn.archive is set, falling back to uploading libraries under SPARK_HOME.\n"
     ]
    },
    {
     "name": "stdout",
     "output_type": "stream",
     "text": [
      "app_id                                   application_1727681258360_0164\n"
     ]
    }
   ],
   "source": [
    "spark = (SparkSession.builder.appName(\"window_lead_lag_nulls\")\n",
    "         .master(\"yarn\").getOrCreate())\n",
    "\n",
    "print('app_id'.ljust(40), spark.sparkContext.applicationId)"
   ]
  },
  {
   "cell_type": "code",
   "execution_count": 17,
   "id": "18e06115-a84a-4f5b-8dfd-1c497f698ccf",
   "metadata": {},
   "outputs": [
    {
     "name": "stdout",
     "output_type": "stream",
     "text": [
      "+---+----+\n",
      "| id| val|\n",
      "+---+----+\n",
      "|  0|null|\n",
      "|  1|   X|\n",
      "|  2|null|\n",
      "|  3|null|\n",
      "|  4|   Y|\n",
      "|  5|null|\n",
      "+---+----+\n",
      "\n"
     ]
    }
   ],
   "source": [
    "sql = \"\"\"\n",
    "   select * from values \n",
    "    (0, null), \n",
    "    (1, 'X'), \n",
    "    (2, null),\n",
    "    (3, null),\n",
    "    (4, 'Y'),\n",
    "    (5, null) as (id, val)\n",
    "\"\"\"\n",
    "df = spark.sql(sql)\n",
    "df.createOrReplaceTempView('tbl_with_nulls')\n",
    "spark.table('tbl_with_nulls').show()"
   ]
  },
  {
   "cell_type": "code",
   "execution_count": 35,
   "id": "b1d0bd3a-7bc8-40b5-a34f-e0b86e8f3024",
   "metadata": {
    "scrolled": true
   },
   "outputs": [
    {
     "name": "stdout",
     "output_type": "stream",
     "text": [
      "+---+----+-----------------+----+---+----+----------------+----+\n",
      "| id| val|lead_ignore_nulls|lead|___| val|lag_ignore_nulls| lag|\n",
      "+---+----+-----------------+----+---+----+----------------+----+\n",
      "|  0|null|                X|   X|   |null|               0|   0|\n",
      "|  1|   X|                Y|null|   |   X|               0|null|\n",
      "|  2|null|                Y|null|   |null|               X|   X|\n",
      "|  3|null|                Y|   Y|   |null|               X|null|\n",
      "|  4|   Y|                0|null|   |   Y|               X|null|\n",
      "|  5|null|                0|   0|   |null|               Y|   Y|\n",
      "+---+----+-----------------+----+---+----+----------------+----+\n",
      "\n"
     ]
    }
   ],
   "source": [
    "sql = \"\"\"\n",
    "  select \n",
    "   id,\n",
    "   val,\n",
    "    LEAD(val, 1, 0) IGNORE NULLS over w lead_ignore_nulls,\n",
    "    LEAD(val, 1, 0) over w lead,\n",
    "    '' as ___,\n",
    "   val,\n",
    "    LAG(val, 1, 0)  IGNORE NULLS over w lag_ignore_nulls,\n",
    "    LAG(val, 1, 0)  over w lag\n",
    "  from tbl_with_nulls \n",
    "   window w as (partition by '1' order by id)\n",
    "  order by id\n",
    "\"\"\"\n",
    "df = spark.sql(sql)\n",
    "df.show()"
   ]
  },
  {
   "cell_type": "code",
   "execution_count": 61,
   "id": "f88f4057-67ef-4b1d-b0c5-e0647d5cb63c",
   "metadata": {},
   "outputs": [
    {
     "name": "stdout",
     "output_type": "stream",
     "text": [
      "+-----------------+------------------+\n",
      "|lead_ignore_nulls|cnt_nulls_before_Y|\n",
      "+-----------------+------------------+\n",
      "|                Y|                 2|\n",
      "+-----------------+------------------+\n",
      "\n"
     ]
    }
   ],
   "source": [
    "from pyspark.sql.functions import count, lit, col\n",
    "\n",
    "df.groupBy('lead_ignore_nulls').agg(\n",
    "     count(lit('')).alias('cnt_Y')\n",
    "        )\\\n",
    "  .withColumn('cnt_nulls_before_Y', col('cnt_Y') - 1)\\\n",
    "  .filter('lead_ignore_nulls = \\'Y\\'')\\\n",
    "  .select('lead_ignore_nulls', 'cnt_nulls_before_Y')\\\n",
    "  .distinct()\\\n",
    "  .show()"
   ]
  },
  {
   "cell_type": "code",
   "execution_count": 11,
   "id": "67c37909-17c1-4be3-a0f0-c51ecb1e579a",
   "metadata": {},
   "outputs": [],
   "source": [
    "spark.stop()"
   ]
  }
 ],
 "metadata": {
  "kernelspec": {
   "display_name": "Python 3 (ipykernel)",
   "language": "python",
   "name": "python3"
  },
  "language_info": {
   "codemirror_mode": {
    "name": "ipython",
    "version": 3
   },
   "file_extension": ".py",
   "mimetype": "text/x-python",
   "name": "python",
   "nbconvert_exporter": "python",
   "pygments_lexer": "ipython3",
   "version": "3.9.16"
  }
 },
 "nbformat": 4,
 "nbformat_minor": 5
}
