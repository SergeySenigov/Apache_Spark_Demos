{
 "cells": [
  {
   "cell_type": "code",
   "execution_count": 1,
   "id": "8ce6b1dc-be57-4247-a04f-3344b4f0ca97",
   "metadata": {},
   "outputs": [],
   "source": [
    "import os, sys\n",
    "os.environ['HADOOP_CONF_DIR'] = '/etc/hadoop/conf'\n",
    "os.environ['YARN_CONF_DIR'] = '/etc/hadoop/conf'\n",
    "os.environ['PYSPARK_PYTHON'] =  'python3.9'\n",
    "os.environ['PYSPARK_DRIVER_PYTHON'] = 'python3.9'\n",
    "os.environ['HADOOP_USER_NAME']='ssenigov'\n",
    "\n",
    "from pyspark.sql import SparkSession\n",
    "from pyspark import SparkContext, SparkConf"
   ]
  },
  {
   "cell_type": "code",
   "execution_count": null,
   "id": "db7c2edf-43ce-4a2e-ac39-be7a1964b3e8",
   "metadata": {
    "scrolled": true
   },
   "outputs": [],
   "source": [
    "conf = (SparkConf().setAppName('Casting_Types').setMaster('yarn') \n",
    "    .set('spark.sql.adaptive.enabled', False)  )\n",
    "spark = SparkSession.builder.config(conf=conf).getOrCreate()"
   ]
  },
  {
   "cell_type": "code",
   "execution_count": 3,
   "id": "fcfd50af-5458-4e69-a2f1-58a475cd160b",
   "metadata": {
    "scrolled": true
   },
   "outputs": [
    {
     "name": "stdout",
     "output_type": "stream",
     "text": [
      "spark.sql.ansi.enabled = false\n"
     ]
    },
    {
     "name": "stderr",
     "output_type": "stream",
     "text": [
      "[Stage 0:>                                                          (0 + 1) / 1]\r"
     ]
    },
    {
     "name": "stdout",
     "output_type": "stream",
     "text": [
      "+------------+\n",
      "|casted_value|\n",
      "+------------+\n",
      "|        null|\n",
      "+------------+\n",
      "\n"
     ]
    },
    {
     "name": "stderr",
     "output_type": "stream",
     "text": [
      "                                                                                \r"
     ]
    }
   ],
   "source": [
    "# ANSI mode disabled by default\n",
    "print(\"spark.sql.ansi.enabled =\", \n",
    "      spark.conf.get(\"spark.sql.ansi.enabled\")) \n",
    "\n",
    "df = spark.sql(\" select cast('abc' as int) as casted_value \")\n",
    "df.show()"
   ]
  },
  {
   "cell_type": "code",
   "execution_count": 4,
   "id": "ff311c14-97b5-43f1-a629-dcf82817fccb",
   "metadata": {
    "scrolled": true
   },
   "outputs": [
    {
     "ename": "NumberFormatException",
     "evalue": "[CAST_INVALID_INPUT] The value 'abc' of the type \"STRING\" cannot be cast to \"INT\" because it is malformed. Correct the value as per the syntax, or change its target type. Use `try_cast` to tolerate malformed input and return NULL instead. If necessary set \"spark.sql.ansi.enabled\" to \"false\" to bypass this error.\n== SQL(line 1, position 9) ==\n select cast('abc' as int) as value \n        ^^^^^^^^^^^^^^^^^^\n",
     "output_type": "error",
     "traceback": [
      "\u001b[0;31m---------------------------------------------------------------------------\u001b[0m",
      "\u001b[0;31mNumberFormatException\u001b[0m                     Traceback (most recent call last)",
      "Cell \u001b[0;32mIn[4], line 4\u001b[0m\n\u001b[1;32m      1\u001b[0m spark\u001b[38;5;241m.\u001b[39mconf\u001b[38;5;241m.\u001b[39mset(\u001b[38;5;124m\"\u001b[39m\u001b[38;5;124mspark.sql.ansi.enabled\u001b[39m\u001b[38;5;124m\"\u001b[39m, \u001b[38;5;28;01mTrue\u001b[39;00m)\n\u001b[1;32m      3\u001b[0m df \u001b[38;5;241m=\u001b[39m spark\u001b[38;5;241m.\u001b[39msql(\u001b[38;5;124m\"\u001b[39m\u001b[38;5;124m select cast(\u001b[39m\u001b[38;5;124m'\u001b[39m\u001b[38;5;124mabc\u001b[39m\u001b[38;5;124m'\u001b[39m\u001b[38;5;124m as int) as value \u001b[39m\u001b[38;5;124m\"\u001b[39m)\n\u001b[0;32m----> 4\u001b[0m \u001b[43mdf\u001b[49m\u001b[38;5;241;43m.\u001b[39;49m\u001b[43mshow\u001b[49m\u001b[43m(\u001b[49m\u001b[43m)\u001b[49m\n",
      "File \u001b[0;32m/usr/local/lib/python3.9/site-packages/pyspark/sql/dataframe.py:899\u001b[0m, in \u001b[0;36mDataFrame.show\u001b[0;34m(self, n, truncate, vertical)\u001b[0m\n\u001b[1;32m    893\u001b[0m     \u001b[38;5;28;01mraise\u001b[39;00m PySparkTypeError(\n\u001b[1;32m    894\u001b[0m         error_class\u001b[38;5;241m=\u001b[39m\u001b[38;5;124m\"\u001b[39m\u001b[38;5;124mNOT_BOOL\u001b[39m\u001b[38;5;124m\"\u001b[39m,\n\u001b[1;32m    895\u001b[0m         message_parameters\u001b[38;5;241m=\u001b[39m{\u001b[38;5;124m\"\u001b[39m\u001b[38;5;124marg_name\u001b[39m\u001b[38;5;124m\"\u001b[39m: \u001b[38;5;124m\"\u001b[39m\u001b[38;5;124mvertical\u001b[39m\u001b[38;5;124m\"\u001b[39m, \u001b[38;5;124m\"\u001b[39m\u001b[38;5;124marg_type\u001b[39m\u001b[38;5;124m\"\u001b[39m: \u001b[38;5;28mtype\u001b[39m(vertical)\u001b[38;5;241m.\u001b[39m\u001b[38;5;18m__name__\u001b[39m},\n\u001b[1;32m    896\u001b[0m     )\n\u001b[1;32m    898\u001b[0m \u001b[38;5;28;01mif\u001b[39;00m \u001b[38;5;28misinstance\u001b[39m(truncate, \u001b[38;5;28mbool\u001b[39m) \u001b[38;5;129;01mand\u001b[39;00m truncate:\n\u001b[0;32m--> 899\u001b[0m     \u001b[38;5;28mprint\u001b[39m(\u001b[38;5;28;43mself\u001b[39;49m\u001b[38;5;241;43m.\u001b[39;49m\u001b[43m_jdf\u001b[49m\u001b[38;5;241;43m.\u001b[39;49m\u001b[43mshowString\u001b[49m\u001b[43m(\u001b[49m\u001b[43mn\u001b[49m\u001b[43m,\u001b[49m\u001b[43m \u001b[49m\u001b[38;5;241;43m20\u001b[39;49m\u001b[43m,\u001b[49m\u001b[43m \u001b[49m\u001b[43mvertical\u001b[49m\u001b[43m)\u001b[49m)\n\u001b[1;32m    900\u001b[0m \u001b[38;5;28;01melse\u001b[39;00m:\n\u001b[1;32m    901\u001b[0m     \u001b[38;5;28;01mtry\u001b[39;00m:\n",
      "File \u001b[0;32m/usr/local/lib/python3.9/site-packages/py4j/java_gateway.py:1322\u001b[0m, in \u001b[0;36mJavaMember.__call__\u001b[0;34m(self, *args)\u001b[0m\n\u001b[1;32m   1316\u001b[0m command \u001b[38;5;241m=\u001b[39m proto\u001b[38;5;241m.\u001b[39mCALL_COMMAND_NAME \u001b[38;5;241m+\u001b[39m\\\n\u001b[1;32m   1317\u001b[0m     \u001b[38;5;28mself\u001b[39m\u001b[38;5;241m.\u001b[39mcommand_header \u001b[38;5;241m+\u001b[39m\\\n\u001b[1;32m   1318\u001b[0m     args_command \u001b[38;5;241m+\u001b[39m\\\n\u001b[1;32m   1319\u001b[0m     proto\u001b[38;5;241m.\u001b[39mEND_COMMAND_PART\n\u001b[1;32m   1321\u001b[0m answer \u001b[38;5;241m=\u001b[39m \u001b[38;5;28mself\u001b[39m\u001b[38;5;241m.\u001b[39mgateway_client\u001b[38;5;241m.\u001b[39msend_command(command)\n\u001b[0;32m-> 1322\u001b[0m return_value \u001b[38;5;241m=\u001b[39m \u001b[43mget_return_value\u001b[49m\u001b[43m(\u001b[49m\n\u001b[1;32m   1323\u001b[0m \u001b[43m    \u001b[49m\u001b[43manswer\u001b[49m\u001b[43m,\u001b[49m\u001b[43m \u001b[49m\u001b[38;5;28;43mself\u001b[39;49m\u001b[38;5;241;43m.\u001b[39;49m\u001b[43mgateway_client\u001b[49m\u001b[43m,\u001b[49m\u001b[43m \u001b[49m\u001b[38;5;28;43mself\u001b[39;49m\u001b[38;5;241;43m.\u001b[39;49m\u001b[43mtarget_id\u001b[49m\u001b[43m,\u001b[49m\u001b[43m \u001b[49m\u001b[38;5;28;43mself\u001b[39;49m\u001b[38;5;241;43m.\u001b[39;49m\u001b[43mname\u001b[49m\u001b[43m)\u001b[49m\n\u001b[1;32m   1325\u001b[0m \u001b[38;5;28;01mfor\u001b[39;00m temp_arg \u001b[38;5;129;01min\u001b[39;00m temp_args:\n\u001b[1;32m   1326\u001b[0m     \u001b[38;5;28;01mif\u001b[39;00m \u001b[38;5;28mhasattr\u001b[39m(temp_arg, \u001b[38;5;124m\"\u001b[39m\u001b[38;5;124m_detach\u001b[39m\u001b[38;5;124m\"\u001b[39m):\n",
      "File \u001b[0;32m/usr/local/lib/python3.9/site-packages/pyspark/errors/exceptions/captured.py:175\u001b[0m, in \u001b[0;36mcapture_sql_exception.<locals>.deco\u001b[0;34m(*a, **kw)\u001b[0m\n\u001b[1;32m    171\u001b[0m converted \u001b[38;5;241m=\u001b[39m convert_exception(e\u001b[38;5;241m.\u001b[39mjava_exception)\n\u001b[1;32m    172\u001b[0m \u001b[38;5;28;01mif\u001b[39;00m \u001b[38;5;129;01mnot\u001b[39;00m \u001b[38;5;28misinstance\u001b[39m(converted, UnknownException):\n\u001b[1;32m    173\u001b[0m     \u001b[38;5;66;03m# Hide where the exception came from that shows a non-Pythonic\u001b[39;00m\n\u001b[1;32m    174\u001b[0m     \u001b[38;5;66;03m# JVM exception message.\u001b[39;00m\n\u001b[0;32m--> 175\u001b[0m     \u001b[38;5;28;01mraise\u001b[39;00m converted \u001b[38;5;28;01mfrom\u001b[39;00m \u001b[38;5;28;01mNone\u001b[39;00m\n\u001b[1;32m    176\u001b[0m \u001b[38;5;28;01melse\u001b[39;00m:\n\u001b[1;32m    177\u001b[0m     \u001b[38;5;28;01mraise\u001b[39;00m\n",
      "\u001b[0;31mNumberFormatException\u001b[0m: [CAST_INVALID_INPUT] The value 'abc' of the type \"STRING\" cannot be cast to \"INT\" because it is malformed. Correct the value as per the syntax, or change its target type. Use `try_cast` to tolerate malformed input and return NULL instead. If necessary set \"spark.sql.ansi.enabled\" to \"false\" to bypass this error.\n== SQL(line 1, position 9) ==\n select cast('abc' as int) as value \n        ^^^^^^^^^^^^^^^^^^\n"
     ]
    }
   ],
   "source": [
    "spark.conf.set(\"spark.sql.ansi.enabled\", True)\n",
    "\n",
    "df = spark.sql(\" select cast('abc' as int) as value \")\n",
    "df.show()"
   ]
  },
  {
   "cell_type": "code",
   "execution_count": 5,
   "id": "a2b2049b-72b5-4e17-bd08-94e60b702a23",
   "metadata": {
    "scrolled": true
   },
   "outputs": [
    {
     "name": "stdout",
     "output_type": "stream",
     "text": [
      "spark.sql.ansi.enabled = true\n"
     ]
    },
    {
     "name": "stderr",
     "output_type": "stream",
     "text": [
      "[Stage 1:>                                                          (0 + 1) / 1]\r"
     ]
    },
    {
     "name": "stdout",
     "output_type": "stream",
     "text": [
      "+------------+\n",
      "|casted_value|\n",
      "+------------+\n",
      "|         123|\n",
      "+------------+\n",
      "\n"
     ]
    },
    {
     "name": "stderr",
     "output_type": "stream",
     "text": [
      "                                                                                \r"
     ]
    }
   ],
   "source": [
    "spark.conf.set(\"spark.sql.ansi.enabled\", True)\n",
    "# ANSI mode enabled \n",
    "print(\"spark.sql.ansi.enabled =\", \n",
    "      spark.conf.get(\"spark.sql.ansi.enabled\")) \n",
    "\n",
    "df = spark.sql(\" select cast('123' as int) as casted_value \")\n",
    "df.show()"
   ]
  },
  {
   "cell_type": "code",
   "execution_count": 6,
   "id": "b613c8dd-5382-46eb-83f0-d8d9e10249dd",
   "metadata": {
    "scrolled": true
   },
   "outputs": [],
   "source": [
    "# data = [('Anna', 24), ('Robert', 22), ('Lily', 19)]\n",
    "# mydf = spark.createDataFrame(data, \"name: string, age: int\")\n",
    "\n",
    "# spark.sql(\" select * from {df} \", df=mydf).show()"
   ]
  },
  {
   "cell_type": "code",
   "execution_count": 7,
   "id": "e52a9f03-4dc9-458d-a413-d1a0f6ceb07e",
   "metadata": {},
   "outputs": [
    {
     "name": "stdout",
     "output_type": "stream",
     "text": [
      "root\n",
      " |-- f_int: integer (nullable = true)\n",
      " |-- f_str: string (nullable = false)\n",
      " |-- f_str_date: string (nullable = false)\n",
      "\n"
     ]
    }
   ],
   "source": [
    "sql = \"\"\" select f_int, f_str, f_str_date\n",
    "        from values\n",
    "          (null,    '0', '2025-03-01'), \n",
    "          (11,     '11', '2025-03-02'), \n",
    "          (22,     '22', '2025-03-03') \n",
    "       as (f_int, f_str,   f_str_date) \"\"\" \n",
    "spark.sql(sql).createOrReplaceTempView('tbl')\n",
    "spark.table('tbl').printSchema()"
   ]
  },
  {
   "cell_type": "code",
   "execution_count": 8,
   "id": "bbf6813c-de0e-4bcc-b3c5-2ec043fc36ec",
   "metadata": {},
   "outputs": [
    {
     "name": "stdout",
     "output_type": "stream",
     "text": [
      "f_int_to_boolean     boolean\n",
      "f_int_to_string      string\n",
      "f_str_to_short       smallint\n",
      "f_str_to_byte        tinyint\n",
      "f_str_to_int         int\n",
      "f_str_to_integer     int\n",
      "f_str_to_bigint      bigint\n",
      "f_str_to_long        bigint\n",
      "f_str_to_decimal     decimal(10,0)\n",
      "f_str_to_float       float\n",
      "f_str_to_double      double\n",
      "f_sdate_to_date      date\n"
     ]
    }
   ],
   "source": [
    " sql = \"\"\" select\n",
    "             cast(f_int as boolean)  f_int_to_boolean,\n",
    "             cast(f_int as string)   f_int_to_string,\n",
    "             cast(f_str as short)    f_str_to_short,\n",
    "             cast(f_str as byte)     f_str_to_byte,\n",
    "             cast(f_str as int)      f_str_to_int,\n",
    "             cast(f_str as integer)  f_str_to_integer,\n",
    "             cast(f_str as bigint)   f_str_to_bigint,\n",
    "             cast(f_str as long)     f_str_to_long,\n",
    "             cast(f_str as decimal)  f_str_to_decimal,\n",
    "             cast(f_str as float)    f_str_to_float,\n",
    "             cast(f_str as double)   f_str_to_double,            \n",
    "             cast(f_str_date as date) f_sdate_to_date\n",
    "        from tbl \"\"\" \n",
    "df = spark.sql(sql)\n",
    "for col in df.dtypes:\n",
    "    print(f\"{col[0]:<20} {col[1]}\")"
   ]
  },
  {
   "cell_type": "code",
   "execution_count": 9,
   "id": "6c574921-edc7-4237-be51-a022bb18f2c7",
   "metadata": {
    "scrolled": true
   },
   "outputs": [
    {
     "name": "stdout",
     "output_type": "stream",
     "text": [
      "f_int_to_boolean     boolean\n",
      "f_int_to_string      string\n",
      "f_str_to_int         int\n",
      "f_str_to_bigint      bigint\n",
      "f_str_to_decimal     decimal(10,0)\n",
      "f_str_to_float       float\n",
      "f_str_to_double      double\n",
      "f_sdate_to_date      date\n"
     ]
    }
   ],
   "source": [
    " sql = \"\"\" select\n",
    "             boolean(f_int)  f_int_to_boolean,\n",
    "             string(f_int)   f_int_to_string,\n",
    "             --short(f_str)    f_str_to_short,\n",
    "             --byte(f_str)     f_str_to_byte,\n",
    "             int(f_str)      f_str_to_int,\n",
    "             --integer(f_str)  f_str_to_integer,\n",
    "             bigint(f_str)   f_str_to_bigint,\n",
    "             --long(f_str)     f_str_to_long,\n",
    "             decimal(f_str)  f_str_to_decimal,\n",
    "             float(f_str)    f_str_to_float,\n",
    "             double(f_str)   f_str_to_double,            \n",
    "             date(f_str_date) f_sdate_to_date\n",
    "        from tbl \"\"\" \n",
    "df = spark.sql(sql)\n",
    "for col in df.dtypes:\n",
    "    print(f\"{col[0]:<20} {col[1]}\")"
   ]
  },
  {
   "cell_type": "code",
   "execution_count": 10,
   "id": "d96f1a78-78a9-45cd-ad07-7d3c4ad40bb8",
   "metadata": {},
   "outputs": [
    {
     "name": "stdout",
     "output_type": "stream",
     "text": [
      "f_int_to_boolean     boolean\n",
      "f_int_to_string      string\n",
      "f_str_to_int         int\n",
      "f_sdate_to_date      date\n"
     ]
    }
   ],
   "source": [
    "df = spark.table('tbl').selectExpr(\n",
    "   \" cast(f_int as boolean) as f_int_to_boolean \",\n",
    "   \" cast(f_int as string)  as f_int_to_string \", \n",
    "   \" int(f_str)             as f_str_to_int \", \n",
    "   \" date(f_str_date)       as f_sdate_to_date \")\n",
    "for col in df.dtypes:\n",
    "    print(f\"{col[0]:<20} {col[1]}\")"
   ]
  },
  {
   "cell_type": "code",
   "execution_count": 11,
   "id": "252272aa-e767-4129-9420-775e8b598f70",
   "metadata": {},
   "outputs": [
    {
     "name": "stdout",
     "output_type": "stream",
     "text": [
      "f_int_to_boolean boolean\n",
      "f_int_to_string  string\n",
      "f_str_to_int     int\n",
      "f_sdate_to_date  date\n",
      "f_int_to_boolean boolean\n",
      "f_int_to_string  string\n",
      "f_str_to_int     int\n",
      "f_sdate_to_date  date\n"
     ]
    }
   ],
   "source": [
    "from pyspark.sql.functions import col\n",
    "from pyspark.sql.types import BooleanType, StringType, IntegerType, DateType\n",
    "\n",
    "df = spark.table('tbl').select( \n",
    "    col('f_int').cast(BooleanType()).alias('f_int_to_boolean'), \n",
    "    col('f_int').cast(StringType()).alias('f_int_to_string'), \n",
    "    col('f_str').cast(IntegerType()).alias('f_str_to_int'), \n",
    "    col('f_str_date').cast(DateType()).alias('f_sdate_to_date'),\n",
    "    \n",
    "    col('f_int').cast('boolean').alias('f_int_to_boolean'), \n",
    "    col('f_int').cast('string').alias('f_int_to_string'), \n",
    "    col('f_str').cast('int').alias('f_str_to_int'),\n",
    "    col('f_str_date').cast('date').alias('f_sdate_to_date'))\n",
    "\n",
    "for col in df.dtypes:\n",
    "    print(f\"{col[0]:<16} {col[1]}\")"
   ]
  },
  {
   "cell_type": "code",
   "execution_count": 12,
   "id": "e244ed93-1a7d-452c-b8c2-b255d6656af3",
   "metadata": {},
   "outputs": [],
   "source": [
    "spark.stop()"
   ]
  }
 ],
 "metadata": {
  "kernelspec": {
   "display_name": "Python 3 (ipykernel)",
   "language": "python",
   "name": "python3"
  },
  "language_info": {
   "codemirror_mode": {
    "name": "ipython",
    "version": 3
   },
   "file_extension": ".py",
   "mimetype": "text/x-python",
   "name": "python",
   "nbconvert_exporter": "python",
   "pygments_lexer": "ipython3",
   "version": "3.9.16"
  }
 },
 "nbformat": 4,
 "nbformat_minor": 5
}
