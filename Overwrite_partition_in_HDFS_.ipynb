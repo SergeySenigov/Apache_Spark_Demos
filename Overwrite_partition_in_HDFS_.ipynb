{
 "cells": [
  {
   "cell_type": "code",
   "execution_count": 4,
   "id": "8ce6b1dc-be57-4247-a04f-3344b4f0ca97",
   "metadata": {},
   "outputs": [],
   "source": [
    "import os, sys\n",
    "os.environ['HADOOP_CONF_DIR'] = '/etc/hadoop/conf'\n",
    "os.environ['YARN_CONF_DIR'] = '/etc/hadoop/conf'\n",
    "# os.environ['JAVA_HOME']='/usr'\n",
    "# os.environ['SPARK_HOME'] ='/usr/local/lib/python3.9/site-packages/pyspark/'\n",
    "os.environ['PYSPARK_PYTHON'] =  'python3.9'\n",
    "os.environ['PYSPARK_DRIVER_PYTHON'] = 'python3.9'\n",
    "# os.environ['HADOOP_USER_NAME']='skhalikov'\n",
    "os.environ['HADOOP_USER_NAME']='student02'\n",
    "\n",
    "from pyspark.sql import SparkSession\n",
    "from pyspark import SparkContext, SparkConf\n",
    "import pyspark.sql.functions as F"
   ]
  },
  {
   "cell_type": "code",
   "execution_count": 7,
   "id": "db7c2edf-43ce-4a2e-ac39-be7a1964b3e8",
   "metadata": {},
   "outputs": [
    {
     "name": "stdout",
     "output_type": "stream",
     "text": [
      "app_id                                             application_1711527309433_0231\n",
      "spark.sql.sources.partitionOverwriteMode           dynamic\n"
     ]
    }
   ],
   "source": [
    "conf = SparkConf().setAppName('Overwrite_partition_in_HDFS_20240513')\\\n",
    "    .setMaster('yarn') \\\n",
    "    .set('spark.default.parallelism', '4') \\\n",
    "    .set('spark.sql.shuffle.partitions', '100')\\\n",
    "    .set('spark.dynamicAllocation.enabled', 'false')\\\n",
    "    .set(\"spark.sql.sources.partitionOverwriteMode\", \"dynamic\") \n",
    " # Required for overwriting ONLY the required partitioned folders, and not the entire root folder\n",
    "\n",
    "spark = SparkSession.builder.config(conf=conf).enableHiveSupport() \\\n",
    "    .getOrCreate()\n",
    "# spark.sparkContext.setLogLevel('INFO')\n",
    "\n",
    "sc = spark.sparkContext\n",
    "print(\"app_id\".ljust(50), sc.applicationId)\n",
    "print(\"spark.sql.sources.partitionOverwriteMode\".ljust(50), spark.conf.get(\"spark.sql.sources.partitionOverwriteMode\"))"
   ]
  },
  {
   "cell_type": "code",
   "execution_count": 12,
   "id": "048a81ce-870f-4850-b1d4-8fa791ebcba4",
   "metadata": {},
   "outputs": [],
   "source": [
    "import random\n",
    "from datetime import date, timedelta\n",
    "\n",
    "end = date.today()\n",
    "start = end + timedelta(days=-300)\n",
    "length_customers = 10000\n",
    "\n",
    "names = ['Bob', 'James', 'Marek', 'Johannes', 'Иванов', 'Смирнов', 'Кузнецов', 'Попов', 'Васильев', 'Петров', 'Соколов', 'Михайлов', 'Новиков', 'Федоров', 'Морозов', 'Волков', 'Алексеев', 'Лебедев', 'Семенов', 'Егоров', 'Павлов', 'Козлов', 'Степанов', 'Николаев']\n",
    "countries = ['rus', 'bel', 'usa', 'fra', 'aus', 'ger']\n",
    "customers = list()\n",
    "\n",
    "save_path = \"/user/student02/customers_partitioned_year_month\""
   ]
  },
  {
   "cell_type": "code",
   "execution_count": 18,
   "id": "05d5490d-f8e3-41aa-a10c-5afb7b80d687",
   "metadata": {},
   "outputs": [
    {
     "name": "stdout",
     "output_type": "stream",
     "text": [
      "+----+-----+-----+\n",
      "|year|month|count|\n",
      "+----+-----+-----+\n",
      "|2023|    7|  432|\n",
      "|2023|    8| 1031|\n",
      "|2023|    9|  984|\n",
      "|2023|   10| 1020|\n",
      "|2023|   11|  981|\n",
      "|2023|   12| 1026|\n",
      "|2024|    1| 1040|\n",
      "|2024|    2|  933|\n",
      "|2024|    3| 1077|\n",
      "|2024|    4| 1030|\n",
      "|2024|    5|  446|\n",
      "+----+-----+-----+\n",
      "\n"
     ]
    }
   ],
   "source": [
    "for i in range(length_customers):\n",
    "    random_date = start + (end - start) * random.random()\n",
    "    customer = (names[random.randint(0, len(names)-1)], countries[random.randint(0, len(countries)-1)], random.randint(-1000000, 1000000), random_date)\n",
    "    customers.append(customer)\n",
    "\n",
    "df_customers = spark.createDataFrame(data=customers, schema=[\"name\",\"country\",\"balance\",\"last_order_date\"])\\\n",
    "    .withColumn(\"year\", F.year(\"last_order_date\"))\\\n",
    "    .withColumn(\"month\", F.month(\"last_order_date\"))\n",
    "\n",
    "df_customers.groupBy(\"year\", \"month\").count().orderBy(\"year\", \"month\").show()"
   ]
  },
  {
   "cell_type": "code",
   "execution_count": 19,
   "id": "bb073b32-ee9b-41f5-9f8b-24c9eb488e83",
   "metadata": {},
   "outputs": [
    {
     "name": "stderr",
     "output_type": "stream",
     "text": [
      "                                                                                \r"
     ]
    }
   ],
   "source": [
    "df_customers.coalesce(1).write.partitionBy(\"year\", \"month\").mode(\"overwrite\")\\\n",
    "    .format(\"csv\").save(save_path)"
   ]
  },
  {
   "cell_type": "code",
   "execution_count": 20,
   "id": "68e82bd1-eca5-4d9a-9bc1-5a3a86ee001e",
   "metadata": {
    "scrolled": true
   },
   "outputs": [
    {
     "name": "stdout",
     "output_type": "stream",
     "text": [
      "+----+-----+-----+\n",
      "|year|month|count|\n",
      "+----+-----+-----+\n",
      "|2024|    5|    5|\n",
      "+----+-----+-----+\n",
      "\n"
     ]
    }
   ],
   "source": [
    "customers_add = list()\n",
    "\n",
    "for i in range(5):\n",
    "    # random_date = start + (end - start) * random.random()\n",
    "    add_date = end\n",
    "    customer = (names[random.randint(0, len(names)-1)], countries[random.randint(0, len(countries)-1)], random.randint(-1000000, 1000000), add_date)\n",
    "    customers_add.append(customer)\n",
    "\n",
    "df_customers_add = spark.createDataFrame(data=customers_add, schema=[\"name\",\"country\",\"balance\",\"last_order_date\"])\\\n",
    "    .withColumn(\"year\", F.year(\"last_order_date\"))\\\n",
    "    .withColumn(\"month\", F.month(\"last_order_date\"))\n",
    "\n",
    "df_customers_add.groupBy(\"year\", \"month\").count().orderBy(\"year\", \"month\").show()"
   ]
  },
  {
   "cell_type": "code",
   "execution_count": 22,
   "id": "973c6fa2-b8fe-499b-bb30-07e39f90e997",
   "metadata": {},
   "outputs": [
    {
     "name": "stdout",
     "output_type": "stream",
     "text": [
      "+----+-----+-----+\n",
      "|year|month|count|\n",
      "+----+-----+-----+\n",
      "|2024|    5|  451|\n",
      "+----+-----+-----+\n",
      "\n"
     ]
    }
   ],
   "source": [
    "df_customers_write = df_customers.union(df_customers_add).where(\"year = 2024 and month = 5\")\n",
    "df_customers_write.groupBy(\"year\", \"month\").count().orderBy(\"year\", \"month\").show()"
   ]
  },
  {
   "cell_type": "code",
   "execution_count": 23,
   "id": "912da0f0-bda0-4ebc-940c-523b3de44b82",
   "metadata": {},
   "outputs": [],
   "source": [
    "df_customers_write.coalesce(1).write.partitionBy(\"year\", \"month\").mode(\"overwrite\")\\\n",
    "    .format(\"csv\").save(save_path)"
   ]
  },
  {
   "cell_type": "code",
   "execution_count": 24,
   "id": "15a38ba4-eed6-4416-826d-3bd733b1d726",
   "metadata": {},
   "outputs": [
    {
     "name": "stdout",
     "output_type": "stream",
     "text": [
      "+----+-----+-----+\n",
      "|year|month|count|\n",
      "+----+-----+-----+\n",
      "|2023|    7|  432|\n",
      "|2023|    8| 1031|\n",
      "|2023|    9|  984|\n",
      "|2023|   10| 1020|\n",
      "|2023|   11|  981|\n",
      "|2023|   12| 1026|\n",
      "|2024|    1| 1040|\n",
      "|2024|    2|  933|\n",
      "|2024|    3| 1077|\n",
      "|2024|    4| 1030|\n",
      "|2024|    5|  451|\n",
      "+----+-----+-----+\n",
      "\n"
     ]
    }
   ],
   "source": [
    "df_customers_check = spark.read.csv(save_path).groupBy(\"year\", \"month\").count().orderBy(\"year\", \"month\").show()"
   ]
  },
  {
   "cell_type": "code",
   "execution_count": 4,
   "id": "3c522470-d633-4613-bd3a-feedfca3ff1d",
   "metadata": {
    "scrolled": true
   },
   "outputs": [
    {
     "ename": "SyntaxError",
     "evalue": "invalid syntax (88891658.py, line 1)",
     "output_type": "error",
     "traceback": [
      "\u001b[0;36m  Cell \u001b[0;32mIn[4], line 1\u001b[0;36m\u001b[0m\n\u001b[0;31m    --\u001b[0m\n\u001b[0m      ^\u001b[0m\n\u001b[0;31mSyntaxError\u001b[0m\u001b[0;31m:\u001b[0m invalid syntax\n"
     ]
    }
   ],
   "source": [
    "--"
   ]
  },
  {
   "cell_type": "code",
   "execution_count": 25,
   "id": "e244ed93-1a7d-452c-b8c2-b255d6656af3",
   "metadata": {},
   "outputs": [],
   "source": [
    "spark.stop()"
   ]
  }
 ],
 "metadata": {
  "kernelspec": {
   "display_name": "Python 3 (ipykernel)",
   "language": "python",
   "name": "python3"
  },
  "language_info": {
   "codemirror_mode": {
    "name": "ipython",
    "version": 3
   },
   "file_extension": ".py",
   "mimetype": "text/x-python",
   "name": "python",
   "nbconvert_exporter": "python",
   "pygments_lexer": "ipython3",
   "version": "3.9.16"
  }
 },
 "nbformat": 4,
 "nbformat_minor": 5
}
