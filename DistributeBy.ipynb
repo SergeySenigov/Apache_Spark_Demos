{
 "cells": [
  {
   "cell_type": "code",
   "execution_count": null,
   "id": "8ce6b1dc-be57-4247-a04f-3344b4f0ca97",
   "metadata": {},
   "outputs": [],
   "source": [
    "import os, sys\n",
    "os.environ['HADOOP_CONF_DIR'] = '/etc/hadoop/conf'\n",
    "os.environ['YARN_CONF_DIR'] = '/etc/hadoop/conf'\n",
    "os.environ['PYSPARK_PYTHON'] =  'python3.9'\n",
    "os.environ['PYSPARK_DRIVER_PYTHON'] = 'python3.9'\n",
    "os.environ['HADOOP_USER_NAME']='student02'\n",
    "\n",
    "from pyspark.sql import SparkSession\n",
    "from pyspark import SparkContext, SparkConf\n",
    "import pyspark.sql.functions as F"
   ]
  },
  {
   "cell_type": "code",
   "execution_count": null,
   "id": "db7c2edf-43ce-4a2e-ac39-be7a1964b3e8",
   "metadata": {},
   "outputs": [],
   "source": [
    "conf = SparkConf().setAppName('AQE_Use_Broadcast_20240519')\\\n",
    "    .setMaster('yarn') \\\n",
    "    .set('spark.sql.adaptive.enabled', 'false')\\\n",
    "    .set('spark.sql.shuffle.partitions', '5')\\\n",
    "\n",
    "    # .set('spark.sql.autoBroadcastJoinThreshold', 10485760 )\n",
    "\n",
    "    # .set('spark.sql.adaptive.coalescePartitions.initialPartitionNum', '250')\\\n",
    "    # .set('spark.default.parallelism', '4')\\\n",
    "    # .set('spark.dynamicAllocation.enabled', 'false')\\\n",
    "    # .set(\"spark.sql.sources.partitionOverwriteMode\", \"dynamic\") \n",
    " # Required for overwriting ONLY the required partitioned folders, and not the entire root folder\n",
    "\n",
    "spark = SparkSession.builder.config(conf=conf) \\\n",
    "    .getOrCreate()\n",
    "\n",
    "sc = spark.sparkContext\n",
    "print(\"app_id\".ljust(40), sc.applicationId)\n",
    "print(\"spark.sql.autoBroadcastJoinThreshold\".ljust(40), spark.conf.get(\"spark.sql.autoBroadcastJoinThreshold\"))"
   ]
  },
  {
   "cell_type": "code",
   "execution_count": null,
   "id": "048a81ce-870f-4850-b1d4-8fa791ebcba4",
   "metadata": {},
   "outputs": [],
   "source": [
    "import random\n",
    "from datetime import date, timedelta\n",
    "end = date.today()\n",
    "start = end + timedelta(days=-300)\n",
    "names = ['Bob', 'James', 'Marek', 'Johannes', 'Иванов', 'Смирнов', 'Кузнецов', 'Попов', 'Васильев', 'Петров', 'Соколов', 'Михайлов', 'Новиков', 'Федоров', 'Морозов', 'Волков', 'Алексеев', 'Лебедев', 'Семенов', 'Егоров', 'Павлов', 'Козлов', 'Степанов', 'Николаев']\n",
    "countries = [('rus', 'Russia'),('bel', 'Belgium'), ('usa', 'United States'), \n",
    "             ('fra', 'France'), ('aus', 'Australia'), ('ita', 'Italy'), \n",
    "             ('swe', 'Sweden'), ('geo', 'Georgia'), ('pol', 'Poland'),\n",
    "             ('che', 'Cheska'), ('slo', 'Slovenia'), ('ser', 'Serbia'),\n",
    "             ('mon', 'Montenegro'), ('bul', 'Bulgaria'), ('rom', 'Romania'),\n",
    "             ('fin', 'Finland'), ('ukr', 'Ukraine'), ('blr', 'Belorusia'),\n",
    "             ('chi', 'China')]\n",
    "df_countries = spark.createDataFrame(data=countries, schema=[\"country\", \"country_name\",])\n",
    "# save_path = \"/user/student02/customers_partitioned_year_month\"\n",
    "sc.setJobDescription('MY DESCRIPTION JOB 1')"
   ]
  },
  {
   "cell_type": "code",
   "execution_count": null,
   "id": "eeb07003-fd67-4ed5-8335-93356f84022c",
   "metadata": {},
   "outputs": [],
   "source": [
    "length_customers = 1000000\n",
    "customers = [None]*length_customers\n",
    "for i in range(length_customers):\n",
    "    random_date = start + (end - start) * random.random()\n",
    "\n",
    "    if i % 2 == 0:\n",
    "        country = countries[-1][0] # 50% take last - 'China'\n",
    "    else:\n",
    "        country = countries[random.randint(0, len(countries)-2)][0] # all without China\n",
    "    \n",
    "    customers[i] = (names[random.randint(0, len(names)-1)], country, random.randint(-1000000, 1000000), random_date)\n",
    "\n",
    "df_customers = spark.createDataFrame(data=customers, schema=[\"name\",\"country\",\"balance\",\"last_order_date\"])"
   ]
  },
  {
   "cell_type": "code",
   "execution_count": null,
   "id": "51c901e7-133c-4060-9326-d67247c0190e",
   "metadata": {},
   "outputs": [],
   "source": [
    "df_customers.createOrReplaceTempView(\"customers\")\n",
    "df_countries.createOrReplaceTempView(\"countries\")"
   ]
  },
  {
   "cell_type": "code",
   "execution_count": null,
   "id": "5fdcf732-ea3c-4ece-b3f9-d39a03456aaf",
   "metadata": {},
   "outputs": [],
   "source": [
    "# df_joined = df_customers.join(df_countries, \"country\", \"leftouter\")\n",
    "# df_to_explain = df_customers.join(df_countries.hint(\"broadcast\"), 'country', 'leftouter')\n",
    "\n",
    "# df_to_explain = df_customers.groupBy(\"country\").agg(F.count(\"name\"))\n",
    "# sc.setJobDescription('MY JOB group by rollup(country)')\n",
    "df_to_explain = spark.sql(\" select name, country, country_name \\\n",
    "                 from customers left outer join countries using (country) \\\n",
    "                 CLUSTER BY name \")\n",
    "\n",
    "                # order by country desc\"\n",
    "# df_to_explain = spark.sql(sql_clause).show()\n",
    "# spark.sql(\"EXPLAIN \" + sql_clause).show(60, False, False)\n",
    "# .orderBy(\"name\", \"year\", \"month\") #.show()\n",
    "# df_grouped.rdd.getNumPartitions()\n",
    "# df_to_explain.explain(True)\n",
    "# df_to_explain = df_joined.groupBy('country_name').agg(F.count(F.lit(\"1\")))\n",
    "df_to_explain.withColumn('pid', F.spark_partition_id())\\\n",
    "   .groupBy([\"name\",\"pid\"]).count().orderBy([\"pid\"]).collect()"
   ]
  },
  {
   "cell_type": "code",
   "execution_count": null,
   "id": "ff64b06e-992f-4f1b-a665-5a0f39cd869b",
   "metadata": {},
   "outputs": [],
   "source": [
    "# df_to_explain.collect()\n",
    "print(df_to_explain.rdd.getNumPartitions())"
   ]
  },
  {
   "cell_type": "code",
   "execution_count": null,
   "id": "3c522470-d633-4613-bd3a-feedfca3ff1d",
   "metadata": {
    "scrolled": true
   },
   "outputs": [],
   "source": [
    "--"
   ]
  },
  {
   "cell_type": "code",
   "execution_count": null,
   "id": "e244ed93-1a7d-452c-b8c2-b255d6656af3",
   "metadata": {},
   "outputs": [],
   "source": [
    "spark.stop()"
   ]
  },
  {
   "cell_type": "code",
   "execution_count": null,
   "id": "bd16d23a-a315-4e73-8023-56c2924c7849",
   "metadata": {},
   "outputs": [],
   "source": []
  }
 ],
 "metadata": {
  "kernelspec": {
   "display_name": "Python 3 (ipykernel)",
   "language": "python",
   "name": "python3"
  },
  "language_info": {
   "codemirror_mode": {
    "name": "ipython",
    "version": 3
   },
   "file_extension": ".py",
   "mimetype": "text/x-python",
   "name": "python",
   "nbconvert_exporter": "python",
   "pygments_lexer": "ipython3",
   "version": "3.9.16"
  }
 },
 "nbformat": 4,
 "nbformat_minor": 5
}
