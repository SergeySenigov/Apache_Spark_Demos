{
 "cells": [
  {
   "cell_type": "code",
   "execution_count": 1,
   "id": "8ce6b1dc-be57-4247-a04f-3344b4f0ca97",
   "metadata": {},
   "outputs": [],
   "source": [
    "import os, sys\n",
    "os.environ['HADOOP_CONF_DIR'] = '/etc/hadoop/conf'\n",
    "os.environ['YARN_CONF_DIR'] = '/etc/hadoop/conf'\n",
    "os.environ['PYSPARK_PYTHON'] =  'python3.9'\n",
    "os.environ['PYSPARK_DRIVER_PYTHON'] = 'python3.9'\n",
    "os.environ['HADOOP_USER_NAME']='ssenigov'\n",
    "\n",
    "from pyspark.sql import SparkSession\n",
    "from pyspark import SparkContext, SparkConf"
   ]
  },
  {
   "cell_type": "code",
   "execution_count": null,
   "id": "db7c2edf-43ce-4a2e-ac39-be7a1964b3e8",
   "metadata": {},
   "outputs": [],
   "source": [
    "conf = (SparkConf().setAppName('Bucketing_Part2').setMaster('yarn') \n",
    "    .set(\"spark.sql.autoBroadcastJoinThreshold\", -1)\\\n",
    "    .set(\"spark.sql.warehouse.dir\", 'hdfs:/users/ssenigov/spark_warehouse')\\\n",
    "    .set(\"spark.sql.adaptive.enabled\", False)  )\n",
    "spark = SparkSession.builder.config(conf=conf).enableHiveSupport().getOrCreate()\n",
    "print(\"app_id\".ljust(40), spark.sparkContext.applicationId)"
   ]
  },
  {
   "cell_type": "code",
   "execution_count": 19,
   "id": "77b33542-c7dd-4a63-b153-ef2e529671e4",
   "metadata": {},
   "outputs": [],
   "source": [
    "from pyspark.sql import Row\n",
    "from faker import Faker\n",
    "\n",
    "fake = Faker()\n",
    "Faker.seed(0)\n",
    "\n",
    "people = [ Row(fake.first_name(), fake.last_name()) for _ in range(10000)]\n",
    "\n",
    "df = spark.sparkContext.parallelize(people, 2).toDF([\"first_name\", \"last_name\"])"
   ]
  },
  {
   "cell_type": "code",
   "execution_count": 22,
   "id": "d36f6f23-d25f-4dcf-87c4-2bf9013f1751",
   "metadata": {},
   "outputs": [
    {
     "name": "stderr",
     "output_type": "stream",
     "text": [
      "                                                                                \r"
     ]
    }
   ],
   "source": [
    "# save to 500 buckets by first_name\n",
    "df.write.bucketBy(500, 'first_name').mode(\"overwrite\")\\\n",
    "  .saveAsTable('bucketed_people', path='hdfs:/users/ssenigov/spark_warehouse/bp') "
   ]
  },
  {
   "cell_type": "code",
   "execution_count": 117,
   "id": "9db0dd23-a641-49a7-a86d-7870b6f86edb",
   "metadata": {
    "scrolled": true
   },
   "outputs": [
    {
     "name": "stdout",
     "output_type": "stream",
     "text": [
      "== Physical Plan ==\n",
      "*(4) HashAggregate(keys=[first_name#780, last_name#781, last_name#783], functions=[])\n",
      "+- *(4) HashAggregate(keys=[first_name#780, last_name#781, last_name#783], functions=[])\n",
      "   +- *(4) SortMergeJoin [first_name#780], [last_name#783], Inner\n",
      "      :- *(1) Sort [first_name#780 ASC NULLS FIRST], false, 0\n",
      "      :  +- *(1) Filter (first_name#780 IN (Janny,Anna,John,Tom,James) AND isnotnull(first_name#780))\n",
      "      :     +- *(1) ColumnarToRow\n",
      "      :        +- FileScan parquet spark_catalog.default.bucketed_people[first_name#780,last_name#781] Batched: true, Bucketed: true, DataFilters: [first_name#780 IN (Janny,Anna,John,Tom,James), isnotnull(first_name#780)], Format: Parquet, Location: InMemoryFileIndex(1 paths)[hdfs://adhcluster2.neoflex.ru:8020/users/ssenigov/spark_warehouse/bp500], PartitionFilters: [], PushedFilters: [In(first_name, [Anna,James,Janny,John,Tom]), IsNotNull(first_name)], ReadSchema: struct<first_name:string,last_name:string>, SelectedBucketsCount: 5 out of 500\n",
      "      +- *(3) Sort [last_name#783 ASC NULLS FIRST], false, 0\n",
      "         +- Exchange hashpartitioning(last_name#783, 500), ENSURE_REQUIREMENTS, [plan_id=5442]\n",
      "            +- *(2) Filter (last_name#783 IN (Janny,Anna,John,Tom,James) AND isnotnull(last_name#783))\n",
      "               +- *(2) ColumnarToRow\n",
      "                  +- FileScan parquet spark_catalog.default.bucketed_people[last_name#783] Batched: true, Bucketed: false (bucket column(s) not read), DataFilters: [last_name#783 IN (Janny,Anna,John,Tom,James), isnotnull(last_name#783)], Format: Parquet, Location: InMemoryFileIndex(1 paths)[hdfs://adhcluster2.neoflex.ru:8020/users/ssenigov/spark_warehouse/bp500], PartitionFilters: [], PushedFilters: [In(last_name, [Anna,James,Janny,John,Tom]), IsNotNull(last_name)], ReadSchema: struct<last_name:string>\n",
      "\n",
      "\n"
     ]
    }
   ],
   "source": [
    "# query cases when we generated last name equal to somebody's first name \n",
    "df_filtered = spark.sql(\"\"\"\n",
    " select distinct bp1.first_name, bp1.last_name, bp2.last_name\n",
    "  from bucketed_people bp1\n",
    "     join bucketed_people bp2 on bp1.first_name = bp2.last_name\n",
    "   where bp1.first_name in ('Janny', 'Anna', 'John', 'Tom', 'James') \"\"\")\n",
    "df_res = df_filtered\n",
    "df_res.explain()"
   ]
  },
  {
   "cell_type": "code",
   "execution_count": 38,
   "id": "a24c1c47-ac73-440e-8f96-26b3bf776006",
   "metadata": {},
   "outputs": [
    {
     "name": "stderr",
     "output_type": "stream",
     "text": [
      "[Stage 29:============================================>         (163 + 2) / 200]\r"
     ]
    },
    {
     "name": "stdout",
     "output_type": "stream",
     "text": [
      "+----------+----------------------------------------------------+-----------+\n",
      "|bucket_num|first_names                                         |names_count|\n",
      "+----------+----------------------------------------------------+-----------+\n",
      "|386       |[Cassie, Gabrielle, Russell, Curtis, Adrian, Dalton]|6          |\n",
      "|-442      |[Helen, George, Latoya, Gavin]                      |4          |\n",
      "|120       |[Javier, Craig, Matthew, Nathan]                    |4          |\n",
      "|-169      |[Diamond, Dawn, Tracy, Krystal]                     |4          |\n",
      "|-111      |[Shelby, Karen, Peggy]                              |3          |\n",
      "|420       |[Anita, Dan, Katrina]                               |3          |\n",
      "|-437      |[Mason, Noah, Kari]                                 |3          |\n",
      "|-447      |[Makayla, Cassandra, Cheyenne]                      |3          |\n",
      "|272       |[Barbara, Jane, Tina]                               |3          |\n",
      "|109       |[Amanda, Charlene, Meagan]                          |3          |\n",
      "|237       |[Kim, Joe, Stacie]                                  |3          |\n",
      "|38        |[Maureen, Isaac, Glenn]                             |3          |\n",
      "|-171      |[Miguel, Pam, Lonnie]                               |3          |\n",
      "|-383      |[Benjamin, Herbert, Trevor]                         |3          |\n",
      "|-399      |[Autumn, Dorothy, Cesar]                            |3          |\n",
      "|290       |[Lawrence, Kendra, Charlotte]                       |3          |\n",
      "|196       |[Anne, Tabitha, Donald]                             |3          |\n",
      "|441       |[Bianca, Victoria, Nathaniel]                       |3          |\n",
      "|-29       |[Patty, Peter, Heather]                             |3          |\n",
      "|498       |[Jon, Darrell, Francisco]                           |3          |\n",
      "+----------+----------------------------------------------------+-----------+\n",
      "only showing top 20 rows\n",
      "\n"
     ]
    },
    {
     "name": "stderr",
     "output_type": "stream",
     "text": [
      "                                                                                \r"
     ]
    }
   ],
   "source": [
    "from pyspark.sql.functions import col, hash, collect_set, count, lit, desc, size\n",
    "\n",
    "df.withColumn('hash', hash(col('first_name')))\\\n",
    "       .withColumn('bucket_num', col('hash')%500)\\\n",
    "       .groupBy('bucket_num').agg(\\\n",
    "           collect_set('first_name').alias('first_names')\\\n",
    "            )\\\n",
    "       .withColumn('names_count', size(col('first_names'))) \\\n",
    "       .orderBy(desc('names_count')).show(truncate=False)"
   ]
  },
  {
   "cell_type": "code",
   "execution_count": 46,
   "id": "9ba90bfc-1eb9-4b66-b9ac-7699bd57639d",
   "metadata": {
    "scrolled": true
   },
   "outputs": [
    {
     "name": "stdout",
     "output_type": "stream",
     "text": [
      "== Physical Plan ==\n",
      "*(4) HashAggregate(keys=[first_name#592, last_name#593, last_name#638], functions=[])\n",
      "+- *(4) HashAggregate(keys=[first_name#592, last_name#593, last_name#638], functions=[])\n",
      "   +- *(4) SortMergeJoin [first_name#592], [last_name#638], Inner\n",
      "      :- *(1) Sort [first_name#592 ASC NULLS FIRST], false, 0\n",
      "      :  +- *(1) Filter (first_name#592 IN (Cassie,Gabrielle,Russell,Curtis,Adrian,Dalton) AND isnotnull(first_name#592))\n",
      "      :     +- *(1) ColumnarToRow\n",
      "      :        +- FileScan parquet spark_catalog.default.bucketed_people[first_name#592,last_name#593] Batched: true, Bucketed: true, DataFilters: [first_name#592 IN (Cassie,Gabrielle,Russell,Curtis,Adrian,Dalton), isnotnull(first_name#592)], Format: Parquet, Location: InMemoryFileIndex(1 paths)[hdfs://adhcluster2.neoflex.ru:8020/users/ssenigov/spark_warehouse/bp], PartitionFilters: [], PushedFilters: [In(first_name, [Adrian,Cassie,Curtis,Dalton,Gabrielle,Russell]), IsNotNull(first_name)], ReadSchema: struct<first_name:string,last_name:string>, SelectedBucketsCount: 1 out of 500\n",
      "      +- *(3) Sort [last_name#638 ASC NULLS FIRST], false, 0\n",
      "         +- Exchange hashpartitioning(last_name#638, 500), ENSURE_REQUIREMENTS, [plan_id=1111]\n",
      "            +- *(2) Filter (last_name#638 IN (Cassie,Gabrielle,Russell,Curtis,Adrian,Dalton) AND isnotnull(last_name#638))\n",
      "               +- *(2) ColumnarToRow\n",
      "                  +- FileScan parquet spark_catalog.default.bucketed_people[last_name#638] Batched: true, Bucketed: false (bucket column(s) not read), DataFilters: [last_name#638 IN (Cassie,Gabrielle,Russell,Curtis,Adrian,Dalton), isnotnull(last_name#638)], Format: Parquet, Location: InMemoryFileIndex(1 paths)[hdfs://adhcluster2.neoflex.ru:8020/users/ssenigov/spark_warehouse/bp], PartitionFilters: [], PushedFilters: [In(last_name, [Adrian,Cassie,Curtis,Dalton,Gabrielle,Russell]), IsNotNull(last_name)], ReadSchema: struct<last_name:string>\n",
      "\n",
      "\n"
     ]
    }
   ],
   "source": [
    "# query cases when we generated last name equal to somebody's first name \n",
    "df_filtered = spark.sql(\"\"\"\n",
    " select distinct bp1.first_name, bp1.last_name, bp2.last_name\n",
    "  from bucketed_people bp1\n",
    "     join bucketed_people bp2 on bp1.first_name = bp2.last_name\n",
    "   where bp1.first_name in -- ('George', 'Latoya', 'Gavin', 'Helen')\n",
    "       ('Cassie', 'Gabrielle', 'Russell', 'Curtis', 'Adrian', 'Dalton') \"\"\")\n",
    "df_res = df_filtered\n",
    "df_res.explain()"
   ]
  },
  {
   "cell_type": "code",
   "execution_count": 9,
   "id": "e244ed93-1a7d-452c-b8c2-b255d6656af3",
   "metadata": {},
   "outputs": [],
   "source": [
    "spark.stop()"
   ]
  }
 ],
 "metadata": {
  "kernelspec": {
   "display_name": "Python 3 (ipykernel)",
   "language": "python",
   "name": "python3"
  },
  "language_info": {
   "codemirror_mode": {
    "name": "ipython",
    "version": 3
   },
   "file_extension": ".py",
   "mimetype": "text/x-python",
   "name": "python",
   "nbconvert_exporter": "python",
   "pygments_lexer": "ipython3",
   "version": "3.9.16"
  }
 },
 "nbformat": 4,
 "nbformat_minor": 5
}
