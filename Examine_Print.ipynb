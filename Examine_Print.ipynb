{
 "cells": [
  {
   "cell_type": "code",
   "execution_count": 1,
   "id": "8ce6b1dc-be57-4247-a04f-3344b4f0ca97",
   "metadata": {},
   "outputs": [],
   "source": [
    "import os\n",
    "\n",
    "from pyspark.sql import SparkSession\n",
    "from pyspark import SparkConf\n",
    "\n",
    "os.environ['HADOOP_CONF_DIR'] = '/etc/hadoop/conf'\n",
    "os.environ['YARN_CONF_DIR'] = '/etc/hadoop/conf'\n",
    "os.environ['PYSPARK_PYTHON'] =  'python3.9'\n",
    "os.environ['PYSPARK_DRIVER_PYTHON'] = 'python3.9'\n",
    "os.environ['HADOOP_USER_NAME']='ssenigov'"
   ]
  },
  {
   "cell_type": "code",
   "execution_count": 2,
   "id": "db7c2edf-43ce-4a2e-ac39-be7a1964b3e8",
   "metadata": {
    "scrolled": true
   },
   "outputs": [
    {
     "name": "stderr",
     "output_type": "stream",
     "text": [
      "Setting default log level to \"WARN\".\n",
      "To adjust logging level use sc.setLogLevel(newLevel). For SparkR, use setLogLevel(newLevel).\n",
      "24/07/11 08:41:27 WARN NativeCodeLoader: Unable to load native-hadoop library for your platform... using builtin-java classes where applicable\n",
      "24/07/11 08:41:29 WARN Utils: Service 'SparkUI' could not bind on port 4040. Attempting port 4041.\n",
      "24/07/11 08:41:29 WARN Utils: Service 'SparkUI' could not bind on port 4041. Attempting port 4042.\n",
      "24/07/11 08:41:29 WARN Utils: Service 'SparkUI' could not bind on port 4042. Attempting port 4043.\n",
      "24/07/11 08:41:29 WARN Utils: Service 'SparkUI' could not bind on port 4043. Attempting port 4044.\n"
     ]
    }
   ],
   "source": [
    "conf = SparkConf().setAppName('Examine_Print_Opt').setMaster('local[1]')\\\n",
    "     .set(\"spark.executor.instances\", 1)\n",
    "spark = SparkSession.builder.config(conf=conf).getOrCreate()"
   ]
  },
  {
   "cell_type": "code",
   "execution_count": 3,
   "id": "8ea0a247-d9f4-43a3-a1e8-5683d7f0abce",
   "metadata": {},
   "outputs": [],
   "source": [
    "dfGuests = spark.createDataFrame([\n",
    "    {\"id\": 1, \"age\": 42, \"name\": \"Hyukjin Kwon\", \"dept\": \"Asian UN Corporation Finance Department\", \"gender\": \"M\", \"seat\": \"A51\"},\n",
    "    {\"id\": 2, \"age\": 50, \"name\": \"Takuya Ueshin\", \"dept\": \"Hong-Kong IBM Science Department\", \"gender\": \"M\", \"seat\": \"B12\"},\n",
    "    {\"id\": 3, \"age\": 61, \"name\": \"Xinrong Meng\", \"dept\": \"East Union Corp Inc Sales\", \"gender\": \"F\", \"seat\": \"A11\"},\n",
    "    {\"id\": 4, \"age\": 27, \"name\": \"Haejoon Lee\", \"dept\": \"Indonisia State Budgets & Resources Department\", \"gender\": \"M\", \"seat\": \"C20\"}\n",
    "])"
   ]
  },
  {
   "cell_type": "code",
   "execution_count": 4,
   "id": "0c7d1faf-e7c6-4614-a106-0e12aba483f4",
   "metadata": {},
   "outputs": [
    {
     "name": "stderr",
     "output_type": "stream",
     "text": [
      "[Stage 0:>                                                          (0 + 1) / 1]\r"
     ]
    },
    {
     "name": "stdout",
     "output_type": "stream",
     "text": [
      "+---+--------------------+------+---+-------------+----+\n",
      "|age|                dept|gender| id|         name|seat|\n",
      "+---+--------------------+------+---+-------------+----+\n",
      "| 42|Asian UN Corporat...|     M|  1| Hyukjin Kwon| A51|\n",
      "| 50|Hong-Kong IBM Sci...|     M|  2|Takuya Ueshin| B12|\n",
      "| 61|East Union Corp I...|     F|  3| Xinrong Meng| A11|\n",
      "| 27|Indonisia State B...|     M|  4|  Haejoon Lee| C20|\n",
      "+---+--------------------+------+---+-------------+----+\n",
      "\n"
     ]
    },
    {
     "name": "stderr",
     "output_type": "stream",
     "text": [
      "                                                                                \r"
     ]
    }
   ],
   "source": [
    "dfGuests.show()"
   ]
  },
  {
   "cell_type": "code",
   "execution_count": 5,
   "id": "62793142-9143-4115-9bfb-46f65aa3143d",
   "metadata": {
    "scrolled": true
   },
   "outputs": [
    {
     "name": "stdout",
     "output_type": "stream",
     "text": [
      "+---+----------------------------------------------+------+---+-------------+----+\n",
      "|age|dept                                          |gender|id |name         |seat|\n",
      "+---+----------------------------------------------+------+---+-------------+----+\n",
      "|42 |Asian UN Corporation Finance Department       |M     |1  |Hyukjin Kwon |A51 |\n",
      "|50 |Hong-Kong IBM Science Department              |M     |2  |Takuya Ueshin|B12 |\n",
      "|61 |East Union Corp Inc Sales                     |F     |3  |Xinrong Meng |A11 |\n",
      "|27 |Indonisia State Budgets & Resources Department|M     |4  |Haejoon Lee  |C20 |\n",
      "+---+----------------------------------------------+------+---+-------------+----+\n",
      "\n"
     ]
    }
   ],
   "source": [
    "dfGuests.show(truncate=False)"
   ]
  },
  {
   "cell_type": "code",
   "execution_count": 6,
   "id": "b6527b7b-f4ce-4617-bc1e-60fb41d0e405",
   "metadata": {},
   "outputs": [
    {
     "name": "stdout",
     "output_type": "stream",
     "text": [
      "-RECORD 0------------------------------------------------\n",
      " age    | 42                                             \n",
      " dept   | Asian UN Corporation Finance Department        \n",
      " gender | M                                              \n",
      " id     | 1                                              \n",
      " name   | Hyukjin Kwon                                   \n",
      " seat   | A51                                            \n",
      "-RECORD 1------------------------------------------------\n",
      " age    | 50                                             \n",
      " dept   | Hong-Kong IBM Science Department               \n",
      " gender | M                                              \n",
      " id     | 2                                              \n",
      " name   | Takuya Ueshin                                  \n",
      " seat   | B12                                            \n",
      "-RECORD 2------------------------------------------------\n",
      " age    | 61                                             \n",
      " dept   | East Union Corp Inc Sales                      \n",
      " gender | F                                              \n",
      " id     | 3                                              \n",
      " name   | Xinrong Meng                                   \n",
      " seat   | A11                                            \n",
      "-RECORD 3------------------------------------------------\n",
      " age    | 27                                             \n",
      " dept   | Indonisia State Budgets & Resources Department \n",
      " gender | M                                              \n",
      " id     | 4                                              \n",
      " name   | Haejoon Lee                                    \n",
      " seat   | C20                                            \n",
      "\n"
     ]
    }
   ],
   "source": [
    "dfGuests.show(truncate=False, vertical=True)"
   ]
  },
  {
   "cell_type": "code",
   "execution_count": 5,
   "id": "92510d71-4695-44cb-9864-3a830e35fd94",
   "metadata": {},
   "outputs": [],
   "source": [
    "--\n",
    "spark.stop()"
   ]
  }
 ],
 "metadata": {
  "kernelspec": {
   "display_name": "Python 3 (ipykernel)",
   "language": "python",
   "name": "python3"
  },
  "language_info": {
   "codemirror_mode": {
    "name": "ipython",
    "version": 3
   },
   "file_extension": ".py",
   "mimetype": "text/x-python",
   "name": "python",
   "nbconvert_exporter": "python",
   "pygments_lexer": "ipython3",
   "version": "3.9.16"
  }
 },
 "nbformat": 4,
 "nbformat_minor": 5
}
