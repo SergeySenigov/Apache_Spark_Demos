{
 "cells": [
  {
   "cell_type": "code",
   "execution_count": null,
   "id": "8ce6b1dc-be57-4247-a04f-3344b4f0ca97",
   "metadata": {},
   "outputs": [],
   "source": [
    "import os\n",
    "\n",
    "from pyspark.sql import SparkSession\n",
    "from pyspark import SparkConf\n",
    "\n",
    "os.environ['HADOOP_CONF_DIR'] = '/etc/hadoop/conf'\n",
    "os.environ['YARN_CONF_DIR'] = '/etc/hadoop/conf'\n",
    "os.environ['PYSPARK_PYTHON'] =  'python3.9'\n",
    "os.environ['PYSPARK_DRIVER_PYTHON'] = 'python3.9'\n",
    "os.environ['HADOOP_USER_NAME']='ssenigov'"
   ]
  },
  {
   "cell_type": "code",
   "execution_count": null,
   "id": "db7c2edf-43ce-4a2e-ac39-be7a1964b3e8",
   "metadata": {
    "scrolled": true
   },
   "outputs": [],
   "source": [
    "conf = SparkConf().setAppName('Examine_Print_Opt').setMaster('local[1]')\\\n",
    "     .set(\"spark.executor.instances\", 1)\n",
    "spark = SparkSession.builder.config(conf=conf).getOrCreate()"
   ]
  },
  {
   "cell_type": "code",
   "execution_count": null,
   "id": "8ea0a247-d9f4-43a3-a1e8-5683d7f0abce",
   "metadata": {},
   "outputs": [],
   "source": [
    "dfGuests = spark.createDataFrame([\n",
    "    {\"id\": 1, \"age\": 42, \"name\": \"Hyukjin Kwon\", \"dept\": \"Asian UN Corporation Finance Department\", \"gender\": \"M\", \"seat\": \"A51\"},\n",
    "    {\"id\": 2, \"age\": 50, \"name\": \"Takuya Ueshin\", \"dept\": \"Hong-Kong IBM Science Department\", \"gender\": \"M\", \"seat\": \"B12\"},\n",
    "    {\"id\": 3, \"age\": 61, \"name\": \"Xinrong Meng\", \"dept\": \"East Union Corp Inc Sales\", \"gender\": \"F\", \"seat\": \"A11\"},\n",
    "    {\"id\": 4, \"age\": 27, \"name\": \"Haejoon Lee\", \"dept\": \"Indonisia State Budgets & Resources Department\", \"gender\": \"M\", \"seat\": \"C20\"}\n",
    "])"
   ]
  },
  {
   "cell_type": "code",
   "execution_count": null,
   "id": "0c7d1faf-e7c6-4614-a106-0e12aba483f4",
   "metadata": {},
   "outputs": [],
   "source": [
    "dfGuests.show()"
   ]
  },
  {
   "cell_type": "code",
   "execution_count": null,
   "id": "62793142-9143-4115-9bfb-46f65aa3143d",
   "metadata": {
    "scrolled": true
   },
   "outputs": [],
   "source": [
    "dfGuests.show(truncate=False)"
   ]
  },
  {
   "cell_type": "code",
   "execution_count": null,
   "id": "b6527b7b-f4ce-4617-bc1e-60fb41d0e405",
   "metadata": {},
   "outputs": [],
   "source": [
    "dfGuests.show(truncate=False, vertical=True)"
   ]
  },
  {
   "cell_type": "code",
   "execution_count": null,
   "id": "92510d71-4695-44cb-9864-3a830e35fd94",
   "metadata": {},
   "outputs": [],
   "source": [
    "--\n",
    "spark.stop()"
   ]
  }
 ],
 "metadata": {
  "kernelspec": {
   "display_name": "Python 3 (ipykernel)",
   "language": "python",
   "name": "python3"
  },
  "language_info": {
   "codemirror_mode": {
    "name": "ipython",
    "version": 3
   },
   "file_extension": ".py",
   "mimetype": "text/x-python",
   "name": "python",
   "nbconvert_exporter": "python",
   "pygments_lexer": "ipython3",
   "version": "3.9.16"
  }
 },
 "nbformat": 4,
 "nbformat_minor": 5
}
